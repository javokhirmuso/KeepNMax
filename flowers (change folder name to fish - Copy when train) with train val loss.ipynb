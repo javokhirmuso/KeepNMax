{
 "cells": [
  {
   "cell_type": "code",
   "execution_count": 1,
   "metadata": {},
   "outputs": [
    {
     "name": "stdout",
     "output_type": "stream",
     "text": [
      "2.10.0\n"
     ]
    }
   ],
   "source": [
    "from tensorflow.keras.datasets import cifar10, cifar100, fashion_mnist\n",
    "from tensorflow.keras.models import Sequential\n",
    "from tensorflow.keras.models import save_model, load_model\n",
    "from tensorflow.keras.layers import Dense, Flatten, Conv2D, MaxPooling2D, BatchNormalization, Reshape\n",
    "from tensorflow.keras.losses import sparse_categorical_crossentropy\n",
    "from tensorflow.keras.optimizers import Adam\n",
    "import matplotlib.pyplot as plt\n",
    "import tensorflow as tf\n",
    "# Model configuration\n",
    "batch_size = 500\n",
    "img_width, img_height, img_num_channels = 64, 64, 3\n",
    "loss_function = sparse_categorical_crossentropy\n",
    "no_classes = 5\n",
    "no_epochs = 10\n",
    "optimizer = Adam()\n",
    "validation_split = 0.1\n",
    "\n",
    "verbosity = 2\n",
    "test_size=800\n",
    "import tensorflow as tf\n",
    "from tensorflow.keras import Sequential\n",
    "from tensorflow.keras.layers import Flatten, Dense, Conv2D, MaxPool2D, Dropout\n",
    "\n",
    "from tensorflow.keras.preprocessing.image import ImageDataGenerator\n",
    "\n",
    "print(tf.__version__)\n",
    "\n",
    "\n",
    "#https://https://www.kaggle.com/alxmamaev/flowers-recognition\n",
    "\n"
   ]
  },
  {
   "cell_type": "code",
   "execution_count": 2,
   "metadata": {},
   "outputs": [
    {
     "name": "stdout",
     "output_type": "stream",
     "text": [
      "2.10.0\n"
     ]
    }
   ],
   "source": [
    "\n",
    "import tensorflow as tf\n",
    "from tensorflow.keras import Sequential\n",
    "from tensorflow.keras.layers import Flatten, Dense, Conv2D, MaxPool2D, Dropout\n",
    "\n",
    "from tensorflow.keras.preprocessing.image import ImageDataGenerator\n",
    "\n",
    "print(tf.__version__)"
   ]
  },
  {
   "cell_type": "code",
   "execution_count": 3,
   "metadata": {},
   "outputs": [],
   "source": [
    "# import tensorflow_datasets as tfds"
   ]
  },
  {
   "cell_type": "code",
   "execution_count": 4,
   "metadata": {},
   "outputs": [],
   "source": [
    "\n",
    "import numpy as np\n",
    "import matplotlib.pyplot as plt"
   ]
  },
  {
   "cell_type": "code",
   "execution_count": 25,
   "metadata": {},
   "outputs": [
    {
     "name": "stdout",
     "output_type": "stream",
     "text": [
      "Found 4317 images belonging to 5 classes.\n"
     ]
    }
   ],
   "source": [
    "img_width = 224\n",
    "img_height = 224\n",
    "datagen = ImageDataGenerator(rescale=1/255.0  )\n",
    "\n",
    "train_data_generator = datagen.flow_from_directory(directory='I:E/datasets/flowers',\n",
    "                                                   target_size = (img_width, img_height),\n",
    "                                                   class_mode = 'binary',\n",
    "                                                   batch_size =800,\n",
    "#                                                    subset = 'training',\n",
    "                                                   shuffle=True\n",
    "                                                   )"
   ]
  },
  {
   "cell_type": "code",
   "execution_count": 8,
   "metadata": {},
   "outputs": [
    {
     "name": "stdout",
     "output_type": "stream",
     "text": [
      "Found 1500 images belonging to 300 classes.\n"
     ]
    }
   ],
   "source": [
    "# img_width = 224\n",
    "# img_height = 224\n",
    "# datagen = ImageDataGenerator(rescale=1/255.0 )\n",
    "\n",
    "# validation_data_generator = datagen.flow_from_directory(directory='E:/datasets/birds/valid',\n",
    "#                                                    target_size = (img_width, img_height),\n",
    "#                                                    class_mode = 'binary',\n",
    "#                                                    batch_size = 1500,\n",
    "# #                                                    subset = 'training',\n",
    "#                                                    shuffle=True\n",
    "#                                                    )"
   ]
  },
  {
   "cell_type": "code",
   "execution_count": 12,
   "metadata": {},
   "outputs": [
    {
     "name": "stdout",
     "output_type": "stream",
     "text": [
      "Found 1500 images belonging to 300 classes.\n"
     ]
    }
   ],
   "source": [
    "# # img_width = 128\n",
    "# # img_height = 128\n",
    "# datagen = ImageDataGenerator(rescale=1/255.0 )\n",
    "\n",
    "# test_data_generator = datagen.flow_from_directory(directory='G:/datasets/birds/test',\n",
    "#                                                    target_size = (img_width, img_height),\n",
    "#                                                    class_mode = 'binary',\n",
    "#                                                    batch_size = 1500,\n",
    "#                                                    subset = 'training',\n",
    "#                                                    shuffle=True\n",
    "#                                                    )"
   ]
  },
  {
   "cell_type": "code",
   "execution_count": 26,
   "metadata": {},
   "outputs": [],
   "source": [
    "input_test, target_test =train_data_generator[0]\n",
    "# input_val, target_val =validation_data_generator[0]\n",
    "# input_test, target_test =test_data_generator[0]\n"
   ]
  },
  {
   "cell_type": "code",
   "execution_count": 20,
   "metadata": {},
   "outputs": [
    {
     "data": {
      "text/plain": [
       "(4317,)"
      ]
     },
     "execution_count": 20,
     "metadata": {},
     "output_type": "execute_result"
    }
   ],
   "source": [
    "target_train.shape\n"
   ]
  },
  {
   "cell_type": "code",
   "execution_count": 21,
   "metadata": {},
   "outputs": [],
   "source": [
    "input_test=input_train[-800:]\n",
    "target_test=target_train[-800:]\n",
    "input_train=input_train[:-800]\n",
    "target_train=target_train[:-800]\n"
   ]
  },
  {
   "cell_type": "code",
   "execution_count": 9,
   "metadata": {},
   "outputs": [
    {
     "data": {
      "text/plain": [
       "(800, 32, 32, 3)"
      ]
     },
     "execution_count": 9,
     "metadata": {},
     "output_type": "execute_result"
    }
   ],
   "source": [
    "input_test.shape"
   ]
  },
  {
   "cell_type": "code",
   "execution_count": 10,
   "metadata": {},
   "outputs": [
    {
     "data": {
      "text/plain": [
       "(3517, 32, 32, 3)"
      ]
     },
     "execution_count": 10,
     "metadata": {},
     "output_type": "execute_result"
    }
   ],
   "source": [
    "input_train.shape"
   ]
  },
  {
   "cell_type": "code",
   "execution_count": 11,
   "metadata": {},
   "outputs": [],
   "source": [
    "import numpy as np\n",
    "def accuracy_from_test(pred, target_test):\n",
    "    m=0\n",
    "    for i in range(test_size):\n",
    "        if np.argmax(pred[i], axis=-1)==int(target_test[i]):\n",
    "            m+=1\n",
    "    print(m/test_size)\n",
    "\n",
    "\n",
    "def define_space(pred1, pred2, target_test):\n",
    "    m=0\n",
    "    pred1_list=list()\n",
    "    pred2_list=list()\n",
    "    compare_list=list() \n",
    "    same_pred_id=list()\n",
    "    dif_pred_id=list()\n",
    "    \n",
    "    for i in range(test_size):\n",
    "        if np.argmax(pred1[i], axis=-1)==int(target_test[i]):\n",
    "            pred1_list.append(1)\n",
    "        else:\n",
    "            pred1_list.append(0)\n",
    "            \n",
    "        if np.argmax(pred2[i], axis=-1)==int(target_test[i]):\n",
    "            pred2_list.append(1)\n",
    "        else:\n",
    "            pred2_list.append(0)\n",
    "        if np.argmax(pred1[i], axis=-1)==np.argmax(pred2[i], axis=-1):\n",
    "            if np.argmax(pred1[i], axis=-1)==int(target_test[i]):\n",
    "                same_pred_id.append(i)\n",
    "            else:\n",
    "                dif_pred_id.append(i)\n",
    "    #return pred1_list, pred2_list\n",
    "\n",
    "    print(len(pred1_list), len(pred2_list))   \n",
    "    n=0\n",
    "    for i in pred1_list :\n",
    "        if i==1 and pred2_list[n]==0:\n",
    "            m+=1\n",
    "            n+=1\n",
    "        else:\n",
    "            n+=1\n",
    "    print(\"pred1 unique adnvantage\", m/test_size)"
   ]
  },
  {
   "cell_type": "code",
   "execution_count": 10,
   "metadata": {},
   "outputs": [],
   "source": [
    "from tensorflow.keras.metrics import TrueNegatives, TruePositives, Recall, Precision, Accuracy"
   ]
  },
  {
   "cell_type": "code",
   "execution_count": 13,
   "metadata": {},
   "outputs": [],
   "source": [
    "tf.random.set_seed(25)\n",
    "\n",
    "model = Sequential()\n",
    "\n",
    "model.add(Conv2D(32, kernel_size=(3, 3), activation='relu', input_shape=(img_width, img_height,3)))\n",
    "\n",
    "model.add(BatchNormalization())\n",
    "model.add(MaxPooling2D(pool_size=(2, 2)))\n",
    "model.add(Conv2D(64, kernel_size=(3, 3), activation='relu'))\n",
    "model.add(BatchNormalization())\n",
    "model.add(MaxPooling2D(pool_size=(2, 2)))\n",
    "model.add(Conv2D(128, kernel_size=(3, 3), activation='relu'))\n",
    "model.add(BatchNormalization())\n",
    "model.add(MaxPooling2D(pool_size=(2, 2)))\n",
    "model.add(Flatten())\n",
    "model.add(Dense(256, activation='relu'))\n",
    "model.add(Dense(128, activation='relu'))\n",
    "model.add(Dense(no_classes, activation='softmax'))"
   ]
  },
  {
   "cell_type": "code",
   "execution_count": 14,
   "metadata": {},
   "outputs": [
    {
     "name": "stdout",
     "output_type": "stream",
     "text": [
      ">0.244\n",
      ">0.281\n",
      ">0.241\n",
      ">0.338\n",
      ">0.497\n",
      ">0.648\n",
      ">0.753\n",
      ">0.852\n",
      ">0.869\n",
      ">0.898\n",
      "Estimated Accuracy 0.562 (0.259)\n",
      "25/25 [==============================] - 0s 2ms/step\n",
      "> 1: single=0.651, ensemble=0.651\n",
      "25/25 [==============================] - 0s 2ms/step\n",
      "25/25 [==============================] - 0s 2ms/step\n",
      "> 2: single=0.651, ensemble=0.651\n",
      "25/25 [==============================] - 0s 2ms/step\n",
      "25/25 [==============================] - 0s 1ms/step\n",
      "25/25 [==============================] - 0s 1ms/step\n",
      "> 3: single=0.651, ensemble=0.651\n",
      "25/25 [==============================] - 0s 1ms/step\n",
      "25/25 [==============================] - 0s 1ms/step\n",
      "25/25 [==============================] - 0s 2ms/step\n",
      "25/25 [==============================] - 0s 1ms/step\n",
      "> 4: single=0.651, ensemble=0.651\n",
      "25/25 [==============================] - 0s 2ms/step\n",
      "25/25 [==============================] - 0s 1ms/step\n",
      "25/25 [==============================] - 0s 1ms/step\n",
      "25/25 [==============================] - 0s 1ms/step\n",
      "25/25 [==============================] - 0s 3ms/step\n",
      "> 5: single=0.651, ensemble=0.651\n",
      "25/25 [==============================] - 0s 2ms/step\n",
      "25/25 [==============================] - 0s 2ms/step\n",
      "25/25 [==============================] - 0s 2ms/step\n",
      "25/25 [==============================] - 0s 2ms/step\n",
      "25/25 [==============================] - 0s 2ms/step\n",
      "25/25 [==============================] - 0s 2ms/step\n",
      "> 6: single=0.651, ensemble=0.651\n",
      "25/25 [==============================] - 0s 2ms/step\n",
      "25/25 [==============================] - 0s 2ms/step\n",
      "25/25 [==============================] - 0s 2ms/step\n",
      "25/25 [==============================] - 0s 2ms/step\n",
      "25/25 [==============================] - 0s 2ms/step\n",
      "25/25 [==============================] - 0s 2ms/step\n",
      "25/25 [==============================] - 0s 2ms/step\n",
      "> 7: single=0.651, ensemble=0.651\n",
      "25/25 [==============================] - 0s 2ms/step\n",
      "25/25 [==============================] - 0s 2ms/step\n",
      "25/25 [==============================] - 0s 2ms/step\n",
      "25/25 [==============================] - 0s 2ms/step\n",
      "25/25 [==============================] - 0s 2ms/step\n",
      "25/25 [==============================] - 0s 2ms/step\n",
      "25/25 [==============================] - 0s 2ms/step\n",
      "25/25 [==============================] - 0s 2ms/step\n",
      "> 8: single=0.651, ensemble=0.651\n",
      "25/25 [==============================] - 0s 2ms/step\n",
      "25/25 [==============================] - 0s 2ms/step\n",
      "25/25 [==============================] - 0s 2ms/step\n",
      "25/25 [==============================] - 0s 2ms/step\n",
      "25/25 [==============================] - 0s 2ms/step\n",
      "25/25 [==============================] - 0s 2ms/step\n",
      "25/25 [==============================] - 0s 2ms/step\n",
      "25/25 [==============================] - 0s 2ms/step\n",
      "25/25 [==============================] - 0s 2ms/step\n",
      "> 9: single=0.651, ensemble=0.651\n",
      "25/25 [==============================] - 0s 2ms/step\n",
      "25/25 [==============================] - 0s 2ms/step\n",
      "25/25 [==============================] - 0s 2ms/step\n",
      "25/25 [==============================] - 0s 2ms/step\n",
      "25/25 [==============================] - 0s 2ms/step\n",
      "25/25 [==============================] - 0s 2ms/step\n",
      "25/25 [==============================] - 0s 3ms/step\n",
      "25/25 [==============================] - 0s 3ms/step\n",
      "25/25 [==============================] - 0s 2ms/step\n",
      "25/25 [==============================] - 0s 2ms/step\n",
      "> 10: single=0.651, ensemble=0.651\n",
      "Accuracy 0.651 (0.000)\n"
     ]
    },
    {
     "data": {
      "image/png": "[encoded data removed]",
      "text/plain": [
       "<Figure size 640x480 with 1 Axes>"
      ]
     },
     "metadata": {},
     "output_type": "display_data"
    }
   ],
   "source": [
    "\n",
    "##############random split\n",
    "from sklearn.datasets import make_blobs\n",
    "from sklearn.model_selection import train_test_split\n",
    "from sklearn.metrics import accuracy_score\n",
    "from keras.utils import to_categorical\n",
    "from keras.models import Sequential\n",
    "from keras.layers import Dense\n",
    "from matplotlib import pyplot\n",
    "from numpy import mean\n",
    "from numpy import std\n",
    "import numpy\n",
    "from numpy import array\n",
    "from numpy import argmax\n",
    " \n",
    "# evaluate a single mlp model\n",
    "def evaluate_model(trainX, trainy, testX, testy):\n",
    "\t# encode targets\n",
    "\ttrainy_enc = to_categorical(trainy)\n",
    "\ttesty_enc = to_categorical(testy)\n",
    "\t# define model\n",
    "\t\n",
    "    \n",
    "\tmodel.compile(loss='categorical_crossentropy', optimizer='adam', metrics=['accuracy'])\n",
    "\t# fit model\n",
    "\tmodel.fit(trainX, trainy_enc, epochs=1, verbose=0, batch_size=32)\n",
    "\t# evaluate the model\n",
    "\t_, test_acc = model.evaluate(testX, testy_enc, verbose=0, batch_size=32)\n",
    "\treturn model, test_acc\n",
    " \n",
    "# make an ensemble prediction for multi-class classification\n",
    "def ensemble_predictions(members, testX):\n",
    "\t# make predictions\n",
    "\tyhats = [model.predict(testX) for model in members]\n",
    "\tyhats = array(yhats)\n",
    "\t# sum across ensemble members\n",
    "\tsummed = numpy.sum(yhats, axis=0)\n",
    "\t# argmax across classes\n",
    "\tresult = argmax(summed, axis=1)\n",
    "\treturn result\n",
    " \n",
    "# evaluate a specific number of members in an ensemble\n",
    "def evaluate_n_members(members, n_members, testX, testy):\n",
    "\t# select a subset of members\n",
    "\tsubset = members[:n_members]\n",
    "\t# make prediction\n",
    "\tyhat = ensemble_predictions(subset, testX)\n",
    "\t# calculate accuracy\n",
    "\treturn accuracy_score(testy, yhat)\n",
    " \n",
    "\n",
    "X, y  = input_train, target_train\n",
    "newX, newy = input_test, target_test  \n",
    "# multiple train-test splits\n",
    "n_splits = 10\n",
    "scores, members = list(), list()\n",
    "for _ in range(n_splits):\n",
    "\t# split data\n",
    "\ttrainX, testX, trainy, testy = train_test_split(X, y, test_size=0.10)\n",
    "\t# evaluate model\n",
    "\tmodel, test_acc = evaluate_model(trainX, trainy, testX, testy)\n",
    "\tprint('>%.3f' % test_acc)\n",
    "\tscores.append(test_acc)\n",
    "\tmembers.append(model)\n",
    "# summarize expected performance\n",
    "print('Estimated Accuracy %.3f (%.3f)' % (mean(scores), std(scores)))\n",
    "# evaluate different numbers of ensembles on hold out set\n",
    "single_scores, ensemble_scores = list(), list()\n",
    "for i in range(1, n_splits+1):\n",
    "\tensemble_score = evaluate_n_members(members, i, newX, newy)\n",
    "\tnewy_enc = to_categorical(newy)\n",
    "\t_, single_score = members[i-1].evaluate(newX, newy_enc, verbose=0)\n",
    "\tprint('> %d: single=%.3f, ensemble=%.3f' % (i, single_score, ensemble_score))\n",
    "\tensemble_scores.append(ensemble_score)\n",
    "\tsingle_scores.append(single_score)\n",
    "# plot score vs number of ensemble members\n",
    "print('Accuracy %.3f (%.3f)' % (mean(single_scores), std(single_scores)))\n",
    "x_axis = [i for i in range(1, n_splits+1)]\n",
    "pyplot.plot(x_axis, single_scores, marker='o', linestyle='None')\n",
    "pyplot.plot(x_axis, ensemble_scores, marker='o')\n",
    "pyplot.show()"
   ]
  },
  {
   "cell_type": "code",
   "execution_count": 15,
   "metadata": {},
   "outputs": [
    {
     "name": "stdout",
     "output_type": "stream",
     "text": [
      "25/25 [==============================] - 0s 2ms/step\n",
      "precision 0.9452888\n",
      "recall 0.9093567\n",
      "f1 0.9452888000202406\n"
     ]
    }
   ],
   "source": [
    "\n",
    "import numpy as np\n",
    "pred=model.predict(input_test)\n",
    "m=tf.keras.metrics.Precision()\n",
    "# x=a+c+b+ghhh\n",
    "pred=np.argmax(pred, axis=1)\n",
    "# x.shape\n",
    "m.update_state(pred, target_test)\n",
    "print(\"precision\", m.result().numpy())\n",
    "\n",
    "n=tf.keras.metrics.Recall()\n",
    "n.update_state(pred, target_test)\n",
    "print(\"recall\", n.result().numpy())\n",
    "\n",
    "\n",
    "print(\"f1\",2*(n.result().numpy()*m.result().numpy())/(n.result().numpy()+n.result().numpy()) )"
   ]
  },
  {
   "cell_type": "code",
   "execution_count": 12,
   "metadata": {},
   "outputs": [
    {
     "name": "stdout",
     "output_type": "stream",
     "text": [
      "Model: \"sequential\"\n",
      "_________________________________________________________________\n",
      " Layer (type)                Output Shape              Param #   \n",
      "=================================================================\n",
      " conv2d (Conv2D)             (None, 222, 222, 32)      896       \n",
      "                                                                 \n",
      " batch_normalization (BatchN  (None, 222, 222, 32)     128       \n",
      " ormalization)                                                   \n",
      "                                                                 \n",
      " max_pooling2d (MaxPooling2D  (None, 111, 111, 32)     0         \n",
      " )                                                               \n",
      "                                                                 \n",
      " conv2d_1 (Conv2D)           (None, 109, 109, 64)      18496     \n",
      "                                                                 \n",
      " batch_normalization_1 (Batc  (None, 109, 109, 64)     256       \n",
      " hNormalization)                                                 \n",
      "                                                                 \n",
      " max_pooling2d_1 (MaxPooling  (None, 54, 54, 64)       0         \n",
      " 2D)                                                             \n",
      "                                                                 \n",
      " conv2d_2 (Conv2D)           (None, 52, 52, 128)       73856     \n",
      "                                                                 \n",
      " batch_normalization_2 (Batc  (None, 52, 52, 128)      512       \n",
      " hNormalization)                                                 \n",
      "                                                                 \n",
      " max_pooling2d_2 (MaxPooling  (None, 26, 26, 128)      0         \n",
      " 2D)                                                             \n",
      "                                                                 \n",
      " flatten (Flatten)           (None, 86528)             0         \n",
      "                                                                 \n",
      " dense (Dense)               (None, 256)               22151424  \n",
      "                                                                 \n",
      " dense_1 (Dense)             (None, 128)               32896     \n",
      "                                                                 \n",
      " dense_2 (Dense)             (None, 5)                 645       \n",
      "                                                                 \n",
      "=================================================================\n",
      "Total params: 22,279,109\n",
      "Trainable params: 22,278,661\n",
      "Non-trainable params: 448\n",
      "_________________________________________________________________\n"
     ]
    }
   ],
   "source": [
    "model.summary()"
   ]
  },
  {
   "cell_type": "code",
   "execution_count": 13,
   "metadata": {},
   "outputs": [],
   "source": [
    "tf.random.set_seed(25)\n",
    "\n",
    "model.compile(loss=loss_function,\n",
    "              optimizer=optimizer,\n",
    "              metrics=['accuracy'])"
   ]
  },
  {
   "cell_type": "code",
   "execution_count": null,
   "metadata": {},
   "outputs": [
    {
     "name": "stdout",
     "output_type": "stream",
     "text": [
      "Epoch 1/75\n"
     ]
    }
   ],
   "source": [
    "\n",
    "history= model.fit(input_train, target_train,\n",
    "            batch_size=16,\n",
    "            epochs=75,\n",
    "            verbose=verbosity,\n",
    "            validation_split=validation_split,\n",
    "#                    callbacks=[model_checkpoint_callback]\n",
    "            )"
   ]
  },
  {
   "cell_type": "code",
   "execution_count": 18,
   "metadata": {},
   "outputs": [
    {
     "name": "stdout",
     "output_type": "stream",
     "text": [
      "Train on 3165 samples, validate on 352 samples\n",
      "Epoch 1/75\n",
      "WARNING:tensorflow:From C:\\Users\\dsh\\.conda\\envs\\ddd\\lib\\site-packages\\tensorflow_core\\python\\ops\\resource_variable_ops.py:1786: calling BaseResourceVariable.__init__ (from tensorflow.python.ops.resource_variable_ops) with constraint is deprecated and will be removed in a future version.\n",
      "Instructions for updating:\n",
      "If using Keras pass *_constraint arguments to layers.\n",
      "INFO:tensorflow:Assets written to: C:/Users/dsh/Desktop/Papers/paper3/fish - Copy/main_model\\assets\n",
      "3165/3165 - 4s - loss: 1.3870 - accuracy: 0.4919 - val_loss: 3.1568 - val_accuracy: 0.2386\n",
      "Epoch 2/75\n",
      "INFO:tensorflow:Assets written to: C:/Users/dsh/Desktop/Papers/paper3/fish - Copy/main_model\\assets\n",
      "3165/3165 - 3s - loss: 0.9916 - accuracy: 0.6155 - val_loss: 1.3764 - val_accuracy: 0.4432\n",
      "Epoch 3/75\n",
      "INFO:tensorflow:Assets written to: C:/Users/dsh/Desktop/Papers/paper3/fish - Copy/main_model\\assets\n",
      "3165/3165 - 3s - loss: 0.8466 - accuracy: 0.6891 - val_loss: 1.2503 - val_accuracy: 0.5199\n",
      "Epoch 4/75\n",
      "INFO:tensorflow:Assets written to: C:/Users/dsh/Desktop/Papers/paper3/fish - Copy/main_model\\assets\n",
      "3165/3165 - 3s - loss: 0.7308 - accuracy: 0.7368 - val_loss: 1.0271 - val_accuracy: 0.6364\n",
      "Epoch 5/75\n",
      "3165/3165 - 1s - loss: 0.5556 - accuracy: 0.7902 - val_loss: 1.1112 - val_accuracy: 0.6136\n",
      "Epoch 6/75\n",
      "INFO:tensorflow:Assets written to: C:/Users/dsh/Desktop/Papers/paper3/fish - Copy/main_model\\assets\n",
      "3165/3165 - 3s - loss: 0.3778 - accuracy: 0.8603 - val_loss: 1.0299 - val_accuracy: 0.6648\n",
      "Epoch 7/75\n",
      "3165/3165 - 1s - loss: 0.3155 - accuracy: 0.8935 - val_loss: 1.0932 - val_accuracy: 0.6506\n",
      "Epoch 8/75\n",
      "3165/3165 - 1s - loss: 0.2043 - accuracy: 0.9264 - val_loss: 1.5769 - val_accuracy: 0.5767\n",
      "Epoch 9/75\n",
      "3165/3165 - 1s - loss: 0.1329 - accuracy: 0.9624 - val_loss: 1.5327 - val_accuracy: 0.6506\n",
      "Epoch 10/75\n",
      "3165/3165 - 1s - loss: 0.1920 - accuracy: 0.9352 - val_loss: 1.5938 - val_accuracy: 0.6108\n",
      "Epoch 11/75\n",
      "INFO:tensorflow:Assets written to: C:/Users/dsh/Desktop/Papers/paper3/fish - Copy/main_model\\assets\n",
      "3165/3165 - 2s - loss: 0.1605 - accuracy: 0.9419 - val_loss: 1.4155 - val_accuracy: 0.7017\n",
      "Epoch 12/75\n",
      "3165/3165 - 1s - loss: 0.0994 - accuracy: 0.9687 - val_loss: 1.4549 - val_accuracy: 0.6903\n",
      "Epoch 13/75\n",
      "3165/3165 - 1s - loss: 0.1017 - accuracy: 0.9687 - val_loss: 1.4823 - val_accuracy: 0.6591\n",
      "Epoch 14/75\n",
      "3165/3165 - 1s - loss: 0.1089 - accuracy: 0.9592 - val_loss: 1.4896 - val_accuracy: 0.6392\n",
      "Epoch 15/75\n",
      "3165/3165 - 1s - loss: 0.0973 - accuracy: 0.9687 - val_loss: 1.4711 - val_accuracy: 0.6506\n",
      "Epoch 16/75\n",
      "3165/3165 - 1s - loss: 0.0941 - accuracy: 0.9678 - val_loss: 1.5930 - val_accuracy: 0.6903\n",
      "Epoch 17/75\n",
      "3165/3165 - 1s - loss: 0.0798 - accuracy: 0.9788 - val_loss: 1.4516 - val_accuracy: 0.6705\n",
      "Epoch 18/75\n",
      "3165/3165 - 1s - loss: 0.0624 - accuracy: 0.9798 - val_loss: 1.4878 - val_accuracy: 0.6790\n",
      "Epoch 19/75\n",
      "3165/3165 - 1s - loss: 0.0738 - accuracy: 0.9769 - val_loss: 1.9045 - val_accuracy: 0.6420\n",
      "Epoch 20/75\n",
      "3165/3165 - 1s - loss: 0.0846 - accuracy: 0.9725 - val_loss: 1.9593 - val_accuracy: 0.6506\n",
      "Epoch 21/75\n",
      "3165/3165 - 1s - loss: 0.0602 - accuracy: 0.9839 - val_loss: 2.0370 - val_accuracy: 0.6449\n",
      "Epoch 22/75\n",
      "3165/3165 - 1s - loss: 0.0545 - accuracy: 0.9829 - val_loss: 1.7174 - val_accuracy: 0.6676\n",
      "Epoch 23/75\n",
      "3165/3165 - 1s - loss: 0.0686 - accuracy: 0.9804 - val_loss: 1.4565 - val_accuracy: 0.6989\n",
      "Epoch 24/75\n",
      "3165/3165 - 1s - loss: 0.0199 - accuracy: 0.9962 - val_loss: 1.6949 - val_accuracy: 0.6790\n",
      "Epoch 25/75\n",
      "3165/3165 - 1s - loss: 0.0455 - accuracy: 0.9833 - val_loss: 1.8202 - val_accuracy: 0.6562\n",
      "Epoch 26/75\n",
      "3165/3165 - 1s - loss: 0.0857 - accuracy: 0.9747 - val_loss: 1.6519 - val_accuracy: 0.6506\n",
      "Epoch 27/75\n",
      "3165/3165 - 1s - loss: 0.1254 - accuracy: 0.9596 - val_loss: 1.4805 - val_accuracy: 0.6960\n",
      "Epoch 28/75\n",
      "3165/3165 - 1s - loss: 0.0494 - accuracy: 0.9848 - val_loss: 1.8827 - val_accuracy: 0.6761\n",
      "Epoch 29/75\n",
      "3165/3165 - 1s - loss: 0.0379 - accuracy: 0.9886 - val_loss: 1.8777 - val_accuracy: 0.6619\n",
      "Epoch 30/75\n",
      "3165/3165 - 1s - loss: 0.0555 - accuracy: 0.9795 - val_loss: 1.6451 - val_accuracy: 0.6591\n",
      "Epoch 31/75\n",
      "3165/3165 - 1s - loss: 0.0418 - accuracy: 0.9867 - val_loss: 1.6618 - val_accuracy: 0.6761\n",
      "Epoch 32/75\n",
      "3165/3165 - 1s - loss: 0.0409 - accuracy: 0.9883 - val_loss: 1.8859 - val_accuracy: 0.6790\n",
      "Epoch 33/75\n",
      "3165/3165 - 1s - loss: 0.0428 - accuracy: 0.9899 - val_loss: 1.9972 - val_accuracy: 0.6335\n",
      "Epoch 34/75\n",
      "3165/3165 - 1s - loss: 0.0076 - accuracy: 0.9978 - val_loss: 1.7108 - val_accuracy: 0.6818\n",
      "Epoch 35/75\n",
      "3165/3165 - 1s - loss: 0.0052 - accuracy: 0.9978 - val_loss: 1.6981 - val_accuracy: 0.6903\n",
      "Epoch 36/75\n",
      "3165/3165 - 1s - loss: 0.0060 - accuracy: 0.9984 - val_loss: 1.7532 - val_accuracy: 0.6932\n",
      "Epoch 37/75\n",
      "3165/3165 - 1s - loss: 0.0041 - accuracy: 0.9987 - val_loss: 1.6753 - val_accuracy: 0.6960\n",
      "Epoch 38/75\n",
      "INFO:tensorflow:Assets written to: C:/Users/dsh/Desktop/Papers/paper3/fish - Copy/main_model\\assets\n",
      "3165/3165 - 2s - loss: 0.0032 - accuracy: 0.9984 - val_loss: 1.6344 - val_accuracy: 0.7074\n",
      "Epoch 39/75\n",
      "3165/3165 - 1s - loss: 0.0035 - accuracy: 0.9984 - val_loss: 1.7644 - val_accuracy: 0.6960\n",
      "Epoch 40/75\n",
      "3165/3165 - 1s - loss: 0.1228 - accuracy: 0.9662 - val_loss: 3.0039 - val_accuracy: 0.4915\n",
      "Epoch 41/75\n",
      "3165/3165 - 1s - loss: 0.1978 - accuracy: 0.9400 - val_loss: 2.7576 - val_accuracy: 0.5938\n",
      "Epoch 42/75\n",
      "3165/3165 - 1s - loss: 0.0811 - accuracy: 0.9757 - val_loss: 1.9239 - val_accuracy: 0.6619\n",
      "Epoch 43/75\n",
      "3165/3165 - 1s - loss: 0.0480 - accuracy: 0.9823 - val_loss: 2.1122 - val_accuracy: 0.6847\n",
      "Epoch 44/75\n",
      "3165/3165 - 1s - loss: 0.0415 - accuracy: 0.9867 - val_loss: 1.7046 - val_accuracy: 0.6847\n",
      "Epoch 45/75\n",
      "3165/3165 - 1s - loss: 0.0243 - accuracy: 0.9915 - val_loss: 2.0240 - val_accuracy: 0.6534\n",
      "Epoch 46/75\n",
      "3165/3165 - 1s - loss: 0.0217 - accuracy: 0.9924 - val_loss: 2.1682 - val_accuracy: 0.6506\n",
      "Epoch 47/75\n",
      "3165/3165 - 1s - loss: 0.0293 - accuracy: 0.9912 - val_loss: 2.1811 - val_accuracy: 0.6733\n",
      "Epoch 48/75\n",
      "3165/3165 - 1s - loss: 0.0183 - accuracy: 0.9927 - val_loss: 2.0098 - val_accuracy: 0.6875\n",
      "Epoch 49/75\n",
      "3165/3165 - 1s - loss: 0.0157 - accuracy: 0.9927 - val_loss: 2.2394 - val_accuracy: 0.6648\n",
      "Epoch 50/75\n",
      "3165/3165 - 1s - loss: 0.0159 - accuracy: 0.9946 - val_loss: 2.5349 - val_accuracy: 0.6534\n",
      "Epoch 51/75\n",
      "3165/3165 - 1s - loss: 0.0566 - accuracy: 0.9845 - val_loss: 2.5406 - val_accuracy: 0.6420\n",
      "Epoch 52/75\n",
      "3165/3165 - 1s - loss: 0.0671 - accuracy: 0.9791 - val_loss: 2.0306 - val_accuracy: 0.6733\n",
      "Epoch 53/75\n",
      "3165/3165 - 1s - loss: 0.0351 - accuracy: 0.9880 - val_loss: 1.5929 - val_accuracy: 0.6847\n",
      "Epoch 54/75\n",
      "INFO:tensorflow:Assets written to: C:/Users/dsh/Desktop/Papers/paper3/fish - Copy/main_model\\assets\n",
      "3165/3165 - 2s - loss: 0.0158 - accuracy: 0.9940 - val_loss: 1.4330 - val_accuracy: 0.7330\n",
      "Epoch 55/75\n",
      "3165/3165 - 1s - loss: 0.0234 - accuracy: 0.9924 - val_loss: 2.0796 - val_accuracy: 0.6790\n",
      "Epoch 56/75\n",
      "3165/3165 - 1s - loss: 0.0335 - accuracy: 0.9921 - val_loss: 2.3756 - val_accuracy: 0.6335\n",
      "Epoch 57/75\n",
      "3165/3165 - 1s - loss: 0.0263 - accuracy: 0.9908 - val_loss: 2.6765 - val_accuracy: 0.6506\n",
      "Epoch 58/75\n",
      "3165/3165 - 1s - loss: 0.0275 - accuracy: 0.9908 - val_loss: 2.0852 - val_accuracy: 0.6534\n",
      "Epoch 59/75\n",
      "3165/3165 - 1s - loss: 0.0319 - accuracy: 0.9899 - val_loss: 1.8323 - val_accuracy: 0.6932\n",
      "Epoch 60/75\n",
      "3165/3165 - 1s - loss: 0.0470 - accuracy: 0.9861 - val_loss: 2.3751 - val_accuracy: 0.6449\n",
      "Epoch 61/75\n",
      "3165/3165 - 1s - loss: 0.0359 - accuracy: 0.9886 - val_loss: 2.2841 - val_accuracy: 0.6733\n",
      "Epoch 62/75\n",
      "3165/3165 - 1s - loss: 0.0294 - accuracy: 0.9902 - val_loss: 2.3802 - val_accuracy: 0.6676\n",
      "Epoch 63/75\n",
      "3165/3165 - 1s - loss: 0.0471 - accuracy: 0.9864 - val_loss: 1.8812 - val_accuracy: 0.6989\n",
      "Epoch 64/75\n",
      "3165/3165 - 1s - loss: 0.0332 - accuracy: 0.9915 - val_loss: 2.1732 - val_accuracy: 0.6903\n",
      "Epoch 65/75\n",
      "3165/3165 - 1s - loss: 0.0400 - accuracy: 0.9886 - val_loss: 1.8155 - val_accuracy: 0.6903\n",
      "Epoch 66/75\n",
      "3165/3165 - 1s - loss: 0.0294 - accuracy: 0.9893 - val_loss: 2.2540 - val_accuracy: 0.6790\n",
      "Epoch 67/75\n",
      "3165/3165 - 1s - loss: 0.0219 - accuracy: 0.9930 - val_loss: 2.1905 - val_accuracy: 0.6875\n",
      "Epoch 68/75\n",
      "3165/3165 - 1s - loss: 0.0233 - accuracy: 0.9899 - val_loss: 2.7287 - val_accuracy: 0.6278\n"
     ]
    },
    {
     "name": "stdout",
     "output_type": "stream",
     "text": [
      "Epoch 69/75\n",
      "3165/3165 - 1s - loss: 0.0413 - accuracy: 0.9870 - val_loss: 2.4417 - val_accuracy: 0.6449\n",
      "Epoch 70/75\n",
      "3165/3165 - 1s - loss: 0.0474 - accuracy: 0.9861 - val_loss: 2.4161 - val_accuracy: 0.6506\n",
      "Epoch 71/75\n",
      "3165/3165 - 1s - loss: 0.0427 - accuracy: 0.9864 - val_loss: 2.9154 - val_accuracy: 0.6250\n",
      "Epoch 72/75\n",
      "3165/3165 - 1s - loss: 0.0287 - accuracy: 0.9908 - val_loss: 2.6002 - val_accuracy: 0.6903\n",
      "Epoch 73/75\n",
      "3165/3165 - 1s - loss: 0.0447 - accuracy: 0.9877 - val_loss: 2.7716 - val_accuracy: 0.6193\n",
      "Epoch 74/75\n",
      "3165/3165 - 1s - loss: 0.0158 - accuracy: 0.9924 - val_loss: 2.5273 - val_accuracy: 0.6307\n",
      "Epoch 75/75\n",
      "3165/3165 - 1s - loss: 0.0142 - accuracy: 0.9949 - val_loss: 2.3496 - val_accuracy: 0.6648\n"
     ]
    }
   ],
   "source": [
    "tf.random.set_seed(25)\n",
    "\n",
    "model_checkpoint_callback = tf.keras.callbacks.ModelCheckpoint(\n",
    "    filepath=\"C:/Users/dsh/Desktop/Papers/paper3/fish - Copy/main_model\",\n",
    "    save_weights_only=False,\n",
    "    monitor='val_accuracy',\n",
    "    mode='max',\n",
    "    save_best_only=True)\n",
    "\n",
    "history= model.fit(input_train, target_train,\n",
    "            batch_size=16,\n",
    "            epochs=75,\n",
    "            verbose=verbosity,\n",
    "            validation_split=validation_split,\n",
    "                   callbacks=[model_checkpoint_callback]\n",
    "            )"
   ]
  },
  {
   "cell_type": "code",
   "execution_count": 19,
   "metadata": {},
   "outputs": [
    {
     "data": {
      "text/plain": [
       "[0.49194312,\n",
       " 0.61548185,\n",
       " 0.68909955,\n",
       " 0.73680884,\n",
       " 0.79020536,\n",
       " 0.86034757,\n",
       " 0.8935229,\n",
       " 0.9263823,\n",
       " 0.9624013,\n",
       " 0.93522906,\n",
       " 0.94186413,\n",
       " 0.9687204,\n",
       " 0.9687204,\n",
       " 0.9592417,\n",
       " 0.9687204,\n",
       " 0.9677725,\n",
       " 0.978831,\n",
       " 0.9797788,\n",
       " 0.9769352,\n",
       " 0.9725118,\n",
       " 0.98388624,\n",
       " 0.9829384,\n",
       " 0.98041075,\n",
       " 0.99620855,\n",
       " 0.9832544,\n",
       " 0.9747235,\n",
       " 0.95955765,\n",
       " 0.98483413,\n",
       " 0.9886256,\n",
       " 0.97946286,\n",
       " 0.98672986,\n",
       " 0.9883096,\n",
       " 0.98988944,\n",
       " 0.9977883,\n",
       " 0.9977883,\n",
       " 0.99842024,\n",
       " 0.9987362,\n",
       " 0.99842024,\n",
       " 0.99842024,\n",
       " 0.9661927,\n",
       " 0.9399684,\n",
       " 0.9756714,\n",
       " 0.9823065,\n",
       " 0.98672986,\n",
       " 0.9914692,\n",
       " 0.99241704,\n",
       " 0.99115324,\n",
       " 0.992733,\n",
       " 0.992733,\n",
       " 0.9946287,\n",
       " 0.9845182,\n",
       " 0.9791469,\n",
       " 0.98799366,\n",
       " 0.99399686,\n",
       " 0.99241704,\n",
       " 0.99210113,\n",
       " 0.9908373,\n",
       " 0.9908373,\n",
       " 0.98988944,\n",
       " 0.98609793,\n",
       " 0.9886256,\n",
       " 0.99020535,\n",
       " 0.9864139,\n",
       " 0.9914692,\n",
       " 0.9886256,\n",
       " 0.9892575,\n",
       " 0.99304897,\n",
       " 0.98988944,\n",
       " 0.9870458,\n",
       " 0.98609793,\n",
       " 0.9864139,\n",
       " 0.9908373,\n",
       " 0.98767775,\n",
       " 0.99241704,\n",
       " 0.9949447]"
      ]
     },
     "execution_count": 19,
     "metadata": {},
     "output_type": "execute_result"
    }
   ],
   "source": [
    "history.history['accuracy']"
   ]
  },
  {
   "cell_type": "code",
   "execution_count": 20,
   "metadata": {},
   "outputs": [
    {
     "data": {
      "text/plain": [
       "[0.23863636,\n",
       " 0.4431818,\n",
       " 0.5198864,\n",
       " 0.6363636,\n",
       " 0.6136364,\n",
       " 0.66477275,\n",
       " 0.6505682,\n",
       " 0.57670456,\n",
       " 0.6505682,\n",
       " 0.61079544,\n",
       " 0.70170456,\n",
       " 0.69034094,\n",
       " 0.65909094,\n",
       " 0.63920456,\n",
       " 0.6505682,\n",
       " 0.69034094,\n",
       " 0.67045456,\n",
       " 0.67897725,\n",
       " 0.64204544,\n",
       " 0.6505682,\n",
       " 0.6448864,\n",
       " 0.6676136,\n",
       " 0.6988636,\n",
       " 0.67897725,\n",
       " 0.65625,\n",
       " 0.6505682,\n",
       " 0.69602275,\n",
       " 0.6761364,\n",
       " 0.6619318,\n",
       " 0.65909094,\n",
       " 0.6761364,\n",
       " 0.67897725,\n",
       " 0.63352275,\n",
       " 0.6818182,\n",
       " 0.69034094,\n",
       " 0.6931818,\n",
       " 0.69602275,\n",
       " 0.7073864,\n",
       " 0.69602275,\n",
       " 0.49147728,\n",
       " 0.59375,\n",
       " 0.6619318,\n",
       " 0.68465906,\n",
       " 0.68465906,\n",
       " 0.65340906,\n",
       " 0.6505682,\n",
       " 0.67329544,\n",
       " 0.6875,\n",
       " 0.66477275,\n",
       " 0.65340906,\n",
       " 0.64204544,\n",
       " 0.67329544,\n",
       " 0.68465906,\n",
       " 0.73295456,\n",
       " 0.67897725,\n",
       " 0.63352275,\n",
       " 0.6505682,\n",
       " 0.65340906,\n",
       " 0.6931818,\n",
       " 0.6448864,\n",
       " 0.67329544,\n",
       " 0.6676136,\n",
       " 0.6988636,\n",
       " 0.69034094,\n",
       " 0.69034094,\n",
       " 0.67897725,\n",
       " 0.6875,\n",
       " 0.62784094,\n",
       " 0.6448864,\n",
       " 0.6505682,\n",
       " 0.625,\n",
       " 0.69034094,\n",
       " 0.6193182,\n",
       " 0.6306818,\n",
       " 0.66477275]"
      ]
     },
     "execution_count": 20,
     "metadata": {},
     "output_type": "execute_result"
    }
   ],
   "source": [
    "history.history[\"val_accuracy\"]"
   ]
  },
  {
   "cell_type": "code",
   "execution_count": 21,
   "metadata": {},
   "outputs": [
    {
     "data": {
      "text/plain": [
       "[3.156785639849576,\n",
       " 1.3763858865607868,\n",
       " 1.2503064437346025,\n",
       " 1.0270703082734889,\n",
       " 1.111207127571106,\n",
       " 1.0299454683607274,\n",
       " 1.093212440609932,\n",
       " 1.5769122486764735,\n",
       " 1.5326725989580154,\n",
       " 1.593833091584119,\n",
       " 1.415500220927325,\n",
       " 1.4548708430745385,\n",
       " 1.4822755354371937,\n",
       " 1.489586201581088,\n",
       " 1.4710976671088825,\n",
       " 1.592993063005534,\n",
       " 1.4515661624344913,\n",
       " 1.4878499480811032,\n",
       " 1.9045133929360996,\n",
       " 1.9592698365449905,\n",
       " 2.0370216830210253,\n",
       " 1.7173781665888699,\n",
       " 1.4565127302299847,\n",
       " 1.69491585818204,\n",
       " 1.8201730847358704,\n",
       " 1.6518698768182234,\n",
       " 1.4805481826717204,\n",
       " 1.8827129710804333,\n",
       " 1.8776529336517507,\n",
       " 1.645110314542597,\n",
       " 1.661801210858605,\n",
       " 1.8858709281141108,\n",
       " 1.99718700484796,\n",
       " 1.7108262736688962,\n",
       " 1.6981125175952911,\n",
       " 1.753182946958325,\n",
       " 1.6753400259397246,\n",
       " 1.6344086703929035,\n",
       " 1.7644455080682582,\n",
       " 3.003860181028193,\n",
       " 2.7575789310715417,\n",
       " 1.923931442878463,\n",
       " 2.1121650609103115,\n",
       " 1.704562682658434,\n",
       " 2.0240428230979224,\n",
       " 2.1681977178562772,\n",
       " 2.1810832253911276,\n",
       " 2.0097502849318762,\n",
       " 2.2393902011893014,\n",
       " 2.534929394721985,\n",
       " 2.540608051148328,\n",
       " 2.030629492618821,\n",
       " 1.5929355810989032,\n",
       " 1.432983311739835,\n",
       " 2.0796273431994696,\n",
       " 2.375626349991018,\n",
       " 2.6764540672302246,\n",
       " 2.085168472745202,\n",
       " 1.832265016707507,\n",
       " 2.3751026798378336,\n",
       " 2.2840877480127593,\n",
       " 2.38019998236136,\n",
       " 1.881229574030096,\n",
       " 2.173207938671112,\n",
       " 1.815470190210776,\n",
       " 2.2539987835017117,\n",
       " 2.1904686012051324,\n",
       " 2.728722724047574,\n",
       " 2.4416568035429176,\n",
       " 2.4161029295487837,\n",
       " 2.9154336777600376,\n",
       " 2.6002178435975853,\n",
       " 2.771610742265528,\n",
       " 2.5273249691182915,\n",
       " 2.3495636243711817]"
      ]
     },
     "execution_count": 21,
     "metadata": {},
     "output_type": "execute_result"
    }
   ],
   "source": [
    "history.history['val_loss']"
   ]
  },
  {
   "cell_type": "code",
   "execution_count": 22,
   "metadata": {},
   "outputs": [
    {
     "data": {
      "text/plain": [
       "[1.3869765830077643,\n",
       " 0.9915974568793371,\n",
       " 0.846575526942574,\n",
       " 0.7307536935730945,\n",
       " 0.555628916701246,\n",
       " 0.3778044951188056,\n",
       " 0.31548062647217634,\n",
       " 0.20426864084474283,\n",
       " 0.13294440608406896,\n",
       " 0.1919762622523835,\n",
       " 0.16051596781183006,\n",
       " 0.09943298490167747,\n",
       " 0.10172943301531258,\n",
       " 0.10891245334081082,\n",
       " 0.09727681752994632,\n",
       " 0.0940627436814197,\n",
       " 0.07980405998579558,\n",
       " 0.062448584054939534,\n",
       " 0.07384746122125413,\n",
       " 0.08457074417625253,\n",
       " 0.060152021176726106,\n",
       " 0.05448580414025881,\n",
       " 0.06860975796013988,\n",
       " 0.019876418960660308,\n",
       " 0.0455124896361035,\n",
       " 0.08574118148336866,\n",
       " 0.12535138627783488,\n",
       " 0.049387953858410626,\n",
       " 0.03786849118555833,\n",
       " 0.0555426412809524,\n",
       " 0.041849336261136606,\n",
       " 0.04090071654121581,\n",
       " 0.042797490589888576,\n",
       " 0.007608448759774791,\n",
       " 0.005200970465419255,\n",
       " 0.0059658894277085615,\n",
       " 0.004112015478442856,\n",
       " 0.003174253599658155,\n",
       " 0.003457107970178036,\n",
       " 0.12279694426942851,\n",
       " 0.197752553241042,\n",
       " 0.08109412848891316,\n",
       " 0.048024359703799424,\n",
       " 0.04148770554504447,\n",
       " 0.024315141907699418,\n",
       " 0.02170116026173913,\n",
       " 0.02928241287781283,\n",
       " 0.018298814013558234,\n",
       " 0.015705666829561194,\n",
       " 0.015900311067259667,\n",
       " 0.056636366743476385,\n",
       " 0.0670554571665583,\n",
       " 0.03514285090888941,\n",
       " 0.01575906731671384,\n",
       " 0.023351143437659233,\n",
       " 0.033494219750552244,\n",
       " 0.026285939820124223,\n",
       " 0.02751788243575849,\n",
       " 0.03191007321925652,\n",
       " 0.04702695330245543,\n",
       " 0.03591682740377984,\n",
       " 0.029393649458137872,\n",
       " 0.04713979834019974,\n",
       " 0.03318652936769032,\n",
       " 0.039985880380953104,\n",
       " 0.029350123572687934,\n",
       " 0.02193758125690944,\n",
       " 0.023333879239427015,\n",
       " 0.04133947889754489,\n",
       " 0.047394172493522645,\n",
       " 0.04265392760158363,\n",
       " 0.02868585151354723,\n",
       " 0.044682386044055285,\n",
       " 0.015849360509320044,\n",
       " 0.014205120848160691]"
      ]
     },
     "execution_count": 22,
     "metadata": {},
     "output_type": "execute_result"
    }
   ],
   "source": [
    "history.history['loss']"
   ]
  },
  {
   "cell_type": "code",
   "execution_count": null,
   "metadata": {},
   "outputs": [],
   "source": []
  },
  {
   "cell_type": "code",
   "execution_count": null,
   "metadata": {},
   "outputs": [],
   "source": []
  },
  {
   "cell_type": "code",
   "execution_count": null,
   "metadata": {},
   "outputs": [],
   "source": []
  },
  {
   "cell_type": "code",
   "execution_count": 16,
   "metadata": {},
   "outputs": [],
   "source": [
    "model=load_model(\"D:/Users/dsh/Desktop/Papers/paper3/fish - Copy/main_model/\")"
   ]
  },
  {
   "cell_type": "code",
   "execution_count": 22,
   "metadata": {},
   "outputs": [
    {
     "name": "stdout",
     "output_type": "stream",
     "text": [
      "25/25 [==============================] - 0s 4ms/step\n",
      "800\n"
     ]
    }
   ],
   "source": [
    "a=model.predict(input_test)\n",
    "print(len(a))"
   ]
  },
  {
   "cell_type": "code",
   "execution_count": 22,
   "metadata": {},
   "outputs": [
    {
     "name": "stdout",
     "output_type": "stream",
     "text": [
      "0.93125\n"
     ]
    }
   ],
   "source": [
    "accuracy_from_test(a, target_test)"
   ]
  },
  {
   "cell_type": "code",
   "execution_count": 23,
   "metadata": {},
   "outputs": [
    {
     "name": "stdout",
     "output_type": "stream",
     "text": [
      "25/25 [==============================] - 0s 12ms/step\n",
      "precision 0.47049925\n",
      "recall 0.7913486\n",
      "f1 0.470499244311017\n"
     ]
    }
   ],
   "source": [
    "\n",
    "import numpy as np\n",
    "pred=model.predict(input_test)\n",
    "m=tf.keras.metrics.Precision()\n",
    "# x=a+c+b+ghhh\n",
    "pred=np.argmax(pred, axis=1)\n",
    "# x.shape\n",
    "m.update_state(pred, target_test)\n",
    "print(\"precision\", m.result().numpy())\n",
    "\n",
    "n=tf.keras.metrics.Recall()\n",
    "n.update_state(pred, target_test)\n",
    "print(\"recall\", n.result().numpy())\n",
    "\n",
    "\n",
    "print(\"f1\",2*(n.result().numpy()*m.result().numpy())/(n.result().numpy()+n.result().numpy()) )"
   ]
  },
  {
   "cell_type": "code",
   "execution_count": 26,
   "metadata": {},
   "outputs": [],
   "source": [
    "##########################################################################################"
   ]
  },
  {
   "cell_type": "code",
   "execution_count": 27,
   "metadata": {},
   "outputs": [],
   "source": [
    "tf.random.set_seed(25)\n",
    "\n",
    "model1 = Sequential()\n",
    "model1.add(Reshape((img_width, img_height,1), input_shape=(img_width, img_height)))\n",
    "model1.add(Conv2D(32, kernel_size=(3, 3), activation='relu'))\n",
    "\n",
    "model1.add(BatchNormalization())\n",
    "model1.add(MaxPooling2D(pool_size=(2, 2)))\n",
    "model1.add(Conv2D(64, kernel_size=(3, 3), activation='relu'))\n",
    "model1.add(BatchNormalization())\n",
    "model1.add(MaxPooling2D(pool_size=(2, 2)))\n",
    "model1.add(Conv2D(128, kernel_size=(3, 3), activation='relu'))\n",
    "model1.add(BatchNormalization())\n",
    "model1.add(MaxPooling2D(pool_size=(2, 2)))\n",
    "model1.add(Flatten())\n",
    "model1.add(Dense(256, activation='relu'))\n",
    "model1.add(Dense(128, activation='relu'))\n",
    "model1.add(Dense(no_classes, activation='softmax'))"
   ]
  },
  {
   "cell_type": "code",
   "execution_count": 28,
   "metadata": {},
   "outputs": [],
   "source": [
    "tf.random.set_seed(25)\n",
    "model1.compile(loss=loss_function,\n",
    "              optimizer=optimizer,\n",
    "              metrics=['accuracy'])"
   ]
  },
  {
   "cell_type": "code",
   "execution_count": null,
   "metadata": {},
   "outputs": [],
   "source": []
  },
  {
   "cell_type": "code",
   "execution_count": null,
   "metadata": {},
   "outputs": [],
   "source": []
  },
  {
   "cell_type": "code",
   "execution_count": null,
   "metadata": {},
   "outputs": [],
   "source": []
  },
  {
   "cell_type": "code",
   "execution_count": null,
   "metadata": {},
   "outputs": [],
   "source": [
    "\n"
   ]
  },
  {
   "cell_type": "code",
   "execution_count": 29,
   "metadata": {
    "scrolled": true
   },
   "outputs": [
    {
     "name": "stdout",
     "output_type": "stream",
     "text": [
      "Train on 3165 samples, validate on 352 samples\n",
      "Epoch 1/25\n",
      "INFO:tensorflow:Assets written to: C:/Users/dsh/Desktop/Papers/paper3/fish - Copy/model1_1\\assets\n",
      "3165/3165 - 3s - loss: 2.2542 - accuracy: 0.2882 - val_loss: 1.6819 - val_accuracy: 0.2841\n",
      "Epoch 2/25\n",
      "INFO:tensorflow:Assets written to: C:/Users/dsh/Desktop/Papers/paper3/fish - Copy/model1_1\\assets\n",
      "3165/3165 - 3s - loss: 1.5292 - accuracy: 0.3292 - val_loss: 1.5793 - val_accuracy: 0.3210\n",
      "Epoch 3/25\n",
      "INFO:tensorflow:Assets written to: C:/Users/dsh/Desktop/Papers/paper3/fish - Copy/model1_1\\assets\n",
      "3165/3165 - 3s - loss: 1.4781 - accuracy: 0.3618 - val_loss: 1.5311 - val_accuracy: 0.3636\n",
      "Epoch 4/25\n",
      "INFO:tensorflow:Assets written to: C:/Users/dsh/Desktop/Papers/paper3/fish - Copy/model1_1\\assets\n",
      "3165/3165 - 3s - loss: 1.4545 - accuracy: 0.3700 - val_loss: 1.4462 - val_accuracy: 0.4034\n",
      "Epoch 5/25\n",
      "INFO:tensorflow:Assets written to: C:/Users/dsh/Desktop/Papers/paper3/fish - Copy/model1_1\\assets\n",
      "3165/3165 - 3s - loss: 1.4007 - accuracy: 0.4095 - val_loss: 1.4858 - val_accuracy: 0.4091\n",
      "Epoch 6/25\n",
      "3165/3165 - 1s - loss: 1.3553 - accuracy: 0.4319 - val_loss: 1.4834 - val_accuracy: 0.3778\n",
      "Epoch 7/25\n",
      "INFO:tensorflow:Assets written to: C:/Users/dsh/Desktop/Papers/paper3/fish - Copy/model1_1\\assets\n",
      "3165/3165 - 2s - loss: 1.3016 - accuracy: 0.4556 - val_loss: 1.4071 - val_accuracy: 0.4148\n",
      "Epoch 8/25\n",
      "INFO:tensorflow:Assets written to: C:/Users/dsh/Desktop/Papers/paper3/fish - Copy/model1_1\\assets\n",
      "3165/3165 - 3s - loss: 1.2394 - accuracy: 0.4844 - val_loss: 1.4323 - val_accuracy: 0.4318\n",
      "Epoch 9/25\n",
      "3165/3165 - 1s - loss: 1.1445 - accuracy: 0.5273 - val_loss: 1.4402 - val_accuracy: 0.4261\n",
      "Epoch 10/25\n",
      "INFO:tensorflow:Assets written to: C:/Users/dsh/Desktop/Papers/paper3/fish - Copy/model1_1\\assets\n",
      "3165/3165 - 3s - loss: 1.0540 - accuracy: 0.5709 - val_loss: 1.5086 - val_accuracy: 0.4602\n",
      "Epoch 11/25\n",
      "INFO:tensorflow:Assets written to: C:/Users/dsh/Desktop/Papers/paper3/fish - Copy/model1_1\\assets\n",
      "3165/3165 - 3s - loss: 0.9469 - accuracy: 0.6177 - val_loss: 1.4652 - val_accuracy: 0.4858\n",
      "Epoch 12/25\n",
      "3165/3165 - 1s - loss: 0.8292 - accuracy: 0.6730 - val_loss: 1.6766 - val_accuracy: 0.3778\n",
      "Epoch 13/25\n",
      "INFO:tensorflow:Assets written to: C:/Users/dsh/Desktop/Papers/paper3/fish - Copy/model1_1\\assets\n",
      "3165/3165 - 3s - loss: 0.7406 - accuracy: 0.7134 - val_loss: 1.5546 - val_accuracy: 0.4943\n",
      "Epoch 14/25\n",
      "3165/3165 - 1s - loss: 0.5730 - accuracy: 0.7798 - val_loss: 2.1654 - val_accuracy: 0.4602\n",
      "Epoch 15/25\n",
      "3165/3165 - 1s - loss: 0.4709 - accuracy: 0.8174 - val_loss: 1.6990 - val_accuracy: 0.4886\n",
      "Epoch 16/25\n",
      "3165/3165 - 1s - loss: 0.3462 - accuracy: 0.8720 - val_loss: 1.9529 - val_accuracy: 0.4915\n",
      "Epoch 17/25\n",
      "INFO:tensorflow:Assets written to: C:/Users/dsh/Desktop/Papers/paper3/fish - Copy/model1_1\\assets\n",
      "3165/3165 - 3s - loss: 0.3340 - accuracy: 0.8784 - val_loss: 1.8576 - val_accuracy: 0.5284\n",
      "Epoch 18/25\n",
      "3165/3165 - 1s - loss: 0.2251 - accuracy: 0.9220 - val_loss: 2.2321 - val_accuracy: 0.5114\n",
      "Epoch 19/25\n",
      "3165/3165 - 1s - loss: 0.1972 - accuracy: 0.9251 - val_loss: 2.1447 - val_accuracy: 0.5000\n",
      "Epoch 20/25\n",
      "3165/3165 - 1s - loss: 0.1576 - accuracy: 0.9469 - val_loss: 2.4655 - val_accuracy: 0.4432\n",
      "Epoch 21/25\n",
      "3165/3165 - 1s - loss: 0.1125 - accuracy: 0.9640 - val_loss: 4.2753 - val_accuracy: 0.4091\n",
      "Epoch 22/25\n",
      "3165/3165 - 1s - loss: 0.0896 - accuracy: 0.9649 - val_loss: 2.5762 - val_accuracy: 0.5057\n",
      "Epoch 23/25\n",
      "3165/3165 - 1s - loss: 0.0960 - accuracy: 0.9678 - val_loss: 2.8397 - val_accuracy: 0.5057\n",
      "Epoch 24/25\n",
      "3165/3165 - 1s - loss: 0.0967 - accuracy: 0.9656 - val_loss: 2.9814 - val_accuracy: 0.4148\n",
      "Epoch 25/25\n",
      "3165/3165 - 1s - loss: 0.1121 - accuracy: 0.9618 - val_loss: 3.4777 - val_accuracy: 0.4403\n"
     ]
    }
   ],
   "source": [
    "tf.random.set_seed(25)\n",
    "\n",
    "model_checkpoint_callback1 = tf.keras.callbacks.ModelCheckpoint(\n",
    "    filepath=\"C:/Users/dsh/Desktop/Papers/paper3/fish - Copy/model1_1\",\n",
    "    save_weights_only=False,\n",
    "    monitor='val_accuracy',\n",
    "    mode='max',\n",
    "    save_best_only=True)\n",
    "\n",
    "history1_1 = model1.fit(input_train[:,:,:,0], target_train,\n",
    "            batch_size=16,\n",
    "            epochs=25,\n",
    "            verbose=verbosity,\n",
    "            validation_split=validation_split,\n",
    "                       callbacks=[model_checkpoint_callback1])\n",
    "\n",
    "\n",
    "\n",
    "model1.save('model1_1.h5')\n",
    "\n",
    "\n"
   ]
  },
  {
   "cell_type": "code",
   "execution_count": 30,
   "metadata": {},
   "outputs": [
    {
     "data": {
      "text/plain": [
       "[2.2541570831060787,\n",
       " 1.5291500288539965,\n",
       " 1.4780872892617802,\n",
       " 1.45447208926576,\n",
       " 1.4006883613682848,\n",
       " 1.3553487689197534,\n",
       " 1.3016428830687656,\n",
       " 1.239377709399279,\n",
       " 1.1445240089302002,\n",
       " 1.0540257281413388,\n",
       " 0.9469043391575745,\n",
       " 0.8292205493032084,\n",
       " 0.7405559204389323,\n",
       " 0.5730452330850688,\n",
       " 0.4708509779842732,\n",
       " 0.34618967605804757,\n",
       " 0.33402819724821176,\n",
       " 0.2251259283902709,\n",
       " 0.19715206973831423,\n",
       " 0.15762219978923103,\n",
       " 0.11247018262814572,\n",
       " 0.08964253009295482,\n",
       " 0.0960142975805495,\n",
       " 0.09672938590695696,\n",
       " 0.11210028132038283]"
      ]
     },
     "execution_count": 30,
     "metadata": {},
     "output_type": "execute_result"
    }
   ],
   "source": [
    "history1_1.history[\"loss\"]"
   ]
  },
  {
   "cell_type": "code",
   "execution_count": 31,
   "metadata": {},
   "outputs": [
    {
     "data": {
      "text/plain": [
       "[0.28815165,\n",
       " 0.3292259,\n",
       " 0.36176935,\n",
       " 0.3699842,\n",
       " 0.40947866,\n",
       " 0.43191153,\n",
       " 0.45560822,\n",
       " 0.4843602,\n",
       " 0.52733016,\n",
       " 0.5709321,\n",
       " 0.61769354,\n",
       " 0.6729858,\n",
       " 0.71342814,\n",
       " 0.77977884,\n",
       " 0.81737757,\n",
       " 0.8720379,\n",
       " 0.87835705,\n",
       " 0.9219589,\n",
       " 0.9251185,\n",
       " 0.94691944,\n",
       " 0.96398103,\n",
       " 0.9649289,\n",
       " 0.9677725,\n",
       " 0.9655608,\n",
       " 0.96176934]"
      ]
     },
     "execution_count": 31,
     "metadata": {},
     "output_type": "execute_result"
    }
   ],
   "source": [
    "history1_1.history[\"accuracy\"]"
   ]
  },
  {
   "cell_type": "code",
   "execution_count": 32,
   "metadata": {},
   "outputs": [
    {
     "data": {
      "text/plain": [
       "[0.2840909,\n",
       " 0.32102272,\n",
       " 0.36363637,\n",
       " 0.4034091,\n",
       " 0.4090909,\n",
       " 0.3778409,\n",
       " 0.41477272,\n",
       " 0.4318182,\n",
       " 0.42613637,\n",
       " 0.46022728,\n",
       " 0.48579547,\n",
       " 0.3778409,\n",
       " 0.4943182,\n",
       " 0.46022728,\n",
       " 0.48863637,\n",
       " 0.49147728,\n",
       " 0.52840906,\n",
       " 0.5113636,\n",
       " 0.5,\n",
       " 0.4431818,\n",
       " 0.4090909,\n",
       " 0.5056818,\n",
       " 0.5056818,\n",
       " 0.41477272,\n",
       " 0.4403409]"
      ]
     },
     "execution_count": 32,
     "metadata": {},
     "output_type": "execute_result"
    }
   ],
   "source": [
    "history1_1.history[\"val_accuracy\"]"
   ]
  },
  {
   "cell_type": "code",
   "execution_count": 33,
   "metadata": {},
   "outputs": [
    {
     "data": {
      "text/plain": [
       "[1.6818851232528687,\n",
       " 1.5793334679170088,\n",
       " 1.531105014410886,\n",
       " 1.4462168270891362,\n",
       " 1.485829765146429,\n",
       " 1.4833523956212131,\n",
       " 1.4071207154880871,\n",
       " 1.432276563210921,\n",
       " 1.4402317892421375,\n",
       " 1.5085968971252441,\n",
       " 1.4652475741776554,\n",
       " 1.676587234843861,\n",
       " 1.5545853674411774,\n",
       " 2.165426882830533,\n",
       " 1.6990168067541989,\n",
       " 1.9529371938922189,\n",
       " 1.8576238507574254,\n",
       " 2.232106303626841,\n",
       " 2.144687294960022,\n",
       " 2.465528141368519,\n",
       " 4.275287324732,\n",
       " 2.5761550095948307,\n",
       " 2.839659414508126,\n",
       " 2.981373656879772,\n",
       " 3.4776936661113393]"
      ]
     },
     "execution_count": 33,
     "metadata": {},
     "output_type": "execute_result"
    }
   ],
   "source": [
    "history1_1.history[\"val_loss\"]"
   ]
  },
  {
   "cell_type": "code",
   "execution_count": 34,
   "metadata": {},
   "outputs": [],
   "source": [
    "model1_1_max=load_model(\"C:/Users/dsh/Desktop/Papers/paper3/fish - Copy/model1_1\")"
   ]
  },
  {
   "cell_type": "code",
   "execution_count": 35,
   "metadata": {},
   "outputs": [],
   "source": [
    "pred1_1=model1_1_max.predict(input_test[:,:,:,0])\n"
   ]
  },
  {
   "cell_type": "code",
   "execution_count": 36,
   "metadata": {},
   "outputs": [
    {
     "name": "stdout",
     "output_type": "stream",
     "text": [
      "0.47\n"
     ]
    }
   ],
   "source": [
    "accuracy_from_test(pred1_1, target_test)"
   ]
  },
  {
   "cell_type": "code",
   "execution_count": 37,
   "metadata": {
    "scrolled": true
   },
   "outputs": [
    {
     "name": "stdout",
     "output_type": "stream",
     "text": [
      "WARNING:tensorflow:Error in loading the saved optimizer state. As a result, your model is starting with a freshly initialized optimizer.\n",
      "Train on 3165 samples, validate on 352 samples\n",
      "Epoch 1/5\n",
      "INFO:tensorflow:Assets written to: C:/Users/dsh/Desktop/Papers/paper3/fish - Copy/model1_2\\assets\n",
      "3165/3165 - 3s - loss: 0.0882 - accuracy: 0.9690 - val_loss: 2.9674 - val_accuracy: 0.4830\n",
      "Epoch 2/5\n",
      "3165/3165 - 1s - loss: 0.0933 - accuracy: 0.9681 - val_loss: 3.2174 - val_accuracy: 0.4801\n",
      "Epoch 3/5\n",
      "3165/3165 - 1s - loss: 0.0507 - accuracy: 0.9839 - val_loss: 3.2507 - val_accuracy: 0.4659\n",
      "Epoch 4/5\n",
      "INFO:tensorflow:Assets written to: C:/Users/dsh/Desktop/Papers/paper3/fish - Copy/model1_2\\assets\n",
      "3165/3165 - 3s - loss: 0.0667 - accuracy: 0.9785 - val_loss: 3.4568 - val_accuracy: 0.4886\n",
      "Epoch 5/5\n",
      "3165/3165 - 1s - loss: 0.0347 - accuracy: 0.9880 - val_loss: 3.9601 - val_accuracy: 0.4716\n"
     ]
    }
   ],
   "source": [
    "\n",
    "model1_2=load_model('model1_1.h5')\n",
    "\n",
    "model_checkpoint_callback1_2 = tf.keras.callbacks.ModelCheckpoint(\n",
    "    filepath=\"C:/Users/dsh/Desktop/Papers/paper3/fish - Copy/model1_2\",\n",
    "    save_weights_only=False,\n",
    "    monitor='val_accuracy',\n",
    "    mode='max',\n",
    "    save_best_only=True)\n",
    " \n",
    "\n",
    "history1_2=model1_2.fit(input_train[:,:,:,0], target_train,\n",
    "            batch_size=16,\n",
    "            epochs=5,\n",
    "            verbose=2,\n",
    "            validation_split=validation_split,\n",
    "                        callbacks=[model_checkpoint_callback1_2]\n",
    "                  )\n",
    "\n",
    "model1_2.save('model1_2.h5')\n",
    "\n"
   ]
  },
  {
   "cell_type": "code",
   "execution_count": 38,
   "metadata": {},
   "outputs": [],
   "source": [
    "model1_2_max=load_model('C:/Users/dsh/Desktop/Papers/paper3/fish - Copy/model1_2')\n",
    "pred1_2=model1_2_max.predict(input_test[:,:,:,0])"
   ]
  },
  {
   "cell_type": "code",
   "execution_count": 39,
   "metadata": {},
   "outputs": [
    {
     "name": "stdout",
     "output_type": "stream",
     "text": [
      "0.45375\n"
     ]
    }
   ],
   "source": [
    "accuracy_from_test(pred1_2, target_test)"
   ]
  },
  {
   "cell_type": "code",
   "execution_count": 40,
   "metadata": {},
   "outputs": [
    {
     "name": "stdout",
     "output_type": "stream",
     "text": [
      "Train on 3165 samples, validate on 352 samples\n",
      "Epoch 1/10\n",
      "INFO:tensorflow:Assets written to: C:/Users/dsh/Desktop/Papers/paper3/fish - Copy/model1_3\\assets\n",
      "3165/3165 - 3s - loss: 0.0730 - accuracy: 0.9754 - val_loss: 4.0326 - val_accuracy: 0.4460\n",
      "Epoch 2/10\n",
      "INFO:tensorflow:Assets written to: C:/Users/dsh/Desktop/Papers/paper3/fish - Copy/model1_3\\assets\n",
      "3165/3165 - 3s - loss: 0.1024 - accuracy: 0.9665 - val_loss: 3.6690 - val_accuracy: 0.4943\n",
      "Epoch 3/10\n",
      "3165/3165 - 1s - loss: 0.0743 - accuracy: 0.9722 - val_loss: 4.1377 - val_accuracy: 0.4261\n",
      "Epoch 4/10\n",
      "INFO:tensorflow:Assets written to: C:/Users/dsh/Desktop/Papers/paper3/fish - Copy/model1_3\\assets\n",
      "3165/3165 - 3s - loss: 0.0370 - accuracy: 0.9896 - val_loss: 3.4784 - val_accuracy: 0.4972\n",
      "Epoch 5/10\n",
      "3165/3165 - 1s - loss: 0.0190 - accuracy: 0.9940 - val_loss: 4.0998 - val_accuracy: 0.4688\n",
      "Epoch 6/10\n",
      "3165/3165 - 1s - loss: 0.0126 - accuracy: 0.9965 - val_loss: 3.9138 - val_accuracy: 0.4943\n",
      "Epoch 7/10\n",
      "3165/3165 - 1s - loss: 0.0218 - accuracy: 0.9921 - val_loss: 4.9839 - val_accuracy: 0.4318\n",
      "Epoch 8/10\n",
      "3165/3165 - 1s - loss: 0.1384 - accuracy: 0.9643 - val_loss: 4.6319 - val_accuracy: 0.4006\n",
      "Epoch 9/10\n",
      "3165/3165 - 1s - loss: 0.0884 - accuracy: 0.9703 - val_loss: 3.8927 - val_accuracy: 0.4659\n",
      "Epoch 10/10\n",
      "INFO:tensorflow:Assets written to: C:/Users/dsh/Desktop/Papers/paper3/fish - Copy/model1_3\\assets\n",
      "3165/3165 - 2s - loss: 0.0463 - accuracy: 0.9848 - val_loss: 3.8066 - val_accuracy: 0.5057\n"
     ]
    }
   ],
   "source": [
    "model1_3=load_model('model1_2.h5')\n",
    "\n",
    "model_checkpoint_callback1_3 = tf.keras.callbacks.ModelCheckpoint(\n",
    "    filepath=\"C:/Users/dsh/Desktop/Papers/paper3/fish - Copy/model1_3\",\n",
    "    save_weights_only=False,\n",
    "    monitor='val_accuracy',\n",
    "    mode='max',\n",
    "    save_best_only=True)\n",
    "\n",
    "\n",
    "\n",
    "history1_3 = model1_3.fit(input_train[:,:,:,0], target_train,\n",
    "            batch_size=16,\n",
    "            epochs=10,\n",
    "            verbose=2,\n",
    "            validation_split=validation_split,\n",
    "                          \n",
    "callbacks=[model_checkpoint_callback1_3])\n",
    "\n",
    "model1_3.save('model1_3.h5')\n",
    "\n",
    "model1_3_max=load_model(\"C:/Users/dsh/Desktop/Papers/paper3/fish - Copy/model1_3\")\n",
    "pred1_3=model1_3_max.predict(input_test[:,:,:,0])"
   ]
  },
  {
   "cell_type": "code",
   "execution_count": 41,
   "metadata": {},
   "outputs": [
    {
     "name": "stdout",
     "output_type": "stream",
     "text": [
      "0.4775\n"
     ]
    }
   ],
   "source": [
    "accuracy_from_test(pred1_3, target_test)"
   ]
  },
  {
   "cell_type": "code",
   "execution_count": 42,
   "metadata": {},
   "outputs": [
    {
     "name": "stdout",
     "output_type": "stream",
     "text": [
      "Train on 3165 samples, validate on 352 samples\n",
      "Epoch 1/15\n",
      "INFO:tensorflow:Assets written to: C:/Users/dsh/Desktop/Papers/paper3/fish - Copy/model1_4\\assets\n",
      "3165/3165 - 3s - loss: 0.0355 - accuracy: 0.9893 - val_loss: 3.3811 - val_accuracy: 0.4915\n",
      "Epoch 2/15\n",
      "3165/3165 - 1s - loss: 0.0259 - accuracy: 0.9899 - val_loss: 3.8077 - val_accuracy: 0.4716\n",
      "Epoch 3/15\n",
      "3165/3165 - 1s - loss: 0.0195 - accuracy: 0.9930 - val_loss: 3.7285 - val_accuracy: 0.4915\n",
      "Epoch 4/15\n",
      "3165/3165 - 1s - loss: 0.0154 - accuracy: 0.9940 - val_loss: 4.2899 - val_accuracy: 0.4602\n",
      "Epoch 5/15\n",
      "INFO:tensorflow:Assets written to: C:/Users/dsh/Desktop/Papers/paper3/fish - Copy/model1_4\\assets\n",
      "3165/3165 - 2s - loss: 0.0267 - accuracy: 0.9918 - val_loss: 3.7712 - val_accuracy: 0.5000\n",
      "Epoch 6/15\n",
      "3165/3165 - 1s - loss: 0.0278 - accuracy: 0.9880 - val_loss: 6.1388 - val_accuracy: 0.4176\n",
      "Epoch 7/15\n",
      "3165/3165 - 1s - loss: 0.0724 - accuracy: 0.9795 - val_loss: 3.9251 - val_accuracy: 0.4631\n",
      "Epoch 8/15\n",
      "3165/3165 - 1s - loss: 0.0459 - accuracy: 0.9842 - val_loss: 3.4499 - val_accuracy: 0.4744\n",
      "Epoch 9/15\n",
      "3165/3165 - 1s - loss: 0.0352 - accuracy: 0.9889 - val_loss: 3.9989 - val_accuracy: 0.4119\n",
      "Epoch 10/15\n",
      "3165/3165 - 1s - loss: 0.0333 - accuracy: 0.9902 - val_loss: 5.2624 - val_accuracy: 0.4148\n",
      "Epoch 11/15\n",
      "3165/3165 - 1s - loss: 0.0256 - accuracy: 0.9899 - val_loss: 4.6070 - val_accuracy: 0.4432\n",
      "Epoch 12/15\n",
      "3165/3165 - 1s - loss: 0.0349 - accuracy: 0.9899 - val_loss: 4.7834 - val_accuracy: 0.4489\n",
      "Epoch 13/15\n",
      "3165/3165 - 1s - loss: 0.0323 - accuracy: 0.9902 - val_loss: 3.4877 - val_accuracy: 0.4858\n",
      "Epoch 14/15\n",
      "3165/3165 - 1s - loss: 0.0331 - accuracy: 0.9880 - val_loss: 3.9210 - val_accuracy: 0.4517\n",
      "Epoch 15/15\n",
      "3165/3165 - 1s - loss: 0.0296 - accuracy: 0.9893 - val_loss: 3.4849 - val_accuracy: 0.4659\n"
     ]
    }
   ],
   "source": [
    "model1_4=load_model('model1_3.h5')\n",
    "\n",
    "model_checkpoint_callback1_4 = tf.keras.callbacks.ModelCheckpoint(\n",
    "    filepath=\"C:/Users/dsh/Desktop/Papers/paper3/fish - Copy/model1_4\",\n",
    "    save_weights_only=False,\n",
    "    monitor='val_accuracy',\n",
    "    mode='max',\n",
    "    save_best_only=True)\n",
    " \n",
    "\n",
    "history1_4 = model1_4.fit(input_train[:,:,:,0], target_train,\n",
    "            batch_size=16,\n",
    "            epochs=15,\n",
    "            verbose=2,\n",
    "            validation_split=validation_split,\n",
    "                         callbacks=[model_checkpoint_callback1_4])\n",
    "model1_4.save('model1_4.h5')\n"
   ]
  },
  {
   "cell_type": "code",
   "execution_count": 43,
   "metadata": {},
   "outputs": [],
   "source": [
    "model1_4_max=load_model(\"C:/Users/dsh/Desktop/Papers/paper3/fish - Copy/model1_4\")\n",
    "pred1_4=model1_4_max.predict(input_test[:,:,:,0])"
   ]
  },
  {
   "cell_type": "code",
   "execution_count": 44,
   "metadata": {},
   "outputs": [
    {
     "name": "stdout",
     "output_type": "stream",
     "text": [
      "0.47875\n"
     ]
    }
   ],
   "source": [
    "accuracy_from_test(pred1_4, target_test)"
   ]
  },
  {
   "cell_type": "code",
   "execution_count": 45,
   "metadata": {
    "scrolled": true
   },
   "outputs": [
    {
     "name": "stdout",
     "output_type": "stream",
     "text": [
      "Train on 3165 samples, validate on 352 samples\n",
      "Epoch 1/20\n",
      "INFO:tensorflow:Assets written to: C:/Users/dsh/Desktop/Papers/paper3/fish - Copy/model1_5\\assets\n",
      "3165/3165 - 3s - loss: 0.0327 - accuracy: 0.9896 - val_loss: 4.3829 - val_accuracy: 0.4545\n",
      "Epoch 2/20\n",
      "3165/3165 - 1s - loss: 0.0464 - accuracy: 0.9893 - val_loss: 6.1549 - val_accuracy: 0.4205\n",
      "Epoch 3/20\n",
      "3165/3165 - 1s - loss: 0.0468 - accuracy: 0.9839 - val_loss: 4.2961 - val_accuracy: 0.4261\n",
      "Epoch 4/20\n",
      "INFO:tensorflow:Assets written to: C:/Users/dsh/Desktop/Papers/paper3/fish - Copy/model1_5\\assets\n",
      "3165/3165 - 3s - loss: 0.0397 - accuracy: 0.9864 - val_loss: 3.9061 - val_accuracy: 0.4943\n",
      "Epoch 5/20\n",
      "INFO:tensorflow:Assets written to: C:/Users/dsh/Desktop/Papers/paper3/fish - Copy/model1_5\\assets\n",
      "3165/3165 - 2s - loss: 0.0202 - accuracy: 0.9927 - val_loss: 3.8066 - val_accuracy: 0.5028\n",
      "Epoch 6/20\n",
      "3165/3165 - 1s - loss: 0.0187 - accuracy: 0.9918 - val_loss: 4.2561 - val_accuracy: 0.4688\n",
      "Epoch 7/20\n",
      "3165/3165 - 1s - loss: 0.0315 - accuracy: 0.9912 - val_loss: 3.9110 - val_accuracy: 0.4886\n",
      "Epoch 8/20\n",
      "3165/3165 - 1s - loss: 0.0166 - accuracy: 0.9937 - val_loss: 3.9763 - val_accuracy: 0.4830\n",
      "Epoch 9/20\n",
      "3165/3165 - 1s - loss: 0.0109 - accuracy: 0.9968 - val_loss: 4.3443 - val_accuracy: 0.4318\n",
      "Epoch 10/20\n",
      "3165/3165 - 1s - loss: 0.0080 - accuracy: 0.9965 - val_loss: 4.0134 - val_accuracy: 0.5000\n",
      "Epoch 11/20\n",
      "3165/3165 - 1s - loss: 0.0176 - accuracy: 0.9949 - val_loss: 5.3323 - val_accuracy: 0.3892\n",
      "Epoch 12/20\n",
      "3165/3165 - 1s - loss: 0.0256 - accuracy: 0.9918 - val_loss: 5.7295 - val_accuracy: 0.3693\n",
      "Epoch 13/20\n",
      "3165/3165 - 1s - loss: 0.0223 - accuracy: 0.9921 - val_loss: 5.0299 - val_accuracy: 0.4489\n",
      "Epoch 14/20\n",
      "3165/3165 - 1s - loss: 0.0197 - accuracy: 0.9924 - val_loss: 5.0259 - val_accuracy: 0.4574\n",
      "Epoch 15/20\n",
      "3165/3165 - 1s - loss: 0.0399 - accuracy: 0.9880 - val_loss: 5.6099 - val_accuracy: 0.4176\n",
      "Epoch 16/20\n",
      "3165/3165 - 1s - loss: 0.0467 - accuracy: 0.9858 - val_loss: 7.6519 - val_accuracy: 0.3693\n",
      "Epoch 17/20\n",
      "3165/3165 - 1s - loss: 0.0442 - accuracy: 0.9877 - val_loss: 4.9566 - val_accuracy: 0.4489\n",
      "Epoch 18/20\n",
      "3165/3165 - 1s - loss: 0.0487 - accuracy: 0.9877 - val_loss: 4.6007 - val_accuracy: 0.4574\n",
      "Epoch 19/20\n",
      "3165/3165 - 1s - loss: 0.0554 - accuracy: 0.9833 - val_loss: 6.5419 - val_accuracy: 0.4205\n",
      "Epoch 20/20\n",
      "3165/3165 - 1s - loss: 0.0136 - accuracy: 0.9940 - val_loss: 4.4694 - val_accuracy: 0.4943\n"
     ]
    }
   ],
   "source": [
    "model1_5=load_model('model1_4.h5')\n",
    "\n",
    "model_checkpoint_callback1_5 = tf.keras.callbacks.ModelCheckpoint(\n",
    "    filepath=\"C:/Users/dsh/Desktop/Papers/paper3/fish - Copy/model1_5\",\n",
    "    save_weights_only=False,\n",
    "    monitor='val_accuracy',\n",
    "    mode='max',\n",
    "    save_best_only=True)\n",
    "\n",
    "\n",
    "\n",
    "history1_5 = model1_5.fit(input_train[:,:,:,0], target_train,\n",
    "            batch_size=16,\n",
    "            epochs=20,\n",
    "            verbose=2,\n",
    "            validation_split=validation_split,\n",
    "                         callbacks=[model_checkpoint_callback1_5])\n",
    "model1_5.save('model1_5.h5')\n",
    "\n"
   ]
  },
  {
   "cell_type": "code",
   "execution_count": 46,
   "metadata": {},
   "outputs": [],
   "source": [
    "model1_5_max=load_model(\"C:/Users/dsh/Desktop/Papers/paper3/fish - Copy/model1_5\")\n",
    "pred1_5=model1_5_max.predict(input_test[:,:,:,0])"
   ]
  },
  {
   "cell_type": "code",
   "execution_count": 47,
   "metadata": {
    "scrolled": true
   },
   "outputs": [
    {
     "name": "stdout",
     "output_type": "stream",
     "text": [
      "0.47375\n"
     ]
    }
   ],
   "source": [
    "accuracy_from_test(pred1_5, target_test)"
   ]
  },
  {
   "cell_type": "code",
   "execution_count": 27,
   "metadata": {},
   "outputs": [
    {
     "name": "stdout",
     "output_type": "stream",
     "text": [
      "WARNING:tensorflow:SavedModel saved prior to TF 2.5 detected when loading Keras model. Please ensure that you are saving the model with model.save() or tf.keras.models.save_model(), *NOT* tf.saved_model.save(). To confirm, there should be a file named \"keras_metadata.pb\" in the SavedModel directory.\n",
      "25/25 [==============================] - 1s 7ms/step\n",
      "WARNING:tensorflow:SavedModel saved prior to TF 2.5 detected when loading Keras model. Please ensure that you are saving the model with model.save() or tf.keras.models.save_model(), *NOT* tf.saved_model.save(). To confirm, there should be a file named \"keras_metadata.pb\" in the SavedModel directory.\n",
      "25/25 [==============================] - 0s 7ms/step\n",
      "WARNING:tensorflow:SavedModel saved prior to TF 2.5 detected when loading Keras model. Please ensure that you are saving the model with model.save() or tf.keras.models.save_model(), *NOT* tf.saved_model.save(). To confirm, there should be a file named \"keras_metadata.pb\" in the SavedModel directory.\n",
      "25/25 [==============================] - 0s 9ms/step\n",
      "WARNING:tensorflow:SavedModel saved prior to TF 2.5 detected when loading Keras model. Please ensure that you are saving the model with model.save() or tf.keras.models.save_model(), *NOT* tf.saved_model.save(). To confirm, there should be a file named \"keras_metadata.pb\" in the SavedModel directory.\n",
      "25/25 [==============================] - 0s 7ms/step\n",
      "WARNING:tensorflow:SavedModel saved prior to TF 2.5 detected when loading Keras model. Please ensure that you are saving the model with model.save() or tf.keras.models.save_model(), *NOT* tf.saved_model.save(). To confirm, there should be a file named \"keras_metadata.pb\" in the SavedModel directory.\n",
      "25/25 [==============================] - 0s 7ms/step\n"
     ]
    }
   ],
   "source": [
    "model1_1_max=load_model(\"D:/Users/dsh/Desktop/desktop/Papers/paper3/fish - Copy/model1_1\")\n",
    "pred1_1=model1_1_max.predict(input_test[:,:,:,0])\n",
    "\n",
    "model1_2_max=load_model(\"D:/Users/dsh/Desktop/desktop/Papers/paper3/fish - Copy/model1_2\")\n",
    "pred1_2=model1_2_max.predict(input_test[:,:,:,0])\n",
    "\n",
    "model1_3_max=load_model(\"D:/Users/dsh/Desktop/desktop/Papers/paper3/fish - Copy/model1_3\")\n",
    "pred1_3=model1_3_max.predict(input_test[:,:,:,0])\n",
    "\n",
    "model1_4_max=load_model(\"D:/Users/dsh/Desktop/desktop/Papers/paper3/fish - Copy/model1_4\")\n",
    "pred1_4=model1_4_max.predict(input_test[:,:,:,0])\n",
    "\n",
    "model1_5_max=load_model(\"D:/Users/dsh/Desktop/desktop/Papers/paper3/fish - Copy/model1_5\")\n",
    "pred1_5=model1_5_max.predict(input_test[:,:,:,0])"
   ]
  },
  {
   "cell_type": "code",
   "execution_count": 24,
   "metadata": {},
   "outputs": [
    {
     "name": "stdout",
     "output_type": "stream",
     "text": [
      "0.81875\n"
     ]
    }
   ],
   "source": [
    "accuracy_from_test(pred1_1, target_test)"
   ]
  },
  {
   "cell_type": "code",
   "execution_count": 25,
   "metadata": {},
   "outputs": [
    {
     "name": "stdout",
     "output_type": "stream",
     "text": [
      "0.82\n"
     ]
    }
   ],
   "source": [
    "accuracy_from_test(pred1_2, target_test)"
   ]
  },
  {
   "cell_type": "code",
   "execution_count": 26,
   "metadata": {},
   "outputs": [
    {
     "name": "stdout",
     "output_type": "stream",
     "text": [
      "0.87125\n"
     ]
    }
   ],
   "source": [
    "accuracy_from_test(pred1_3, target_test)"
   ]
  },
  {
   "cell_type": "code",
   "execution_count": 27,
   "metadata": {},
   "outputs": [
    {
     "name": "stdout",
     "output_type": "stream",
     "text": [
      "0.88875\n"
     ]
    }
   ],
   "source": [
    "accuracy_from_test(pred1_4, target_test)"
   ]
  },
  {
   "cell_type": "code",
   "execution_count": 28,
   "metadata": {},
   "outputs": [
    {
     "name": "stdout",
     "output_type": "stream",
     "text": [
      "0.88625\n"
     ]
    }
   ],
   "source": [
    "accuracy_from_test(pred1_5, target_test)"
   ]
  },
  {
   "cell_type": "code",
   "execution_count": 28,
   "metadata": {},
   "outputs": [],
   "source": [
    "ghhh=pred1_4+pred1_5+pred1_3+pred1_2+pred1_1"
   ]
  },
  {
   "cell_type": "code",
   "execution_count": 30,
   "metadata": {},
   "outputs": [
    {
     "name": "stdout",
     "output_type": "stream",
     "text": [
      "0.89875\n"
     ]
    }
   ],
   "source": [
    "accuracy_from_test(ghhh, target_test)"
   ]
  },
  {
   "cell_type": "code",
   "execution_count": 31,
   "metadata": {},
   "outputs": [
    {
     "name": "stdout",
     "output_type": "stream",
     "text": [
      "0.93125\n"
     ]
    }
   ],
   "source": [
    "accuracy_from_test(a, target_test)"
   ]
  },
  {
   "cell_type": "code",
   "execution_count": 57,
   "metadata": {},
   "outputs": [
    {
     "name": "stdout",
     "output_type": "stream",
     "text": [
      "800 800\n",
      "pred1 unique adnvantage 0.145\n",
      "None\n",
      "800 800\n",
      "pred1 unique adnvantage 0.10375\n",
      "None\n",
      "800 800\n",
      "pred1 unique adnvantage 0.0975\n",
      "None\n",
      "800 800\n",
      "pred1 unique adnvantage 0.1175\n",
      "None\n"
     ]
    }
   ],
   "source": [
    "#define space \n",
    "print(define_space(pred1_1, pred1_2, target_test))\n",
    "print(define_space(pred1_1, pred1_3, target_test))\n",
    "print(define_space(pred1_1, pred1_4, target_test))\n",
    "print(define_space(pred1_1, pred1_5, target_test))"
   ]
  },
  {
   "cell_type": "code",
   "execution_count": 58,
   "metadata": {},
   "outputs": [
    {
     "name": "stdout",
     "output_type": "stream",
     "text": [
      "800 800\n",
      "pred1 unique adnvantage 0.12875\n",
      "None\n",
      "800 800\n",
      "pred1 unique adnvantage 0.13375\n",
      "None\n",
      "800 800\n",
      "pred1 unique adnvantage 0.1025\n",
      "None\n",
      "800 800\n",
      "pred1 unique adnvantage 0.11\n",
      "None\n"
     ]
    }
   ],
   "source": [
    "print(define_space(pred1_2, pred1_1, target_test))\n",
    "print(define_space(pred1_2, pred1_3, target_test))\n",
    "print(define_space(pred1_2, pred1_4, target_test))\n",
    "print(define_space(pred1_2, pred1_5, target_test))"
   ]
  },
  {
   "cell_type": "code",
   "execution_count": 59,
   "metadata": {},
   "outputs": [
    {
     "name": "stdout",
     "output_type": "stream",
     "text": [
      "800 800\n",
      "pred1 unique adnvantage 0.1575\n",
      "None\n",
      "800 800\n",
      "pred1 unique adnvantage 0.11125\n",
      "None\n",
      "800 800\n",
      "pred1 unique adnvantage 0.10125\n",
      "None\n",
      "800 800\n",
      "pred1 unique adnvantage 0.10875\n",
      "None\n"
     ]
    }
   ],
   "source": [
    "print(define_space(pred1_3, pred1_2, target_test))\n",
    "print(define_space(pred1_3, pred1_1, target_test))\n",
    "print(define_space(pred1_3, pred1_4, target_test))\n",
    "print(define_space(pred1_3, pred1_5, target_test))"
   ]
  },
  {
   "cell_type": "code",
   "execution_count": 60,
   "metadata": {},
   "outputs": [
    {
     "name": "stdout",
     "output_type": "stream",
     "text": [
      "800 800\n",
      "pred1 unique adnvantage 0.1275\n",
      "None\n",
      "800 800\n",
      "pred1 unique adnvantage 0.1025\n",
      "None\n",
      "800 800\n",
      "pred1 unique adnvantage 0.10625\n",
      "None\n",
      "800 800\n",
      "pred1 unique adnvantage 0.1\n",
      "None\n"
     ]
    }
   ],
   "source": [
    "print(define_space(pred1_4, pred1_2, target_test))\n",
    "print(define_space(pred1_4, pred1_3, target_test))\n",
    "print(define_space(pred1_4, pred1_1, target_test))\n",
    "print(define_space(pred1_4, pred1_5, target_test))"
   ]
  },
  {
   "cell_type": "code",
   "execution_count": 61,
   "metadata": {},
   "outputs": [
    {
     "name": "stdout",
     "output_type": "stream",
     "text": [
      "800 800\n",
      "pred1 unique adnvantage 0.13\n",
      "None\n",
      "800 800\n",
      "pred1 unique adnvantage 0.105\n",
      "None\n",
      "800 800\n",
      "pred1 unique adnvantage 0.095\n",
      "None\n",
      "800 800\n",
      "pred1 unique adnvantage 0.12125\n",
      "None\n"
     ]
    }
   ],
   "source": [
    "print(define_space(pred1_5, pred1_2, target_test))\n",
    "print(define_space(pred1_5, pred1_3, target_test))\n",
    "print(define_space(pred1_5, pred1_4, target_test))\n",
    "print(define_space(pred1_5, pred1_1, target_test))"
   ]
  },
  {
   "cell_type": "code",
   "execution_count": null,
   "metadata": {},
   "outputs": [],
   "source": []
  },
  {
   "cell_type": "code",
   "execution_count": 62,
   "metadata": {},
   "outputs": [
    {
     "data": {
      "text/plain": [
       "[2.2541570831060787,\n",
       " 1.5291500288539965,\n",
       " 1.4780872892617802,\n",
       " 1.45447208926576,\n",
       " 1.4006883613682848,\n",
       " 1.3553487689197534,\n",
       " 1.3016428830687656,\n",
       " 1.239377709399279,\n",
       " 1.1445240089302002,\n",
       " 1.0540257281413388,\n",
       " 0.9469043391575745,\n",
       " 0.8292205493032084,\n",
       " 0.7405559204389323,\n",
       " 0.5730452330850688,\n",
       " 0.4708509779842732,\n",
       " 0.34618967605804757,\n",
       " 0.33402819724821176,\n",
       " 0.2251259283902709,\n",
       " 0.19715206973831423,\n",
       " 0.15762219978923103,\n",
       " 0.11247018262814572,\n",
       " 0.08964253009295482,\n",
       " 0.0960142975805495,\n",
       " 0.09672938590695696,\n",
       " 0.11210028132038283]"
      ]
     },
     "execution_count": 62,
     "metadata": {},
     "output_type": "execute_result"
    }
   ],
   "source": [
    "history1_1.history['loss']\n"
   ]
  },
  {
   "cell_type": "code",
   "execution_count": 63,
   "metadata": {},
   "outputs": [
    {
     "data": {
      "text/plain": [
       "[1.6818851232528687,\n",
       " 1.5793334679170088,\n",
       " 1.531105014410886,\n",
       " 1.4462168270891362,\n",
       " 1.485829765146429,\n",
       " 1.4833523956212131,\n",
       " 1.4071207154880871,\n",
       " 1.432276563210921,\n",
       " 1.4402317892421375,\n",
       " 1.5085968971252441,\n",
       " 1.4652475741776554,\n",
       " 1.676587234843861,\n",
       " 1.5545853674411774,\n",
       " 2.165426882830533,\n",
       " 1.6990168067541989,\n",
       " 1.9529371938922189,\n",
       " 1.8576238507574254,\n",
       " 2.232106303626841,\n",
       " 2.144687294960022,\n",
       " 2.465528141368519,\n",
       " 4.275287324732,\n",
       " 2.5761550095948307,\n",
       " 2.839659414508126,\n",
       " 2.981373656879772,\n",
       " 3.4776936661113393]"
      ]
     },
     "execution_count": 63,
     "metadata": {},
     "output_type": "execute_result"
    }
   ],
   "source": [
    "history1_1.history['val_loss']"
   ]
  },
  {
   "cell_type": "code",
   "execution_count": 64,
   "metadata": {},
   "outputs": [
    {
     "data": {
      "text/plain": [
       "[0.08815482732432336,\n",
       " 0.09325006997498196,\n",
       " 0.05073272559113542,\n",
       " 0.06665664742381487,\n",
       " 0.03469191291144207]"
      ]
     },
     "execution_count": 64,
     "metadata": {},
     "output_type": "execute_result"
    }
   ],
   "source": [
    "history1_2.history['loss']\n"
   ]
  },
  {
   "cell_type": "code",
   "execution_count": 65,
   "metadata": {},
   "outputs": [
    {
     "data": {
      "text/plain": [
       "[2.9674417755820532,\n",
       " 3.217353631149639,\n",
       " 3.2507457082921807,\n",
       " 3.456849683414806,\n",
       " 3.9600665406747297]"
      ]
     },
     "execution_count": 65,
     "metadata": {},
     "output_type": "execute_result"
    }
   ],
   "source": [
    "history1_2.history['val_loss']"
   ]
  },
  {
   "cell_type": "code",
   "execution_count": 66,
   "metadata": {},
   "outputs": [
    {
     "data": {
      "text/plain": [
       "[0.07295766086781053,\n",
       " 0.10239187540871932,\n",
       " 0.07429984278011754,\n",
       " 0.036953782212370966,\n",
       " 0.01900614922168101,\n",
       " 0.012558560210444169,\n",
       " 0.02175957697729093,\n",
       " 0.13837475508229297,\n",
       " 0.08842448291367311,\n",
       " 0.04628964839900416]"
      ]
     },
     "execution_count": 66,
     "metadata": {},
     "output_type": "execute_result"
    }
   ],
   "source": [
    "history1_3.history['loss']"
   ]
  },
  {
   "cell_type": "code",
   "execution_count": 67,
   "metadata": {},
   "outputs": [
    {
     "data": {
      "text/plain": [
       "[4.032648281617598,\n",
       " 3.668966672637246,\n",
       " 4.137655940922824,\n",
       " 3.478385778990659,\n",
       " 4.099830543453043,\n",
       " 3.913751705126329,\n",
       " 4.983897198330272,\n",
       " 4.6319416544654155,\n",
       " 3.892694641243328,\n",
       " 3.8065701560540632]"
      ]
     },
     "execution_count": 67,
     "metadata": {},
     "output_type": "execute_result"
    }
   ],
   "source": [
    "history1_3.history['val_loss']"
   ]
  },
  {
   "cell_type": "code",
   "execution_count": 68,
   "metadata": {},
   "outputs": [
    {
     "data": {
      "text/plain": [
       "[0.035484920924161244,\n",
       " 0.025850387924068678,\n",
       " 0.019475441953696247,\n",
       " 0.015372960497674828,\n",
       " 0.02671442167376614,\n",
       " 0.0277504110558348,\n",
       " 0.07239952236259471,\n",
       " 0.045884259917521715,\n",
       " 0.035206214950778955,\n",
       " 0.03333075417374291,\n",
       " 0.025636239583192263,\n",
       " 0.034940323981353334,\n",
       " 0.03233506300029239,\n",
       " 0.033104580626640935,\n",
       " 0.029580355351548942]"
      ]
     },
     "execution_count": 68,
     "metadata": {},
     "output_type": "execute_result"
    }
   ],
   "source": [
    "history1_4.history['loss']"
   ]
  },
  {
   "cell_type": "code",
   "execution_count": 69,
   "metadata": {},
   "outputs": [
    {
     "data": {
      "text/plain": [
       "[3.3810578801415185,\n",
       " 3.8076652992855418,\n",
       " 3.728485172445124,\n",
       " 4.2898518226363445,\n",
       " 3.7711893265897576,\n",
       " 6.1388432437723335,\n",
       " 3.925105409188704,\n",
       " 3.449933658946644,\n",
       " 3.998869841749018,\n",
       " 5.262376416813243,\n",
       " 4.607038422064348,\n",
       " 4.7833992567929355,\n",
       " 3.487748146057129,\n",
       " 3.9209505915641785,\n",
       " 3.4849070093848487]"
      ]
     },
     "execution_count": 69,
     "metadata": {},
     "output_type": "execute_result"
    }
   ],
   "source": [
    "history1_4.history['val_loss']"
   ]
  },
  {
   "cell_type": "code",
   "execution_count": 70,
   "metadata": {},
   "outputs": [
    {
     "data": {
      "text/plain": [
       "[0.03271772273689316,\n",
       " 0.04637233930302263,\n",
       " 0.04675838495988147,\n",
       " 0.03972568353219197,\n",
       " 0.020175502367596267,\n",
       " 0.018710591131736218,\n",
       " 0.0315228825262247,\n",
       " 0.01663015949107122,\n",
       " 0.010865545873631016,\n",
       " 0.007959385624955274,\n",
       " 0.017627704925649385,\n",
       " 0.025572337435152595,\n",
       " 0.02231942610836662,\n",
       " 0.019653852243520755,\n",
       " 0.039867814178539934,\n",
       " 0.04671149320159649,\n",
       " 0.04422306739958049,\n",
       " 0.04873653570326384,\n",
       " 0.055431592138473776,\n",
       " 0.013596237919721832]"
      ]
     },
     "execution_count": 70,
     "metadata": {},
     "output_type": "execute_result"
    }
   ],
   "source": [
    "history1_5.history['loss']"
   ]
  },
  {
   "cell_type": "code",
   "execution_count": 71,
   "metadata": {},
   "outputs": [
    {
     "data": {
      "text/plain": [
       "[4.382892847061157,\n",
       " 6.154872395775535,\n",
       " 4.2961429520086805,\n",
       " 3.9061471819877625,\n",
       " 3.8066168346188287,\n",
       " 4.256073240529407,\n",
       " 3.9110404415564104,\n",
       " 3.9762831872159783,\n",
       " 4.344266094944694,\n",
       " 4.013409774411809,\n",
       " 5.332331700758501,\n",
       " 5.729504823684692,\n",
       " 5.029911290515553,\n",
       " 5.025934381918474,\n",
       " 5.609890753572637,\n",
       " 7.651886918328025,\n",
       " 4.956625304438851,\n",
       " 4.600741093808955,\n",
       " 6.541910258206454,\n",
       " 4.469431270252574]"
      ]
     },
     "execution_count": 71,
     "metadata": {},
     "output_type": "execute_result"
    }
   ],
   "source": [
    "history1_5.history['val_loss']"
   ]
  },
  {
   "cell_type": "code",
   "execution_count": 72,
   "metadata": {},
   "outputs": [
    {
     "data": {
      "text/plain": [
       "[0.28815165,\n",
       " 0.3292259,\n",
       " 0.36176935,\n",
       " 0.3699842,\n",
       " 0.40947866,\n",
       " 0.43191153,\n",
       " 0.45560822,\n",
       " 0.4843602,\n",
       " 0.52733016,\n",
       " 0.5709321,\n",
       " 0.61769354,\n",
       " 0.6729858,\n",
       " 0.71342814,\n",
       " 0.77977884,\n",
       " 0.81737757,\n",
       " 0.8720379,\n",
       " 0.87835705,\n",
       " 0.9219589,\n",
       " 0.9251185,\n",
       " 0.94691944,\n",
       " 0.96398103,\n",
       " 0.9649289,\n",
       " 0.9677725,\n",
       " 0.9655608,\n",
       " 0.96176934]"
      ]
     },
     "execution_count": 72,
     "metadata": {},
     "output_type": "execute_result"
    }
   ],
   "source": [
    "history1_1.history['accuracy']"
   ]
  },
  {
   "cell_type": "code",
   "execution_count": 73,
   "metadata": {},
   "outputs": [
    {
     "data": {
      "text/plain": [
       "[0.2840909,\n",
       " 0.32102272,\n",
       " 0.36363637,\n",
       " 0.4034091,\n",
       " 0.4090909,\n",
       " 0.3778409,\n",
       " 0.41477272,\n",
       " 0.4318182,\n",
       " 0.42613637,\n",
       " 0.46022728,\n",
       " 0.48579547,\n",
       " 0.3778409,\n",
       " 0.4943182,\n",
       " 0.46022728,\n",
       " 0.48863637,\n",
       " 0.49147728,\n",
       " 0.52840906,\n",
       " 0.5113636,\n",
       " 0.5,\n",
       " 0.4431818,\n",
       " 0.4090909,\n",
       " 0.5056818,\n",
       " 0.5056818,\n",
       " 0.41477272,\n",
       " 0.4403409]"
      ]
     },
     "execution_count": 73,
     "metadata": {},
     "output_type": "execute_result"
    }
   ],
   "source": [
    "history1_1.history['val_accuracy']"
   ]
  },
  {
   "cell_type": "code",
   "execution_count": 74,
   "metadata": {},
   "outputs": [
    {
     "data": {
      "text/plain": [
       "[0.96903634, 0.96808845, 0.98388624, 0.978515, 0.98799366]"
      ]
     },
     "execution_count": 74,
     "metadata": {},
     "output_type": "execute_result"
    }
   ],
   "source": [
    "history1_2.history['accuracy']"
   ]
  },
  {
   "cell_type": "code",
   "execution_count": 75,
   "metadata": {},
   "outputs": [
    {
     "data": {
      "text/plain": [
       "[0.48295453, 0.48011363, 0.4659091, 0.48863637, 0.4715909]"
      ]
     },
     "execution_count": 75,
     "metadata": {},
     "output_type": "execute_result"
    }
   ],
   "source": [
    "history1_2.history['val_accuracy']"
   ]
  },
  {
   "cell_type": "code",
   "execution_count": 76,
   "metadata": {},
   "outputs": [
    {
     "data": {
      "text/plain": [
       "[0.97535545,\n",
       " 0.9665087,\n",
       " 0.97219586,\n",
       " 0.9895735,\n",
       " 0.99399686,\n",
       " 0.9965245,\n",
       " 0.99210113,\n",
       " 0.964297,\n",
       " 0.97030014,\n",
       " 0.98483413]"
      ]
     },
     "execution_count": 76,
     "metadata": {},
     "output_type": "execute_result"
    }
   ],
   "source": [
    "history1_3.history['accuracy']"
   ]
  },
  {
   "cell_type": "code",
   "execution_count": 77,
   "metadata": {},
   "outputs": [
    {
     "data": {
      "text/plain": [
       "[0.44602272,\n",
       " 0.4943182,\n",
       " 0.42613637,\n",
       " 0.4971591,\n",
       " 0.46875,\n",
       " 0.4943182,\n",
       " 0.4318182,\n",
       " 0.4005682,\n",
       " 0.4659091,\n",
       " 0.5056818]"
      ]
     },
     "execution_count": 77,
     "metadata": {},
     "output_type": "execute_result"
    }
   ],
   "source": [
    "history1_3.history['val_accuracy']"
   ]
  },
  {
   "cell_type": "code",
   "execution_count": 78,
   "metadata": {},
   "outputs": [
    {
     "data": {
      "text/plain": [
       "[0.9892575,\n",
       " 0.98988944,\n",
       " 0.99304897,\n",
       " 0.99399686,\n",
       " 0.99178517,\n",
       " 0.98799366,\n",
       " 0.97946286,\n",
       " 0.9842022,\n",
       " 0.98894155,\n",
       " 0.99020535,\n",
       " 0.98988944,\n",
       " 0.98988944,\n",
       " 0.99020535,\n",
       " 0.98799366,\n",
       " 0.9892575]"
      ]
     },
     "execution_count": 78,
     "metadata": {},
     "output_type": "execute_result"
    }
   ],
   "source": [
    "history1_4.history['accuracy']"
   ]
  },
  {
   "cell_type": "code",
   "execution_count": 79,
   "metadata": {},
   "outputs": [
    {
     "data": {
      "text/plain": [
       "[0.49147728,\n",
       " 0.4715909,\n",
       " 0.49147728,\n",
       " 0.46022728,\n",
       " 0.5,\n",
       " 0.41761363,\n",
       " 0.4630682,\n",
       " 0.4744318,\n",
       " 0.4119318,\n",
       " 0.41477272,\n",
       " 0.4431818,\n",
       " 0.44886363,\n",
       " 0.48579547,\n",
       " 0.45170453,\n",
       " 0.4659091]"
      ]
     },
     "execution_count": 79,
     "metadata": {},
     "output_type": "execute_result"
    }
   ],
   "source": [
    "history1_4.history['val_accuracy']"
   ]
  },
  {
   "cell_type": "code",
   "execution_count": 80,
   "metadata": {},
   "outputs": [
    {
     "data": {
      "text/plain": [
       "[0.9895735,\n",
       " 0.9892575,\n",
       " 0.98388624,\n",
       " 0.9864139,\n",
       " 0.992733,\n",
       " 0.99178517,\n",
       " 0.99115324,\n",
       " 0.9936809,\n",
       " 0.9968404,\n",
       " 0.9965245,\n",
       " 0.9949447,\n",
       " 0.99178517,\n",
       " 0.99210113,\n",
       " 0.99241704,\n",
       " 0.98799366,\n",
       " 0.98578197,\n",
       " 0.98767775,\n",
       " 0.98767775,\n",
       " 0.9832544,\n",
       " 0.99399686]"
      ]
     },
     "execution_count": 80,
     "metadata": {},
     "output_type": "execute_result"
    }
   ],
   "source": [
    "history1_5.history['accuracy']"
   ]
  },
  {
   "cell_type": "code",
   "execution_count": 81,
   "metadata": {},
   "outputs": [
    {
     "data": {
      "text/plain": [
       "[0.45454547,\n",
       " 0.42045453,\n",
       " 0.42613637,\n",
       " 0.4943182,\n",
       " 0.50284094,\n",
       " 0.46875,\n",
       " 0.48863637,\n",
       " 0.48295453,\n",
       " 0.4318182,\n",
       " 0.5,\n",
       " 0.38920453,\n",
       " 0.3693182,\n",
       " 0.44886363,\n",
       " 0.45738637,\n",
       " 0.41761363,\n",
       " 0.3693182,\n",
       " 0.44886363,\n",
       " 0.45738637,\n",
       " 0.42045453,\n",
       " 0.4943182]"
      ]
     },
     "execution_count": 81,
     "metadata": {},
     "output_type": "execute_result"
    }
   ],
   "source": [
    "history1_5.history['val_accuracy']"
   ]
  },
  {
   "cell_type": "code",
   "execution_count": null,
   "metadata": {},
   "outputs": [],
   "source": []
  },
  {
   "cell_type": "markdown",
   "metadata": {},
   "source": [
    "#############################channel2#####################################################################"
   ]
  },
  {
   "cell_type": "code",
   "execution_count": 82,
   "metadata": {},
   "outputs": [],
   "source": [
    "tf.random.set_seed(25)\n",
    "\n",
    "model2 = Sequential()\n",
    "model2.add(Reshape((img_width, img_height,1), input_shape=(img_width, img_height)))\n",
    "model2.add(Conv2D(32, kernel_size=(3, 3), activation='relu'))\n",
    "model2.add(BatchNormalization())\n",
    "model2.add(MaxPooling2D(pool_size=(2, 2)))\n",
    "model2.add(Conv2D(64, kernel_size=(3, 3), activation='relu'))\n",
    "model2.add(BatchNormalization())\n",
    "model2.add(MaxPooling2D(pool_size=(2, 2)))\n",
    "model2.add(Conv2D(128, kernel_size=(3, 3), activation='relu'))\n",
    "model2.add(BatchNormalization())\n",
    "model2.add(MaxPooling2D(pool_size=(2, 2)))\n",
    "model2.add(Flatten())\n",
    "model2.add(Dense(256, activation='relu'))\n",
    "model2.add(Dense(128, activation='relu'))\n",
    "model2.add(Dense(no_classes, activation='softmax'))"
   ]
  },
  {
   "cell_type": "code",
   "execution_count": 83,
   "metadata": {},
   "outputs": [],
   "source": [
    "model2.compile(loss=loss_function,\n",
    "              optimizer=optimizer,\n",
    "              metrics=['accuracy'])"
   ]
  },
  {
   "cell_type": "code",
   "execution_count": 84,
   "metadata": {},
   "outputs": [
    {
     "name": "stdout",
     "output_type": "stream",
     "text": [
      "Train on 3165 samples, validate on 352 samples\n",
      "Epoch 1/5\n",
      "INFO:tensorflow:Assets written to: C:/Users/dsh/Desktop/Papers/paper3/fish - Copy/model2_1\\assets\n",
      "3165/3165 - 3s - loss: 2.3800 - accuracy: 0.2626 - val_loss: 1.5815 - val_accuracy: 0.2557\n",
      "Epoch 2/5\n",
      "INFO:tensorflow:Assets written to: C:/Users/dsh/Desktop/Papers/paper3/fish - Copy/model2_1\\assets\n",
      "3165/3165 - 3s - loss: 1.5200 - accuracy: 0.3264 - val_loss: 1.5876 - val_accuracy: 0.2841\n",
      "Epoch 3/5\n",
      "INFO:tensorflow:Assets written to: C:/Users/dsh/Desktop/Papers/paper3/fish - Copy/model2_1\\assets\n",
      "3165/3165 - 2s - loss: 1.4653 - accuracy: 0.3488 - val_loss: 1.4741 - val_accuracy: 0.3438\n",
      "Epoch 4/5\n",
      "INFO:tensorflow:Assets written to: C:/Users/dsh/Desktop/Papers/paper3/fish - Copy/model2_1\\assets\n",
      "3165/3165 - 3s - loss: 1.4392 - accuracy: 0.3649 - val_loss: 1.5064 - val_accuracy: 0.3807\n",
      "Epoch 5/5\n",
      "3165/3165 - 1s - loss: 1.3815 - accuracy: 0.4114 - val_loss: 1.7223 - val_accuracy: 0.3040\n"
     ]
    }
   ],
   "source": [
    "\n",
    "\n",
    "model_checkpoint_callback2_1 = tf.keras.callbacks.ModelCheckpoint(\n",
    "    filepath=\"C:/Users/dsh/Desktop/Papers/paper3/fish - Copy/model2_1\",\n",
    "    save_weights_only=False,\n",
    "    monitor='val_accuracy',\n",
    "    mode='max',\n",
    "    save_best_only=True)\n",
    "\n",
    "\n",
    "history2_1 = model2.fit(input_train[:,:,:,1], target_train,\n",
    "            batch_size=16,\n",
    "            epochs=5,\n",
    "            verbose=verbosity,\n",
    "            validation_split=validation_split,\n",
    "                       callbacks=[model_checkpoint_callback2_1])\n",
    "save_model(model2,'model2_1.h5')\n",
    "\n",
    "model2_1_max=load_model(\"C:/Users/dsh/Desktop/Papers/paper3/fish - Copy/model2_1\")\n",
    "pred2_1=model2_1_max.predict(input_test[:,:,:,1])\n",
    "\n"
   ]
  },
  {
   "cell_type": "code",
   "execution_count": 85,
   "metadata": {},
   "outputs": [
    {
     "name": "stdout",
     "output_type": "stream",
     "text": [
      "0.33375\n"
     ]
    }
   ],
   "source": [
    "accuracy_from_test(pred2_1, target_test)"
   ]
  },
  {
   "cell_type": "code",
   "execution_count": 86,
   "metadata": {},
   "outputs": [
    {
     "name": "stdout",
     "output_type": "stream",
     "text": [
      "WARNING:tensorflow:Error in loading the saved optimizer state. As a result, your model is starting with a freshly initialized optimizer.\n",
      "Train on 3165 samples, validate on 352 samples\n",
      "Epoch 1/5\n",
      "INFO:tensorflow:Assets written to: C:/Users/dsh/Desktop/Papers/paper3/fish - Copy/model2_2\\assets\n",
      "3165/3165 - 3s - loss: 1.3650 - accuracy: 0.4142 - val_loss: 1.5957 - val_accuracy: 0.3523\n",
      "Epoch 2/5\n",
      "3165/3165 - 1s - loss: 1.2870 - accuracy: 0.4493 - val_loss: 2.1628 - val_accuracy: 0.3295\n",
      "Epoch 3/5\n",
      "INFO:tensorflow:Assets written to: C:/Users/dsh/Desktop/Papers/paper3/fish - Copy/model2_2\\assets\n",
      "3165/3165 - 3s - loss: 1.2278 - accuracy: 0.4866 - val_loss: 1.8510 - val_accuracy: 0.3551\n",
      "Epoch 4/5\n",
      "INFO:tensorflow:Assets written to: C:/Users/dsh/Desktop/Papers/paper3/fish - Copy/model2_2\\assets\n",
      "3165/3165 - 2s - loss: 1.1493 - accuracy: 0.5239 - val_loss: 1.3589 - val_accuracy: 0.4375\n",
      "Epoch 5/5\n",
      "INFO:tensorflow:Assets written to: C:/Users/dsh/Desktop/Papers/paper3/fish - Copy/model2_2\\assets\n",
      "3165/3165 - 3s - loss: 1.0317 - accuracy: 0.5747 - val_loss: 1.5152 - val_accuracy: 0.4716\n"
     ]
    }
   ],
   "source": [
    "model2_2=load_model('model2_1.h5')\n",
    "model_checkpoint_callback2_2 = tf.keras.callbacks.ModelCheckpoint(\n",
    "    filepath=\"C:/Users/dsh/Desktop/Papers/paper3/fish - Copy/model2_2\",\n",
    "    save_weights_only=False,\n",
    "    monitor='val_accuracy',\n",
    "    mode='max',\n",
    "    save_best_only=True)\n",
    "\n",
    "\n",
    "history2_2=model2_2.fit(input_train[:,:,:,1], target_train,\n",
    "            batch_size=16,\n",
    "            epochs=5,\n",
    "            verbose=2,\n",
    "            validation_split=validation_split,\n",
    "                        callbacks=[model_checkpoint_callback2_2]\n",
    "                  )\n",
    "\n",
    "model2_2.save('model2_2.h5')\n",
    "\n",
    "model2_2_max=load_model(\"C:/Users/dsh/Desktop/Papers/paper3/fish - Copy/model2_2\")\n",
    "pred2_2=model2_2_max.predict(input_test[:,:,:,1])\n"
   ]
  },
  {
   "cell_type": "code",
   "execution_count": 87,
   "metadata": {},
   "outputs": [
    {
     "name": "stdout",
     "output_type": "stream",
     "text": [
      "0.46\n"
     ]
    }
   ],
   "source": [
    "accuracy_from_test(pred2_2, target_test)"
   ]
  },
  {
   "cell_type": "code",
   "execution_count": 88,
   "metadata": {},
   "outputs": [
    {
     "name": "stdout",
     "output_type": "stream",
     "text": [
      "Train on 3165 samples, validate on 352 samples\n",
      "Epoch 1/10\n",
      "INFO:tensorflow:Assets written to: C:/Users/dsh/Desktop/Papers/paper3/fish - Copy/model2_3\\assets\n",
      "3165/3165 - 3s - loss: 0.9127 - accuracy: 0.6325 - val_loss: 1.8221 - val_accuracy: 0.4403\n",
      "Epoch 2/10\n",
      "3165/3165 - 1s - loss: 0.7679 - accuracy: 0.7065 - val_loss: 2.2153 - val_accuracy: 0.3807\n",
      "Epoch 3/10\n",
      "INFO:tensorflow:Assets written to: C:/Users/dsh/Desktop/Papers/paper3/fish - Copy/model2_3\\assets\n",
      "3165/3165 - 3s - loss: 0.6406 - accuracy: 0.7476 - val_loss: 1.7093 - val_accuracy: 0.4915\n",
      "Epoch 4/10\n",
      "INFO:tensorflow:Assets written to: C:/Users/dsh/Desktop/Papers/paper3/fish - Copy/model2_3\\assets\n",
      "3165/3165 - 2s - loss: 0.5145 - accuracy: 0.8076 - val_loss: 1.7060 - val_accuracy: 0.5369\n",
      "Epoch 5/10\n",
      "3165/3165 - 1s - loss: 0.3349 - accuracy: 0.8717 - val_loss: 2.0241 - val_accuracy: 0.5199\n",
      "Epoch 6/10\n",
      "3165/3165 - 1s - loss: 0.2669 - accuracy: 0.9077 - val_loss: 2.8702 - val_accuracy: 0.4233\n",
      "Epoch 7/10\n",
      "3165/3165 - 1s - loss: 0.2033 - accuracy: 0.9286 - val_loss: 2.1609 - val_accuracy: 0.5000\n",
      "Epoch 8/10\n",
      "3165/3165 - 1s - loss: 0.1303 - accuracy: 0.9586 - val_loss: 2.7319 - val_accuracy: 0.4858\n",
      "Epoch 9/10\n",
      "INFO:tensorflow:Assets written to: C:/Users/dsh/Desktop/Papers/paper3/fish - Copy/model2_3\\assets\n",
      "3165/3165 - 3s - loss: 0.1121 - accuracy: 0.9630 - val_loss: 2.3338 - val_accuracy: 0.5483\n",
      "Epoch 10/10\n",
      "3165/3165 - 1s - loss: 0.1060 - accuracy: 0.9659 - val_loss: 2.5640 - val_accuracy: 0.5284\n"
     ]
    }
   ],
   "source": [
    "model2_3=load_model('model2_2.h5')\n",
    "\n",
    "model_checkpoint_callback2_3 = tf.keras.callbacks.ModelCheckpoint(\n",
    "    filepath=\"C:/Users/dsh/Desktop/Papers/paper3/fish - Copy/model2_3\",\n",
    "    save_weights_only=False,\n",
    "    monitor='val_accuracy',\n",
    "    mode='max',\n",
    "    save_best_only=True)\n",
    "\n",
    "history2_3 = model2_3.fit(input_train[:,:,:,1], target_train,\n",
    "            batch_size=16,\n",
    "            epochs=10,\n",
    "            verbose=2,\n",
    "            validation_split=validation_split,\n",
    "                         callbacks=[model_checkpoint_callback2_3])\n",
    "model2_3.save('model2_3.h5')\n",
    "\n",
    "model2_3_max=load_model(\"C:/Users/dsh/Desktop/Papers/paper3/fish - Copy/model2_3\")\n",
    "pred2_3=model2_3_max.predict(input_test[:,:,:,1])"
   ]
  },
  {
   "cell_type": "code",
   "execution_count": 89,
   "metadata": {},
   "outputs": [
    {
     "name": "stdout",
     "output_type": "stream",
     "text": [
      "0.495\n"
     ]
    }
   ],
   "source": [
    "accuracy_from_test(pred2_3, target_test)"
   ]
  },
  {
   "cell_type": "code",
   "execution_count": 90,
   "metadata": {},
   "outputs": [
    {
     "name": "stdout",
     "output_type": "stream",
     "text": [
      "Train on 3165 samples, validate on 352 samples\n",
      "Epoch 1/15\n",
      "INFO:tensorflow:Assets written to: C:/Users/dsh/Desktop/Papers/paper3/fish - Copy/model2_4\\assets\n",
      "3165/3165 - 3s - loss: 0.0668 - accuracy: 0.9807 - val_loss: 2.7261 - val_accuracy: 0.5284\n",
      "Epoch 2/15\n",
      "3165/3165 - 1s - loss: 0.0717 - accuracy: 0.9763 - val_loss: 3.9747 - val_accuracy: 0.4801\n",
      "Epoch 3/15\n",
      "3165/3165 - 1s - loss: 0.1058 - accuracy: 0.9627 - val_loss: 3.1187 - val_accuracy: 0.4886\n",
      "Epoch 4/15\n",
      "3165/3165 - 1s - loss: 0.0673 - accuracy: 0.9776 - val_loss: 3.2420 - val_accuracy: 0.4886\n",
      "Epoch 5/15\n",
      "3165/3165 - 1s - loss: 0.0663 - accuracy: 0.9785 - val_loss: 3.1278 - val_accuracy: 0.4773\n",
      "Epoch 6/15\n",
      "3165/3165 - 1s - loss: 0.0581 - accuracy: 0.9807 - val_loss: 3.1506 - val_accuracy: 0.5114\n",
      "Epoch 7/15\n",
      "3165/3165 - 1s - loss: 0.0400 - accuracy: 0.9880 - val_loss: 3.0918 - val_accuracy: 0.4716\n",
      "Epoch 8/15\n",
      "3165/3165 - 1s - loss: 0.0415 - accuracy: 0.9839 - val_loss: 3.6981 - val_accuracy: 0.5085\n",
      "Epoch 9/15\n",
      "3165/3165 - 1s - loss: 0.0731 - accuracy: 0.9791 - val_loss: 4.0591 - val_accuracy: 0.4261\n",
      "Epoch 10/15\n",
      "3165/3165 - 1s - loss: 0.0691 - accuracy: 0.9788 - val_loss: 3.6245 - val_accuracy: 0.4744\n",
      "Epoch 11/15\n",
      "3165/3165 - 1s - loss: 0.0337 - accuracy: 0.9883 - val_loss: 3.1129 - val_accuracy: 0.5227\n",
      "Epoch 12/15\n",
      "3165/3165 - 1s - loss: 0.0216 - accuracy: 0.9927 - val_loss: 3.4150 - val_accuracy: 0.5199\n",
      "Epoch 13/15\n",
      "INFO:tensorflow:Assets written to: C:/Users/dsh/Desktop/Papers/paper3/fish - Copy/model2_4\\assets\n",
      "3165/3165 - 3s - loss: 0.0171 - accuracy: 0.9949 - val_loss: 3.3698 - val_accuracy: 0.5483\n",
      "Epoch 14/15\n",
      "3165/3165 - 1s - loss: 0.0347 - accuracy: 0.9886 - val_loss: 3.6896 - val_accuracy: 0.5000\n",
      "Epoch 15/15\n",
      "3165/3165 - 1s - loss: 0.0529 - accuracy: 0.9858 - val_loss: 3.4679 - val_accuracy: 0.5142\n"
     ]
    }
   ],
   "source": [
    "model2_4=load_model('model2_3.h5')\n",
    "\n",
    "model_checkpoint_callback2_4 = tf.keras.callbacks.ModelCheckpoint(\n",
    "    filepath=\"C:/Users/dsh/Desktop/Papers/paper3/fish - Copy/model2_4\",\n",
    "    save_weights_only=False,\n",
    "    monitor='val_accuracy',\n",
    "    mode='max',\n",
    "    save_best_only=True)\n",
    "\n",
    "history2_4 = model2_4.fit(input_train[:,:,:,1], target_train,\n",
    "            batch_size=16,\n",
    "            epochs=15,\n",
    "            verbose=2,\n",
    "            validation_split=validation_split, \n",
    "                         callbacks=[model_checkpoint_callback2_4])\n",
    "model2_4.save('model2_4.h5')\n",
    "\n",
    "\n",
    "model2_4_max=load_model(\"C:/Users/dsh/Desktop/Papers/paper3/fish - Copy/model2_4\")\n",
    "pred2_4=model2_4_max.predict(input_test[:,:,:,1])"
   ]
  },
  {
   "cell_type": "code",
   "execution_count": 91,
   "metadata": {},
   "outputs": [
    {
     "name": "stdout",
     "output_type": "stream",
     "text": [
      "0.53125\n"
     ]
    }
   ],
   "source": [
    "accuracy_from_test(pred2_4, target_test)"
   ]
  },
  {
   "cell_type": "code",
   "execution_count": 92,
   "metadata": {
    "scrolled": true
   },
   "outputs": [
    {
     "name": "stdout",
     "output_type": "stream",
     "text": [
      "Train on 3165 samples, validate on 352 samples\n",
      "Epoch 1/20\n",
      "INFO:tensorflow:Assets written to: C:/Users/dsh/Desktop/Papers/paper3/fish - Copy/model2_5\\assets\n",
      "3165/3165 - 3s - loss: 0.0348 - accuracy: 0.9908 - val_loss: 4.1314 - val_accuracy: 0.5028\n",
      "Epoch 2/20\n",
      "3165/3165 - 1s - loss: 0.0392 - accuracy: 0.9889 - val_loss: 4.3479 - val_accuracy: 0.5000\n",
      "Epoch 3/20\n",
      "3165/3165 - 1s - loss: 0.0927 - accuracy: 0.9741 - val_loss: 4.0127 - val_accuracy: 0.4801\n",
      "Epoch 4/20\n",
      "3165/3165 - 1s - loss: 0.0582 - accuracy: 0.9845 - val_loss: 3.9544 - val_accuracy: 0.5028\n",
      "Epoch 5/20\n",
      "INFO:tensorflow:Assets written to: C:/Users/dsh/Desktop/Papers/paper3/fish - Copy/model2_5\\assets\n",
      "3165/3165 - 2s - loss: 0.0265 - accuracy: 0.9896 - val_loss: 3.9595 - val_accuracy: 0.5341\n",
      "Epoch 6/20\n",
      "3165/3165 - 1s - loss: 0.0211 - accuracy: 0.9912 - val_loss: 4.0016 - val_accuracy: 0.4602\n",
      "Epoch 7/20\n",
      "3165/3165 - 1s - loss: 0.0191 - accuracy: 0.9934 - val_loss: 4.2286 - val_accuracy: 0.4432\n",
      "Epoch 8/20\n",
      "3165/3165 - 1s - loss: 0.0218 - accuracy: 0.9943 - val_loss: 3.7283 - val_accuracy: 0.5199\n",
      "Epoch 9/20\n",
      "3165/3165 - 1s - loss: 0.0236 - accuracy: 0.9934 - val_loss: 3.4504 - val_accuracy: 0.5227\n",
      "Epoch 10/20\n",
      "3165/3165 - 1s - loss: 0.0347 - accuracy: 0.9927 - val_loss: 4.2516 - val_accuracy: 0.5312\n",
      "Epoch 11/20\n",
      "3165/3165 - 1s - loss: 0.0265 - accuracy: 0.9924 - val_loss: 4.1297 - val_accuracy: 0.5057\n",
      "Epoch 12/20\n",
      "3165/3165 - 1s - loss: 0.0428 - accuracy: 0.9883 - val_loss: 4.7332 - val_accuracy: 0.4744\n",
      "Epoch 13/20\n",
      "3165/3165 - 1s - loss: 0.0779 - accuracy: 0.9769 - val_loss: 4.6985 - val_accuracy: 0.4830\n",
      "Epoch 14/20\n",
      "3165/3165 - 1s - loss: 0.0636 - accuracy: 0.9804 - val_loss: 5.9097 - val_accuracy: 0.4119\n",
      "Epoch 15/20\n",
      "3165/3165 - 1s - loss: 0.0835 - accuracy: 0.9795 - val_loss: 4.7247 - val_accuracy: 0.4489\n",
      "Epoch 16/20\n",
      "3165/3165 - 1s - loss: 0.0688 - accuracy: 0.9810 - val_loss: 3.8805 - val_accuracy: 0.4858\n",
      "Epoch 17/20\n",
      "3165/3165 - 1s - loss: 0.0293 - accuracy: 0.9912 - val_loss: 3.3802 - val_accuracy: 0.5000\n",
      "Epoch 18/20\n",
      "3165/3165 - 1s - loss: 0.0127 - accuracy: 0.9946 - val_loss: 5.8391 - val_accuracy: 0.4375\n",
      "Epoch 19/20\n",
      "3165/3165 - 1s - loss: 0.0110 - accuracy: 0.9972 - val_loss: 4.3734 - val_accuracy: 0.4801\n",
      "Epoch 20/20\n",
      "3165/3165 - 1s - loss: 0.0130 - accuracy: 0.9943 - val_loss: 4.0234 - val_accuracy: 0.4886\n"
     ]
    }
   ],
   "source": [
    "model2_5=load_model('model2_4.h5')\n",
    "\n",
    "model_checkpoint_callback2_5 = tf.keras.callbacks.ModelCheckpoint(\n",
    "    filepath=\"C:/Users/dsh/Desktop/Papers/paper3/fish - Copy/model2_5\",\n",
    "    save_weights_only=False,\n",
    "    monitor='val_accuracy',\n",
    "    mode='max',\n",
    "    save_best_only=True)\n",
    "\n",
    "history2_5 = model2_5.fit(input_train[:,:,:,1], target_train,\n",
    "            batch_size=16,\n",
    "            epochs=20,\n",
    "            verbose=2,\n",
    "            validation_split=validation_split,\n",
    "                         callbacks=[model_checkpoint_callback2_5])\n",
    "model2_5.save('model2_5.h5')\n",
    "\n",
    "model2_5_max=load_model(\"C:/Users/dsh/Desktop/Papers/paper3/fish - Copy/model2_5\")\n",
    "pred2_5=model2_5_max.predict(input_test[:,:,:,1])"
   ]
  },
  {
   "cell_type": "code",
   "execution_count": 93,
   "metadata": {},
   "outputs": [
    {
     "name": "stdout",
     "output_type": "stream",
     "text": [
      "0.50125\n"
     ]
    }
   ],
   "source": [
    "accuracy_from_test(pred2_5, target_test)"
   ]
  },
  {
   "cell_type": "code",
   "execution_count": 29,
   "metadata": {},
   "outputs": [
    {
     "name": "stdout",
     "output_type": "stream",
     "text": [
      "WARNING:tensorflow:SavedModel saved prior to TF 2.5 detected when loading Keras model. Please ensure that you are saving the model with model.save() or tf.keras.models.save_model(), *NOT* tf.saved_model.save(). To confirm, there should be a file named \"keras_metadata.pb\" in the SavedModel directory.\n",
      "25/25 [==============================] - 1s 20ms/step\n",
      "WARNING:tensorflow:SavedModel saved prior to TF 2.5 detected when loading Keras model. Please ensure that you are saving the model with model.save() or tf.keras.models.save_model(), *NOT* tf.saved_model.save(). To confirm, there should be a file named \"keras_metadata.pb\" in the SavedModel directory.\n",
      "25/25 [==============================] - 0s 7ms/step\n",
      "WARNING:tensorflow:SavedModel saved prior to TF 2.5 detected when loading Keras model. Please ensure that you are saving the model with model.save() or tf.keras.models.save_model(), *NOT* tf.saved_model.save(). To confirm, there should be a file named \"keras_metadata.pb\" in the SavedModel directory.\n",
      "25/25 [==============================] - 0s 7ms/step\n",
      "WARNING:tensorflow:SavedModel saved prior to TF 2.5 detected when loading Keras model. Please ensure that you are saving the model with model.save() or tf.keras.models.save_model(), *NOT* tf.saved_model.save(). To confirm, there should be a file named \"keras_metadata.pb\" in the SavedModel directory.\n",
      "25/25 [==============================] - 0s 7ms/step\n",
      "WARNING:tensorflow:SavedModel saved prior to TF 2.5 detected when loading Keras model. Please ensure that you are saving the model with model.save() or tf.keras.models.save_model(), *NOT* tf.saved_model.save(). To confirm, there should be a file named \"keras_metadata.pb\" in the SavedModel directory.\n",
      "25/25 [==============================] - 0s 7ms/step\n"
     ]
    }
   ],
   "source": [
    "model2_1_max=load_model(\"D:/Users/dsh/Desktop/desktop/Papers/paper3/fish - Copy/model2_1\")\n",
    "pred2_1=model2_1_max.predict(input_test[:,:,:,1])\n",
    "\n",
    "model2_2_max=load_model(\"D:/Users/dsh/Desktop/desktop/Papers/paper3/fish - Copy/model2_2\")\n",
    "pred2_2=model2_2_max.predict(input_test[:,:,:,1])\n",
    "\n",
    "model2_3_max=load_model(\"D:/Users/dsh/Desktop/desktop/Papers/paper3/fish - Copy/model2_3\")\n",
    "pred2_3=model2_3_max.predict(input_test[:,:,:,1])\n",
    "\n",
    "model2_4_max=load_model(\"D:/Users/dsh/Desktop/desktop/Papers/paper3/fish - Copy/model2_4\")\n",
    "pred2_4=model2_4_max.predict(input_test[:,:,:,1])\n",
    "\n",
    "model2_5_max=load_model(\"D:/Users/dsh/Desktop/desktop/Papers/paper3/fish - Copy/model2_5\")\n",
    "pred2_5=model2_5_max.predict(input_test[:,:,:,1])"
   ]
  },
  {
   "cell_type": "code",
   "execution_count": 33,
   "metadata": {},
   "outputs": [
    {
     "name": "stdout",
     "output_type": "stream",
     "text": [
      "0.38625\n"
     ]
    }
   ],
   "source": [
    "accuracy_from_test(pred2_1, target_test)"
   ]
  },
  {
   "cell_type": "code",
   "execution_count": 34,
   "metadata": {},
   "outputs": [
    {
     "name": "stdout",
     "output_type": "stream",
     "text": [
      "0.38625\n"
     ]
    }
   ],
   "source": [
    "accuracy_from_test(pred2_1, target_test)"
   ]
  },
  {
   "cell_type": "code",
   "execution_count": 35,
   "metadata": {},
   "outputs": [
    {
     "name": "stdout",
     "output_type": "stream",
     "text": [
      "0.85375\n"
     ]
    }
   ],
   "source": [
    "accuracy_from_test(pred2_3, target_test)"
   ]
  },
  {
   "cell_type": "code",
   "execution_count": 36,
   "metadata": {},
   "outputs": [
    {
     "name": "stdout",
     "output_type": "stream",
     "text": [
      "0.89\n"
     ]
    }
   ],
   "source": [
    "accuracy_from_test(pred2_4, target_test)"
   ]
  },
  {
   "cell_type": "code",
   "execution_count": 37,
   "metadata": {},
   "outputs": [
    {
     "name": "stdout",
     "output_type": "stream",
     "text": [
      "0.88125\n"
     ]
    }
   ],
   "source": [
    "accuracy_from_test(pred2_5, target_test)"
   ]
  },
  {
   "cell_type": "code",
   "execution_count": 30,
   "metadata": {},
   "outputs": [],
   "source": [
    "b=pred2_3+pred2_4+pred2_5+pred2_1"
   ]
  },
  {
   "cell_type": "code",
   "execution_count": 39,
   "metadata": {},
   "outputs": [
    {
     "name": "stdout",
     "output_type": "stream",
     "text": [
      "0.8875\n"
     ]
    }
   ],
   "source": [
    "accuracy_from_test(b, target_test)"
   ]
  },
  {
   "cell_type": "code",
   "execution_count": 102,
   "metadata": {},
   "outputs": [
    {
     "data": {
      "text/plain": [
       "[2.3799523982579864,\n",
       " 1.5199869834981259,\n",
       " 1.465302651979347,\n",
       " 1.4392258481391798,\n",
       " 1.3814660602271274]"
      ]
     },
     "execution_count": 102,
     "metadata": {},
     "output_type": "execute_result"
    }
   ],
   "source": [
    "history2_1.history['loss']"
   ]
  },
  {
   "cell_type": "code",
   "execution_count": 103,
   "metadata": {},
   "outputs": [
    {
     "data": {
      "text/plain": [
       "[1.5815276991237293,\n",
       " 1.5875880176370794,\n",
       " 1.4741495305841619,\n",
       " 1.5063545107841492,\n",
       " 1.7222995270382275]"
      ]
     },
     "execution_count": 103,
     "metadata": {},
     "output_type": "execute_result"
    }
   ],
   "source": [
    "history2_1.history['val_loss']"
   ]
  },
  {
   "cell_type": "code",
   "execution_count": 104,
   "metadata": {},
   "outputs": [
    {
     "data": {
      "text/plain": [
       "[1.3649612540882345,\n",
       " 1.287020851989493,\n",
       " 1.2277858138649385,\n",
       " 1.1492979583770366,\n",
       " 1.031659562873991]"
      ]
     },
     "execution_count": 104,
     "metadata": {},
     "output_type": "execute_result"
    }
   ],
   "source": [
    "history2_2.history['loss']"
   ]
  },
  {
   "cell_type": "code",
   "execution_count": 105,
   "metadata": {},
   "outputs": [
    {
     "data": {
      "text/plain": [
       "[1.5956740433519536,\n",
       " 2.1628237800164656,\n",
       " 1.8509937037121167,\n",
       " 1.3588787804950366,\n",
       " 1.515195217999545]"
      ]
     },
     "execution_count": 105,
     "metadata": {},
     "output_type": "execute_result"
    }
   ],
   "source": [
    "history2_2.history['val_loss']"
   ]
  },
  {
   "cell_type": "code",
   "execution_count": 106,
   "metadata": {},
   "outputs": [
    {
     "data": {
      "text/plain": [
       "[0.9127338836543368,\n",
       " 0.7678969854238851,\n",
       " 0.6405708989731697,\n",
       " 0.5144904402948293,\n",
       " 0.33492841815449426,\n",
       " 0.2668659485158574,\n",
       " 0.20325461518708,\n",
       " 0.13028013421366752,\n",
       " 0.11210507271225795,\n",
       " 0.10603444522473296]"
      ]
     },
     "execution_count": 106,
     "metadata": {},
     "output_type": "execute_result"
    }
   ],
   "source": [
    "history2_3.history['loss']"
   ]
  },
  {
   "cell_type": "code",
   "execution_count": 107,
   "metadata": {},
   "outputs": [
    {
     "data": {
      "text/plain": [
       "[1.822105968540365,\n",
       " 2.2153077721595764,\n",
       " 1.7093441459265621,\n",
       " 1.7059854160655628,\n",
       " 2.0241166678341953,\n",
       " 2.87019664591009,\n",
       " 2.1608765585856005,\n",
       " 2.7318989878351037,\n",
       " 2.3338306817141445,\n",
       " 2.56400666995482]"
      ]
     },
     "execution_count": 107,
     "metadata": {},
     "output_type": "execute_result"
    }
   ],
   "source": [
    "history2_3.history['val_loss']"
   ]
  },
  {
   "cell_type": "code",
   "execution_count": 108,
   "metadata": {},
   "outputs": [
    {
     "data": {
      "text/plain": [
       "[0.06684002488480784,\n",
       " 0.07174098470599918,\n",
       " 0.10581423372359826,\n",
       " 0.0672634196407375,\n",
       " 0.0662827815848004,\n",
       " 0.05811004394232803,\n",
       " 0.04003850604108819,\n",
       " 0.041546269667763,\n",
       " 0.07310499924295369,\n",
       " 0.06906830921524909,\n",
       " 0.033650467225525525,\n",
       " 0.021557642081914262,\n",
       " 0.017092902053351327,\n",
       " 0.03468062666558924,\n",
       " 0.05291895674010827]"
      ]
     },
     "execution_count": 108,
     "metadata": {},
     "output_type": "execute_result"
    }
   ],
   "source": [
    "history2_4.history['loss']"
   ]
  },
  {
   "cell_type": "code",
   "execution_count": 109,
   "metadata": {},
   "outputs": [
    {
     "data": {
      "text/plain": [
       "[2.726091742515564,\n",
       " 3.97474097663706,\n",
       " 3.1186787404797296,\n",
       " 3.2419881983236833,\n",
       " 3.1278368641029703,\n",
       " 3.1505607908422295,\n",
       " 3.091788110407916,\n",
       " 3.6981320435350593,\n",
       " 4.059095577760176,\n",
       " 3.6244635338133033,\n",
       " 3.1129473664543847,\n",
       " 3.4149616902524773,\n",
       " 3.369837378913706,\n",
       " 3.689625382423401,\n",
       " 3.4678536626425656]"
      ]
     },
     "execution_count": 109,
     "metadata": {},
     "output_type": "execute_result"
    }
   ],
   "source": [
    "history2_4.history['val_loss']"
   ]
  },
  {
   "cell_type": "code",
   "execution_count": 110,
   "metadata": {},
   "outputs": [
    {
     "data": {
      "text/plain": [
       "[0.034782103266280825,\n",
       " 0.03917073073832239,\n",
       " 0.09266039120032647,\n",
       " 0.05819837906718619,\n",
       " 0.02646598335702611,\n",
       " 0.021096527149190348,\n",
       " 0.01909512015060326,\n",
       " 0.021800153625751648,\n",
       " 0.023599459893354487,\n",
       " 0.03468477499404059,\n",
       " 0.026529115713237326,\n",
       " 0.04275968072990371,\n",
       " 0.07789887076763857,\n",
       " 0.06357514763682309,\n",
       " 0.0834718498935006,\n",
       " 0.06883932520174914,\n",
       " 0.029338872030533345,\n",
       " 0.012655288520157647,\n",
       " 0.010969458156342147,\n",
       " 0.012968837124056495]"
      ]
     },
     "execution_count": 110,
     "metadata": {},
     "output_type": "execute_result"
    }
   ],
   "source": [
    "history2_5.history['loss']"
   ]
  },
  {
   "cell_type": "code",
   "execution_count": 111,
   "metadata": {},
   "outputs": [
    {
     "data": {
      "text/plain": [
       "[4.131449176506563,\n",
       " 4.347876911813563,\n",
       " 4.012670343572443,\n",
       " 3.9544362019408834,\n",
       " 3.9594524556940254,\n",
       " 4.001568200913343,\n",
       " 4.2285767793655396,\n",
       " 3.7283087982372805,\n",
       " 3.4504069821401075,\n",
       " 4.2515974044799805,\n",
       " 4.129700530659068,\n",
       " 4.7331990437074145,\n",
       " 4.698456601663069,\n",
       " 5.909748196601868,\n",
       " 4.724662436680361,\n",
       " 3.880545984614979,\n",
       " 3.3802330182357267,\n",
       " 5.839101661335338,\n",
       " 4.373412763530558,\n",
       " 4.023365497589111]"
      ]
     },
     "execution_count": 111,
     "metadata": {},
     "output_type": "execute_result"
    }
   ],
   "source": [
    "history2_5.history['val_loss']"
   ]
  },
  {
   "cell_type": "code",
   "execution_count": 112,
   "metadata": {},
   "outputs": [
    {
     "data": {
      "text/plain": [
       "[0.26255924, 0.3263823, 0.34881517, 0.3649289, 0.41137442]"
      ]
     },
     "execution_count": 112,
     "metadata": {},
     "output_type": "execute_result"
    }
   ],
   "source": [
    "history2_1.history['accuracy']"
   ]
  },
  {
   "cell_type": "code",
   "execution_count": 113,
   "metadata": {},
   "outputs": [
    {
     "data": {
      "text/plain": [
       "[0.2556818, 0.2840909, 0.34375, 0.3806818, 0.30397728]"
      ]
     },
     "execution_count": 113,
     "metadata": {},
     "output_type": "execute_result"
    }
   ],
   "source": [
    "history2_1.history['val_accuracy']"
   ]
  },
  {
   "cell_type": "code",
   "execution_count": 114,
   "metadata": {},
   "outputs": [
    {
     "data": {
      "text/plain": [
       "[0.414218, 0.4492891, 0.48657188, 0.5238547, 0.57472354]"
      ]
     },
     "execution_count": 114,
     "metadata": {},
     "output_type": "execute_result"
    }
   ],
   "source": [
    "history2_2.history['accuracy']"
   ]
  },
  {
   "cell_type": "code",
   "execution_count": 115,
   "metadata": {},
   "outputs": [
    {
     "data": {
      "text/plain": [
       "[0.35227272, 0.32954547, 0.35511363, 0.4375, 0.4715909]"
      ]
     },
     "execution_count": 115,
     "metadata": {},
     "output_type": "execute_result"
    }
   ],
   "source": [
    "history2_2.history['val_accuracy']"
   ]
  },
  {
   "cell_type": "code",
   "execution_count": 116,
   "metadata": {},
   "outputs": [
    {
     "data": {
      "text/plain": [
       "[0.63254344,\n",
       " 0.7064771,\n",
       " 0.7475513,\n",
       " 0.8075829,\n",
       " 0.871722,\n",
       " 0.9077409,\n",
       " 0.928594,\n",
       " 0.9586098,\n",
       " 0.9630332,\n",
       " 0.96587676]"
      ]
     },
     "execution_count": 116,
     "metadata": {},
     "output_type": "execute_result"
    }
   ],
   "source": [
    "history2_3.history['accuracy']"
   ]
  },
  {
   "cell_type": "code",
   "execution_count": 117,
   "metadata": {},
   "outputs": [
    {
     "data": {
      "text/plain": [
       "[0.4403409,\n",
       " 0.3806818,\n",
       " 0.49147728,\n",
       " 0.5369318,\n",
       " 0.5198864,\n",
       " 0.42329547,\n",
       " 0.5,\n",
       " 0.48579547,\n",
       " 0.54829544,\n",
       " 0.52840906]"
      ]
     },
     "execution_count": 117,
     "metadata": {},
     "output_type": "execute_result"
    }
   ],
   "source": [
    "history2_3.history['val_accuracy']"
   ]
  },
  {
   "cell_type": "code",
   "execution_count": 118,
   "metadata": {},
   "outputs": [
    {
     "data": {
      "text/plain": [
       "[0.9807267,\n",
       " 0.97630334,\n",
       " 0.96271724,\n",
       " 0.97756714,\n",
       " 0.978515,\n",
       " 0.9807267,\n",
       " 0.98799366,\n",
       " 0.98388624,\n",
       " 0.9791469,\n",
       " 0.978831,\n",
       " 0.9883096,\n",
       " 0.992733,\n",
       " 0.9949447,\n",
       " 0.9886256,\n",
       " 0.98578197]"
      ]
     },
     "execution_count": 118,
     "metadata": {},
     "output_type": "execute_result"
    }
   ],
   "source": [
    "history2_4.history['accuracy']"
   ]
  },
  {
   "cell_type": "code",
   "execution_count": 119,
   "metadata": {},
   "outputs": [
    {
     "data": {
      "text/plain": [
       "[0.52840906,\n",
       " 0.48011363,\n",
       " 0.48863637,\n",
       " 0.48863637,\n",
       " 0.47727272,\n",
       " 0.5113636,\n",
       " 0.4715909,\n",
       " 0.50852275,\n",
       " 0.42613637,\n",
       " 0.4744318,\n",
       " 0.52272725,\n",
       " 0.5198864,\n",
       " 0.54829544,\n",
       " 0.5,\n",
       " 0.51420456]"
      ]
     },
     "execution_count": 119,
     "metadata": {},
     "output_type": "execute_result"
    }
   ],
   "source": [
    "history2_4.history['val_accuracy']"
   ]
  },
  {
   "cell_type": "code",
   "execution_count": 120,
   "metadata": {},
   "outputs": [
    {
     "data": {
      "text/plain": [
       "[0.9908373,\n",
       " 0.98894155,\n",
       " 0.97409165,\n",
       " 0.9845182,\n",
       " 0.9895735,\n",
       " 0.99115324,\n",
       " 0.99336493,\n",
       " 0.9943128,\n",
       " 0.99336493,\n",
       " 0.992733,\n",
       " 0.99241704,\n",
       " 0.9883096,\n",
       " 0.9769352,\n",
       " 0.98041075,\n",
       " 0.97946286,\n",
       " 0.9810427,\n",
       " 0.99115324,\n",
       " 0.9946287,\n",
       " 0.9971564,\n",
       " 0.9943128]"
      ]
     },
     "execution_count": 120,
     "metadata": {},
     "output_type": "execute_result"
    }
   ],
   "source": [
    "history2_5.history['accuracy']"
   ]
  },
  {
   "cell_type": "code",
   "execution_count": 121,
   "metadata": {},
   "outputs": [
    {
     "data": {
      "text/plain": [
       "[0.50284094,\n",
       " 0.5,\n",
       " 0.48011363,\n",
       " 0.50284094,\n",
       " 0.53409094,\n",
       " 0.46022728,\n",
       " 0.4431818,\n",
       " 0.5198864,\n",
       " 0.52272725,\n",
       " 0.53125,\n",
       " 0.5056818,\n",
       " 0.4744318,\n",
       " 0.48295453,\n",
       " 0.4119318,\n",
       " 0.44886363,\n",
       " 0.48579547,\n",
       " 0.5,\n",
       " 0.4375,\n",
       " 0.48011363,\n",
       " 0.48863637]"
      ]
     },
     "execution_count": 121,
     "metadata": {},
     "output_type": "execute_result"
    }
   ],
   "source": [
    "history2_5.history['val_accuracy']"
   ]
  },
  {
   "cell_type": "code",
   "execution_count": null,
   "metadata": {},
   "outputs": [],
   "source": []
  },
  {
   "cell_type": "markdown",
   "metadata": {},
   "source": [
    "#############################Channel3#######################################"
   ]
  },
  {
   "cell_type": "code",
   "execution_count": 122,
   "metadata": {},
   "outputs": [],
   "source": [
    "tf.random.set_seed(25)\n",
    "\n",
    "model3 = Sequential()\n",
    "model3.add(Reshape((img_width, img_height,1), input_shape=(img_width, img_height)))\n",
    "model3.add(Conv2D(32, kernel_size=(3, 3), activation='relu'))\n",
    "model3.add(BatchNormalization())\n",
    "model3.add(MaxPooling2D(pool_size=(2, 2)))\n",
    "model3.add(Conv2D(64, kernel_size=(3, 3), activation='relu'))\n",
    "model3.add(BatchNormalization())\n",
    "model3.add(MaxPooling2D(pool_size=(2, 2)))\n",
    "model3.add(Conv2D(128, kernel_size=(3, 3), activation='relu'))\n",
    "model3.add(BatchNormalization())\n",
    "model3.add(MaxPooling2D(pool_size=(2, 2)))\n",
    "model3.add(Flatten())\n",
    "model3.add(Dense(256, activation='relu'))\n",
    "model3.add(Dense(128, activation='relu'))\n",
    "model3.add(Dense(no_classes, activation='softmax'))"
   ]
  },
  {
   "cell_type": "code",
   "execution_count": 123,
   "metadata": {},
   "outputs": [],
   "source": [
    "model3.compile(loss=loss_function,\n",
    "              optimizer=optimizer,\n",
    "              metrics=['accuracy'])"
   ]
  },
  {
   "cell_type": "code",
   "execution_count": 124,
   "metadata": {},
   "outputs": [
    {
     "name": "stdout",
     "output_type": "stream",
     "text": [
      "Train on 3165 samples, validate on 352 samples\n",
      "Epoch 1/5\n",
      "INFO:tensorflow:Assets written to: C:/Users/dsh/Desktop/Papers/paper3/fish - Copy/model3_1\\assets\n",
      "3165/3165 - 4s - loss: 2.2481 - accuracy: 0.3251 - val_loss: 1.6423 - val_accuracy: 0.2330\n",
      "Epoch 2/5\n",
      "INFO:tensorflow:Assets written to: C:/Users/dsh/Desktop/Papers/paper3/fish - Copy/model3_1\\assets\n",
      "3165/3165 - 3s - loss: 1.4091 - accuracy: 0.3848 - val_loss: 1.5403 - val_accuracy: 0.3381\n",
      "Epoch 3/5\n",
      "INFO:tensorflow:Assets written to: C:/Users/dsh/Desktop/Papers/paper3/fish - Copy/model3_1\\assets\n",
      "3165/3165 - 3s - loss: 1.3383 - accuracy: 0.4256 - val_loss: 1.2964 - val_accuracy: 0.4631\n",
      "Epoch 4/5\n",
      "INFO:tensorflow:Assets written to: C:/Users/dsh/Desktop/Papers/paper3/fish - Copy/model3_1\\assets\n",
      "3165/3165 - 3s - loss: 1.2826 - accuracy: 0.4483 - val_loss: 1.2512 - val_accuracy: 0.4886\n",
      "Epoch 5/5\n",
      "3165/3165 - 1s - loss: 1.2269 - accuracy: 0.4806 - val_loss: 1.3092 - val_accuracy: 0.4886\n"
     ]
    }
   ],
   "source": [
    "model_checkpoint_callback3_1 = tf.keras.callbacks.ModelCheckpoint(\n",
    "    filepath=\"C:/Users/dsh/Desktop/Papers/paper3/fish - Copy/model3_1\",\n",
    "    save_weights_only=False,\n",
    "    monitor='val_accuracy',\n",
    "    mode='max',\n",
    "    save_best_only=True)\n",
    "\n",
    "\n",
    "\n",
    "history3_1 = model3.fit(input_train[:,:,:,2], target_train,\n",
    "            batch_size=16,\n",
    "            epochs=5,\n",
    "            verbose=verbosity,\n",
    "            validation_split=validation_split,\n",
    "                       callbacks=[model_checkpoint_callback3_1])\n",
    "\n",
    "\n",
    "save_model(model3,'model3_1.h5')\n",
    "\n",
    "model3_1_max=load_model(\"C:/Users/dsh/Desktop/Papers/paper3/fish - Copy/model3_1\")\n",
    "pred3_1=model3_1_max.predict(input_test[:,:,:,2])"
   ]
  },
  {
   "cell_type": "code",
   "execution_count": 125,
   "metadata": {},
   "outputs": [
    {
     "name": "stdout",
     "output_type": "stream",
     "text": [
      "0.45375\n"
     ]
    }
   ],
   "source": [
    "accuracy_from_test(pred3_1, target_test )"
   ]
  },
  {
   "cell_type": "code",
   "execution_count": 126,
   "metadata": {
    "scrolled": true
   },
   "outputs": [
    {
     "name": "stdout",
     "output_type": "stream",
     "text": [
      "WARNING:tensorflow:Error in loading the saved optimizer state. As a result, your model is starting with a freshly initialized optimizer.\n",
      "Train on 3165 samples, validate on 352 samples\n",
      "Epoch 1/5\n",
      "INFO:tensorflow:Assets written to: C:/Users/dsh/Desktop/Papers/paper3/fish - Copy/model3_2\\assets\n",
      "3165/3165 - 3s - loss: 1.2338 - accuracy: 0.4904 - val_loss: 1.2955 - val_accuracy: 0.5000\n",
      "Epoch 2/5\n",
      "3165/3165 - 1s - loss: 1.1544 - accuracy: 0.5194 - val_loss: 1.4544 - val_accuracy: 0.4773\n",
      "Epoch 3/5\n",
      "INFO:tensorflow:Assets written to: C:/Users/dsh/Desktop/Papers/paper3/fish - Copy/model3_2\\assets\n",
      "3165/3165 - 2s - loss: 1.0821 - accuracy: 0.5532 - val_loss: 1.1412 - val_accuracy: 0.5256\n",
      "Epoch 4/5\n",
      "INFO:tensorflow:Assets written to: C:/Users/dsh/Desktop/Papers/paper3/fish - Copy/model3_2\\assets\n",
      "3165/3165 - 3s - loss: 1.0072 - accuracy: 0.5826 - val_loss: 1.2489 - val_accuracy: 0.5312\n",
      "Epoch 5/5\n",
      "3165/3165 - 1s - loss: 0.9218 - accuracy: 0.6117 - val_loss: 1.7605 - val_accuracy: 0.4403\n"
     ]
    }
   ],
   "source": [
    "model3_2=load_model('model3_1.h5')\n",
    "\n",
    "model_checkpoint_callback3_2 = tf.keras.callbacks.ModelCheckpoint(\n",
    "    filepath=\"C:/Users/dsh/Desktop/Papers/paper3/fish - Copy/model3_2\",\n",
    "    save_weights_only=False,\n",
    "    monitor='val_accuracy',\n",
    "    mode='max',\n",
    "    save_best_only=True)\n",
    "\n",
    "\n",
    "history3=model3_2.fit(input_train[:,:,:,2], target_train,\n",
    "            batch_size=16,\n",
    "            epochs=5,\n",
    "            verbose=2,\n",
    "            validation_split=validation_split,\n",
    "                callbacks=[model_checkpoint_callback3_2]  )\n",
    "\n",
    "model3_2.save('model3_2.h5')\n",
    "model3_2_max=load_model(\"C:/Users/dsh/Desktop/Papers/paper3/fish - Copy/model3_2\")\n",
    "pred3_2=model3_2_max.predict(input_test[:,:,:,2])"
   ]
  },
  {
   "cell_type": "code",
   "execution_count": 127,
   "metadata": {},
   "outputs": [
    {
     "name": "stdout",
     "output_type": "stream",
     "text": [
      "0.50375\n"
     ]
    }
   ],
   "source": [
    "accuracy_from_test(pred3_2, target_test)"
   ]
  },
  {
   "cell_type": "code",
   "execution_count": 128,
   "metadata": {},
   "outputs": [
    {
     "name": "stdout",
     "output_type": "stream",
     "text": [
      "Train on 3165 samples, validate on 352 samples\n",
      "Epoch 1/10\n",
      "INFO:tensorflow:Assets written to: C:/Users/dsh/Desktop/Papers/paper3/fish - Copy/model3_3\\assets\n",
      "3165/3165 - 3s - loss: 0.8334 - accuracy: 0.6635 - val_loss: 1.3498 - val_accuracy: 0.5057\n",
      "Epoch 2/10\n",
      "INFO:tensorflow:Assets written to: C:/Users/dsh/Desktop/Papers/paper3/fish - Copy/model3_3\\assets\n",
      "3165/3165 - 3s - loss: 0.6960 - accuracy: 0.7239 - val_loss: 1.3583 - val_accuracy: 0.5597\n",
      "Epoch 3/10\n",
      "3165/3165 - 1s - loss: 0.5899 - accuracy: 0.7580 - val_loss: 1.5183 - val_accuracy: 0.5256\n",
      "Epoch 4/10\n",
      "3165/3165 - 1s - loss: 0.4711 - accuracy: 0.8205 - val_loss: 1.8246 - val_accuracy: 0.5199\n",
      "Epoch 5/10\n",
      "3165/3165 - 1s - loss: 0.3887 - accuracy: 0.8524 - val_loss: 1.5487 - val_accuracy: 0.5170\n",
      "Epoch 6/10\n",
      "INFO:tensorflow:Assets written to: C:/Users/dsh/Desktop/Papers/paper3/fish - Copy/model3_3\\assets\n",
      "3165/3165 - 2s - loss: 0.3207 - accuracy: 0.8784 - val_loss: 1.6347 - val_accuracy: 0.5625\n",
      "Epoch 7/10\n",
      "INFO:tensorflow:Assets written to: C:/Users/dsh/Desktop/Papers/paper3/fish - Copy/model3_3\\assets\n",
      "3165/3165 - 3s - loss: 0.2558 - accuracy: 0.9043 - val_loss: 1.8690 - val_accuracy: 0.5682\n",
      "Epoch 8/10\n",
      "3165/3165 - 1s - loss: 0.1902 - accuracy: 0.9289 - val_loss: 1.9026 - val_accuracy: 0.5511\n",
      "Epoch 9/10\n",
      "3165/3165 - 1s - loss: 0.1720 - accuracy: 0.9441 - val_loss: 2.2007 - val_accuracy: 0.5682\n",
      "Epoch 10/10\n",
      "3165/3165 - 1s - loss: 0.1339 - accuracy: 0.9532 - val_loss: 2.2931 - val_accuracy: 0.5511\n"
     ]
    }
   ],
   "source": [
    "model3_3=load_model('model3_2.h5')\n",
    "\n",
    "model_checkpoint_callback3_3 = tf.keras.callbacks.ModelCheckpoint(\n",
    "    filepath=\"C:/Users/dsh/Desktop/Papers/paper3/fish - Copy/model3_3\",\n",
    "    save_weights_only=False,\n",
    "    monitor='val_accuracy',\n",
    "    mode='max',\n",
    "    save_best_only=True)\n",
    "\n",
    "history3_3 = model3_3.fit(input_train[:,:,:,2], target_train,\n",
    "            batch_size=16,\n",
    "            epochs=10,\n",
    "            verbose=2,\n",
    "            validation_split=validation_split,\n",
    "                         callbacks=[model_checkpoint_callback3_3])\n",
    "model3_3.save('model3_3.h5')\n",
    "\n",
    "model3_3_max=load_model(\"C:/Users/dsh/Desktop/Papers/paper3/fish - Copy/model3_3\")\n",
    "pred3_3=model3_3_max.predict(input_test[:,:,:,2])"
   ]
  },
  {
   "cell_type": "code",
   "execution_count": 129,
   "metadata": {},
   "outputs": [
    {
     "name": "stdout",
     "output_type": "stream",
     "text": [
      "0.53125\n"
     ]
    }
   ],
   "source": [
    "accuracy_from_test(pred3_3, target_test)"
   ]
  },
  {
   "cell_type": "code",
   "execution_count": 130,
   "metadata": {
    "scrolled": true
   },
   "outputs": [
    {
     "name": "stdout",
     "output_type": "stream",
     "text": [
      "Train on 3165 samples, validate on 352 samples\n",
      "Epoch 1/15\n",
      "INFO:tensorflow:Assets written to: C:/Users/dsh/Desktop/Papers/paper3/fish - Copy/model3_4\\assets\n",
      "3165/3165 - 3s - loss: 0.1155 - accuracy: 0.9640 - val_loss: 2.1180 - val_accuracy: 0.5682\n",
      "Epoch 2/15\n",
      "3165/3165 - 1s - loss: 0.0742 - accuracy: 0.9760 - val_loss: 2.6274 - val_accuracy: 0.5426\n",
      "Epoch 3/15\n",
      "3165/3165 - 1s - loss: 0.0756 - accuracy: 0.9785 - val_loss: 2.3069 - val_accuracy: 0.5341\n",
      "Epoch 4/15\n",
      "3165/3165 - 1s - loss: 0.0653 - accuracy: 0.9791 - val_loss: 2.6494 - val_accuracy: 0.5369\n",
      "Epoch 5/15\n",
      "3165/3165 - 1s - loss: 0.0739 - accuracy: 0.9747 - val_loss: 2.1624 - val_accuracy: 0.5398\n",
      "Epoch 6/15\n",
      "3165/3165 - 1s - loss: 0.0684 - accuracy: 0.9801 - val_loss: 2.7560 - val_accuracy: 0.5398\n",
      "Epoch 7/15\n",
      "3165/3165 - 1s - loss: 0.0807 - accuracy: 0.9754 - val_loss: 2.6128 - val_accuracy: 0.5426\n",
      "Epoch 8/15\n",
      "3165/3165 - 1s - loss: 0.0596 - accuracy: 0.9817 - val_loss: 2.5364 - val_accuracy: 0.5426\n",
      "Epoch 9/15\n",
      "3165/3165 - 1s - loss: 0.0487 - accuracy: 0.9864 - val_loss: 2.8146 - val_accuracy: 0.5653\n",
      "Epoch 10/15\n",
      "3165/3165 - 1s - loss: 0.0498 - accuracy: 0.9845 - val_loss: 3.0016 - val_accuracy: 0.5227\n",
      "Epoch 11/15\n",
      "3165/3165 - 1s - loss: 0.0472 - accuracy: 0.9839 - val_loss: 2.7807 - val_accuracy: 0.5426\n",
      "Epoch 12/15\n",
      "3165/3165 - 1s - loss: 0.0596 - accuracy: 0.9861 - val_loss: 3.0635 - val_accuracy: 0.5085\n",
      "Epoch 13/15\n",
      "3165/3165 - 1s - loss: 0.0689 - accuracy: 0.9807 - val_loss: 2.9254 - val_accuracy: 0.5455\n",
      "Epoch 14/15\n",
      "3165/3165 - 1s - loss: 0.0830 - accuracy: 0.9728 - val_loss: 4.2913 - val_accuracy: 0.5057\n",
      "Epoch 15/15\n",
      "3165/3165 - 1s - loss: 0.0491 - accuracy: 0.9883 - val_loss: 2.9224 - val_accuracy: 0.5455\n"
     ]
    }
   ],
   "source": [
    "model3_4=load_model('model3_3.h5')\n",
    "\n",
    "model_checkpoint_callback3_4 = tf.keras.callbacks.ModelCheckpoint(\n",
    "    filepath=\"C:/Users/dsh/Desktop/Papers/paper3/fish - Copy/model3_4\",\n",
    "    save_weights_only=False,\n",
    "    monitor='val_accuracy',\n",
    "    mode='max',\n",
    "    save_best_only=True)\n",
    "\n",
    "history3_4 = model3_4.fit(input_train[:,:,:,2], target_train,\n",
    "            batch_size=16,\n",
    "            epochs=15,\n",
    "            verbose=2,\n",
    "            validation_split=validation_split,\n",
    "                         callbacks=[model_checkpoint_callback3_4])\n",
    "model3_4.save('model3_4.h5')\n",
    "\n",
    "model3_4_max=load_model(\"C:/Users/dsh/Desktop/Papers/paper3/fish - Copy/model3_4\")\n",
    "pred3_4=model3_4_max.predict(input_test[:,:,:,2])"
   ]
  },
  {
   "cell_type": "code",
   "execution_count": 131,
   "metadata": {},
   "outputs": [
    {
     "name": "stdout",
     "output_type": "stream",
     "text": [
      "0.57\n"
     ]
    }
   ],
   "source": [
    "accuracy_from_test(pred3_4, target_test)"
   ]
  },
  {
   "cell_type": "code",
   "execution_count": 132,
   "metadata": {},
   "outputs": [
    {
     "name": "stdout",
     "output_type": "stream",
     "text": [
      "Train on 3165 samples, validate on 352 samples\n",
      "Epoch 1/20\n",
      "INFO:tensorflow:Assets written to: C:/Users/dsh/Desktop/Papers/paper3/fish - Copy/model3_5\\assets\n",
      "3165/3165 - 4s - loss: 0.0268 - accuracy: 0.9912 - val_loss: 2.8273 - val_accuracy: 0.5170\n",
      "Epoch 2/20\n",
      "INFO:tensorflow:Assets written to: C:/Users/dsh/Desktop/Papers/paper3/fish - Copy/model3_5\\assets\n",
      "3165/3165 - 2s - loss: 0.0313 - accuracy: 0.9905 - val_loss: 2.8595 - val_accuracy: 0.5540\n",
      "Epoch 3/20\n",
      "3165/3165 - 1s - loss: 0.0217 - accuracy: 0.9921 - val_loss: 3.3251 - val_accuracy: 0.5028\n",
      "Epoch 4/20\n",
      "3165/3165 - 1s - loss: 0.1012 - accuracy: 0.9716 - val_loss: 2.9282 - val_accuracy: 0.5256\n",
      "Epoch 5/20\n",
      "3165/3165 - 1s - loss: 0.0623 - accuracy: 0.9810 - val_loss: 3.0829 - val_accuracy: 0.4830\n",
      "Epoch 6/20\n",
      "3165/3165 - 1s - loss: 0.0348 - accuracy: 0.9886 - val_loss: 3.1185 - val_accuracy: 0.5341\n",
      "Epoch 7/20\n",
      "3165/3165 - 1s - loss: 0.0201 - accuracy: 0.9949 - val_loss: 3.4029 - val_accuracy: 0.5256\n",
      "Epoch 8/20\n",
      "3165/3165 - 1s - loss: 0.0237 - accuracy: 0.9937 - val_loss: 3.4513 - val_accuracy: 0.5142\n",
      "Epoch 9/20\n",
      "3165/3165 - 1s - loss: 0.0514 - accuracy: 0.9839 - val_loss: 2.8957 - val_accuracy: 0.5199\n",
      "Epoch 10/20\n",
      "3165/3165 - 1s - loss: 0.0339 - accuracy: 0.9905 - val_loss: 3.4055 - val_accuracy: 0.5284\n",
      "Epoch 11/20\n",
      "3165/3165 - 1s - loss: 0.0220 - accuracy: 0.9940 - val_loss: 3.1164 - val_accuracy: 0.5426\n",
      "Epoch 12/20\n",
      "3165/3165 - 1s - loss: 0.0286 - accuracy: 0.9927 - val_loss: 3.1703 - val_accuracy: 0.5227\n",
      "Epoch 13/20\n",
      "3165/3165 - 1s - loss: 0.0139 - accuracy: 0.9946 - val_loss: 3.5428 - val_accuracy: 0.5455\n",
      "Epoch 14/20\n",
      "INFO:tensorflow:Assets written to: C:/Users/dsh/Desktop/Papers/paper3/fish - Copy/model3_5\\assets\n",
      "3165/3165 - 2s - loss: 0.0184 - accuracy: 0.9946 - val_loss: 3.4189 - val_accuracy: 0.5568\n",
      "Epoch 15/20\n",
      "3165/3165 - 1s - loss: 0.0331 - accuracy: 0.9877 - val_loss: 3.5625 - val_accuracy: 0.5000\n",
      "Epoch 16/20\n",
      "3165/3165 - 1s - loss: 0.0835 - accuracy: 0.9719 - val_loss: 2.9672 - val_accuracy: 0.5142\n",
      "Epoch 17/20\n",
      "3165/3165 - 1s - loss: 0.0463 - accuracy: 0.9839 - val_loss: 3.5085 - val_accuracy: 0.5085\n",
      "Epoch 18/20\n",
      "3165/3165 - 1s - loss: 0.0395 - accuracy: 0.9874 - val_loss: 4.0882 - val_accuracy: 0.4972\n",
      "Epoch 19/20\n",
      "3165/3165 - 1s - loss: 0.0437 - accuracy: 0.9867 - val_loss: 3.5289 - val_accuracy: 0.5312\n",
      "Epoch 20/20\n",
      "3165/3165 - 1s - loss: 0.0165 - accuracy: 0.9943 - val_loss: 3.3856 - val_accuracy: 0.5312\n"
     ]
    }
   ],
   "source": [
    "model3_5=load_model('model3_4.h5')\n",
    "\n",
    "model_checkpoint_callback3_5 = tf.keras.callbacks.ModelCheckpoint(\n",
    "    filepath=\"C:/Users/dsh/Desktop/Papers/paper3/fish - Copy/model3_5\",\n",
    "    save_weights_only=False,\n",
    "    monitor='val_accuracy',\n",
    "    mode='max',\n",
    "    save_best_only=True)\n",
    "\n",
    "history3_5 = model3_5.fit(input_train[:,:,:,2], target_train,\n",
    "            batch_size=16,\n",
    "            epochs=20,\n",
    "            verbose=2,\n",
    "            validation_split=validation_split,\n",
    "                          callbacks=[model_checkpoint_callback3_5])\n",
    "model3_5.save('model3_5.h5')\n",
    "\n",
    "model3_5_max=load_model(\"C:/Users/dsh/Desktop/Papers/paper3/fish - Copy/model3_5\")\n",
    "pred3_5=model3_5_max.predict(input_test[:,:,:,2])\n"
   ]
  },
  {
   "cell_type": "code",
   "execution_count": 133,
   "metadata": {},
   "outputs": [
    {
     "name": "stdout",
     "output_type": "stream",
     "text": [
      "0.58125\n"
     ]
    }
   ],
   "source": [
    "accuracy_from_test(pred3_5, target_test)"
   ]
  },
  {
   "cell_type": "code",
   "execution_count": 40,
   "metadata": {},
   "outputs": [],
   "source": [
    "model3_1_max=load_model(\"D:/Users/dsh/Desktop/Papers/paper3/fish - Copy/model3_1\")\n",
    "pred3_1=model3_1_max.predict(input_test[:,:,:,2])\n",
    "\n",
    "model3_2_max=load_model(\"D:/Users/dsh/Desktop/Papers/paper3/fish - Copy/model3_2\")\n",
    "pred3_2=model3_2_max.predict(input_test[:,:,:,2])\n",
    "\n",
    "model3_3_max=load_model(\"D:/Users/dsh/Desktop/Papers/paper3/fish - Copy/model3_3\")\n",
    "pred3_3=model3_3_max.predict(input_test[:,:,:,2])\n",
    "\n",
    "model3_4_max=load_model(\"D:/Users/dsh/Desktop/Papers/paper3/fish - Copy/model3_4\")\n",
    "pred3_4=model3_4_max.predict(input_test[:,:,:,2])\n",
    "\n",
    "model3_5_max=load_model(\"D:/Users/dsh/Desktop/Papers/paper3/fish - Copy/model3_5\")\n",
    "pred3_5=model3_5_max.predict(input_test[:,:,:,2])"
   ]
  },
  {
   "cell_type": "code",
   "execution_count": 41,
   "metadata": {},
   "outputs": [
    {
     "name": "stdout",
     "output_type": "stream",
     "text": [
      "0.4925\n"
     ]
    }
   ],
   "source": [
    "accuracy_from_test(pred3_1, target_test)"
   ]
  },
  {
   "cell_type": "code",
   "execution_count": 42,
   "metadata": {},
   "outputs": [
    {
     "name": "stdout",
     "output_type": "stream",
     "text": [
      "0.59375\n"
     ]
    }
   ],
   "source": [
    "accuracy_from_test(pred3_2, target_test)"
   ]
  },
  {
   "cell_type": "code",
   "execution_count": 43,
   "metadata": {},
   "outputs": [
    {
     "name": "stdout",
     "output_type": "stream",
     "text": [
      "0.84125\n"
     ]
    }
   ],
   "source": [
    "accuracy_from_test(pred3_3, target_test)"
   ]
  },
  {
   "cell_type": "code",
   "execution_count": 44,
   "metadata": {},
   "outputs": [
    {
     "name": "stdout",
     "output_type": "stream",
     "text": [
      "0.8775\n"
     ]
    }
   ],
   "source": [
    "accuracy_from_test(pred3_4, target_test)"
   ]
  },
  {
   "cell_type": "code",
   "execution_count": 45,
   "metadata": {},
   "outputs": [
    {
     "name": "stdout",
     "output_type": "stream",
     "text": [
      "0.90375\n"
     ]
    }
   ],
   "source": [
    "accuracy_from_test(pred3_5, target_test)"
   ]
  },
  {
   "cell_type": "code",
   "execution_count": 46,
   "metadata": {},
   "outputs": [],
   "source": [
    "c=pred3_3+pred3_5+pred3_1+pred3_2+pred3_4"
   ]
  },
  {
   "cell_type": "code",
   "execution_count": 47,
   "metadata": {},
   "outputs": [
    {
     "name": "stdout",
     "output_type": "stream",
     "text": [
      "0.9\n"
     ]
    }
   ],
   "source": [
    "accuracy_from_test(c, target_test)"
   ]
  },
  {
   "cell_type": "code",
   "execution_count": null,
   "metadata": {},
   "outputs": [],
   "source": []
  },
  {
   "cell_type": "code",
   "execution_count": 48,
   "metadata": {},
   "outputs": [
    {
     "name": "stdout",
     "output_type": "stream",
     "text": [
      "0.8875\n"
     ]
    }
   ],
   "source": [
    "accuracy_from_test(b, target_test)"
   ]
  },
  {
   "cell_type": "code",
   "execution_count": 49,
   "metadata": {},
   "outputs": [
    {
     "name": "stdout",
     "output_type": "stream",
     "text": [
      "0.89875\n"
     ]
    }
   ],
   "source": [
    "accuracy_from_test(ghhh, target_test)"
   ]
  },
  {
   "cell_type": "code",
   "execution_count": 50,
   "metadata": {},
   "outputs": [
    {
     "name": "stdout",
     "output_type": "stream",
     "text": [
      "0.9025\n"
     ]
    }
   ],
   "source": [
    "accuracy_from_test(b+ghhh, target_test) #####################final ensemble##############"
   ]
  },
  {
   "cell_type": "code",
   "execution_count": 56,
   "metadata": {},
   "outputs": [
    {
     "name": "stdout",
     "output_type": "stream",
     "text": [
      "0.93125\n"
     ]
    }
   ],
   "source": [
    "accuracy_from_test(a, target_test)"
   ]
  },
  {
   "cell_type": "code",
   "execution_count": 57,
   "metadata": {},
   "outputs": [
    {
     "name": "stdout",
     "output_type": "stream",
     "text": [
      "0.93125\n"
     ]
    }
   ],
   "source": [
    "accuracy_from_test(a, target_test)"
   ]
  },
  {
   "cell_type": "code",
   "execution_count": null,
   "metadata": {},
   "outputs": [],
   "source": []
  },
  {
   "cell_type": "code",
   "execution_count": 147,
   "metadata": {},
   "outputs": [
    {
     "name": "stdout",
     "output_type": "stream",
     "text": [
      "0.66\n",
      "0.53125\n",
      "0.59875\n",
      "None None None\n"
     ]
    }
   ],
   "source": [
    "print(accuracy_from_test(a, target_test),    accuracy_from_test(b, target_test), accuracy_from_test(c, target_test))"
   ]
  },
  {
   "cell_type": "code",
   "execution_count": 148,
   "metadata": {},
   "outputs": [
    {
     "data": {
      "text/plain": [
       "[2.248100958766907,\n",
       " 1.4091046942730463,\n",
       " 1.338319379797479,\n",
       " 1.2826078806254912,\n",
       " 1.2269366650408102]"
      ]
     },
     "execution_count": 148,
     "metadata": {},
     "output_type": "execute_result"
    }
   ],
   "source": [
    "history3_1.history['loss']"
   ]
  },
  {
   "cell_type": "code",
   "execution_count": 149,
   "metadata": {},
   "outputs": [
    {
     "data": {
      "text/plain": [
       "[1.6422739679163152,\n",
       " 1.5402730378237637,\n",
       " 1.2964316443963484,\n",
       " 1.2512480155988173,\n",
       " 1.3092173392122441]"
      ]
     },
     "execution_count": 149,
     "metadata": {},
     "output_type": "execute_result"
    }
   ],
   "source": [
    "history3_1.history['val_loss']"
   ]
  },
  {
   "cell_type": "code",
   "execution_count": 150,
   "metadata": {},
   "outputs": [
    {
     "data": {
      "text/plain": [
       "[1.2337620406730856,\n",
       " 1.154380370787158,\n",
       " 1.0821244199882374,\n",
       " 1.0071601265602956,\n",
       " 0.9217935213733812]"
      ]
     },
     "execution_count": 150,
     "metadata": {},
     "output_type": "execute_result"
    }
   ],
   "source": [
    "history3_2=history3\n",
    "history3_2.history['loss']"
   ]
  },
  {
   "cell_type": "code",
   "execution_count": 151,
   "metadata": {},
   "outputs": [
    {
     "data": {
      "text/plain": [
       "[1.2954936190084978,\n",
       " 1.4543624032627454,\n",
       " 1.141177158464085,\n",
       " 1.2489114051515406,\n",
       " 1.7605080279436978]"
      ]
     },
     "execution_count": 151,
     "metadata": {},
     "output_type": "execute_result"
    }
   ],
   "source": [
    "history3_2.history['val_loss']"
   ]
  },
  {
   "cell_type": "code",
   "execution_count": 152,
   "metadata": {},
   "outputs": [
    {
     "data": {
      "text/plain": [
       "[0.8333863701112274,\n",
       " 0.6960263156777875,\n",
       " 0.5898840081541082,\n",
       " 0.4710692808526387,\n",
       " 0.38871244246737463,\n",
       " 0.3206784220480053,\n",
       " 0.25582026160347143,\n",
       " 0.1901833124776587,\n",
       " 0.17195977923853137,\n",
       " 0.13387918864475418]"
      ]
     },
     "execution_count": 152,
     "metadata": {},
     "output_type": "execute_result"
    }
   ],
   "source": [
    "history3_3.history['loss']"
   ]
  },
  {
   "cell_type": "code",
   "execution_count": 153,
   "metadata": {},
   "outputs": [
    {
     "data": {
      "text/plain": [
       "[1.3498235968026249,\n",
       " 1.3582886349071155,\n",
       " 1.5183242180130698,\n",
       " 1.8245700055902654,\n",
       " 1.5486918010494926,\n",
       " 1.6347403661771254,\n",
       " 1.8689599470658735,\n",
       " 1.9025956094264984,\n",
       " 2.2006899660283867,\n",
       " 2.2930810072205285]"
      ]
     },
     "execution_count": 153,
     "metadata": {},
     "output_type": "execute_result"
    }
   ],
   "source": [
    "history3_3.history['val_loss']"
   ]
  },
  {
   "cell_type": "code",
   "execution_count": 154,
   "metadata": {},
   "outputs": [
    {
     "data": {
      "text/plain": [
       "[0.11554615430233744,\n",
       " 0.07422369699248393,\n",
       " 0.07555689880386066,\n",
       " 0.06528264068068546,\n",
       " 0.07385301051876915,\n",
       " 0.06837561684197159,\n",
       " 0.08068059456386084,\n",
       " 0.059559499135235026,\n",
       " 0.048702932486978566,\n",
       " 0.049793727696861474,\n",
       " 0.047160193777170865,\n",
       " 0.05955133542418848,\n",
       " 0.06889269962365405,\n",
       " 0.08302974560633478,\n",
       " 0.049052786374290655]"
      ]
     },
     "execution_count": 154,
     "metadata": {},
     "output_type": "execute_result"
    }
   ],
   "source": [
    "history3_4.history['loss']"
   ]
  },
  {
   "cell_type": "code",
   "execution_count": 155,
   "metadata": {},
   "outputs": [
    {
     "data": {
      "text/plain": [
       "[2.117992793971842,\n",
       " 2.6274102709510108,\n",
       " 2.306889300996607,\n",
       " 2.6494078690355476,\n",
       " 2.1624002294106917,\n",
       " 2.756049297072671,\n",
       " 2.612849777395075,\n",
       " 2.5364202098412947,\n",
       " 2.8145810582421045,\n",
       " 3.00161489573392,\n",
       " 2.7806805859912527,\n",
       " 3.0635440349578857,\n",
       " 2.9254144646904687,\n",
       " 4.2912621606479995,\n",
       " 2.9224494912407617]"
      ]
     },
     "execution_count": 155,
     "metadata": {},
     "output_type": "execute_result"
    }
   ],
   "source": [
    "history3_4.history['val_loss']"
   ]
  },
  {
   "cell_type": "code",
   "execution_count": 156,
   "metadata": {},
   "outputs": [
    {
     "data": {
      "text/plain": [
       "[0.02684245567837227,\n",
       " 0.03129959089126464,\n",
       " 0.021667829820252497,\n",
       " 0.10116970946821591,\n",
       " 0.062250210646882735,\n",
       " 0.03478981918856902,\n",
       " 0.020139606339127043,\n",
       " 0.02368199381672764,\n",
       " 0.05136028128386642,\n",
       " 0.033882178291217736,\n",
       " 0.022000291844026965,\n",
       " 0.028590050354025415,\n",
       " 0.013854499702850551,\n",
       " 0.01841730007998605,\n",
       " 0.03308607213981494,\n",
       " 0.08352029843737355,\n",
       " 0.04633791170334576,\n",
       " 0.03949399496517681,\n",
       " 0.04374286660522801,\n",
       " 0.01651436889684453]"
      ]
     },
     "execution_count": 156,
     "metadata": {},
     "output_type": "execute_result"
    }
   ],
   "source": [
    "history3_5.history['loss']"
   ]
  },
  {
   "cell_type": "code",
   "execution_count": 157,
   "metadata": {},
   "outputs": [
    {
     "data": {
      "text/plain": [
       "[2.827309074726972,\n",
       " 2.8594933206384834,\n",
       " 3.325126355344599,\n",
       " 2.928191136230122,\n",
       " 3.0828804590485315,\n",
       " 3.118523906577717,\n",
       " 3.4029425220056013,\n",
       " 3.451328593221578,\n",
       " 2.8957017849792135,\n",
       " 3.4054847955703735,\n",
       " 3.11641925573349,\n",
       " 3.170315547422929,\n",
       " 3.542814867063002,\n",
       " 3.418902586806904,\n",
       " 3.562548902901736,\n",
       " 2.9672376892783423,\n",
       " 3.5085005218332466,\n",
       " 4.088202308524739,\n",
       " 3.5289018804376777,\n",
       " 3.385565708984028]"
      ]
     },
     "execution_count": 157,
     "metadata": {},
     "output_type": "execute_result"
    }
   ],
   "source": [
    "history3_5.history['val_loss']"
   ]
  },
  {
   "cell_type": "code",
   "execution_count": 158,
   "metadata": {},
   "outputs": [
    {
     "data": {
      "text/plain": [
       "[0.32511848, 0.3848341, 0.42559242, 0.44834122, 0.4805687]"
      ]
     },
     "execution_count": 158,
     "metadata": {},
     "output_type": "execute_result"
    }
   ],
   "source": [
    "history3_1.history['accuracy']"
   ]
  },
  {
   "cell_type": "code",
   "execution_count": 159,
   "metadata": {},
   "outputs": [
    {
     "data": {
      "text/plain": [
       "[0.23295455, 0.3380682, 0.4630682, 0.48863637, 0.48863637]"
      ]
     },
     "execution_count": 159,
     "metadata": {},
     "output_type": "execute_result"
    }
   ],
   "source": [
    "history3_1.history['val_accuracy']"
   ]
  },
  {
   "cell_type": "code",
   "execution_count": 160,
   "metadata": {},
   "outputs": [
    {
     "data": {
      "text/plain": [
       "[0.49036336, 0.5194313, 0.5532386, 0.5826224, 0.61169034]"
      ]
     },
     "execution_count": 160,
     "metadata": {},
     "output_type": "execute_result"
    }
   ],
   "source": [
    "history3_2.history['accuracy']"
   ]
  },
  {
   "cell_type": "code",
   "execution_count": 161,
   "metadata": {},
   "outputs": [
    {
     "data": {
      "text/plain": [
       "[0.5, 0.47727272, 0.5255682, 0.53125, 0.4403409]"
      ]
     },
     "execution_count": 161,
     "metadata": {},
     "output_type": "execute_result"
    }
   ],
   "source": [
    "history3_2.history['val_accuracy']"
   ]
  },
  {
   "cell_type": "code",
   "execution_count": null,
   "metadata": {},
   "outputs": [],
   "source": []
  },
  {
   "cell_type": "code",
   "execution_count": 162,
   "metadata": {},
   "outputs": [
    {
     "data": {
      "text/plain": [
       "[0.6635071,\n",
       " 0.72385466,\n",
       " 0.7579779,\n",
       " 0.82053715,\n",
       " 0.85244864,\n",
       " 0.87835705,\n",
       " 0.9042654,\n",
       " 0.92890996,\n",
       " 0.9440758,\n",
       " 0.95323855]"
      ]
     },
     "execution_count": 162,
     "metadata": {},
     "output_type": "execute_result"
    }
   ],
   "source": [
    "history3_3.history['accuracy']"
   ]
  },
  {
   "cell_type": "code",
   "execution_count": 163,
   "metadata": {},
   "outputs": [
    {
     "data": {
      "text/plain": [
       "[0.5056818,\n",
       " 0.55965906,\n",
       " 0.5255682,\n",
       " 0.5198864,\n",
       " 0.51704544,\n",
       " 0.5625,\n",
       " 0.5681818,\n",
       " 0.5511364,\n",
       " 0.5681818,\n",
       " 0.5511364]"
      ]
     },
     "execution_count": 163,
     "metadata": {},
     "output_type": "execute_result"
    }
   ],
   "source": [
    "history3_3.history['val_accuracy']"
   ]
  },
  {
   "cell_type": "code",
   "execution_count": null,
   "metadata": {},
   "outputs": [],
   "source": []
  },
  {
   "cell_type": "code",
   "execution_count": 164,
   "metadata": {},
   "outputs": [
    {
     "data": {
      "text/plain": [
       "[0.96398103,\n",
       " 0.9759874,\n",
       " 0.978515,\n",
       " 0.9791469,\n",
       " 0.9747235,\n",
       " 0.9800948,\n",
       " 0.97535545,\n",
       " 0.98167455,\n",
       " 0.9864139,\n",
       " 0.9845182,\n",
       " 0.98388624,\n",
       " 0.98609793,\n",
       " 0.9807267,\n",
       " 0.9728278,\n",
       " 0.9883096]"
      ]
     },
     "execution_count": 164,
     "metadata": {},
     "output_type": "execute_result"
    }
   ],
   "source": [
    "history3_4.history['accuracy']"
   ]
  },
  {
   "cell_type": "code",
   "execution_count": 165,
   "metadata": {},
   "outputs": [
    {
     "data": {
      "text/plain": [
       "[0.5681818,\n",
       " 0.5426136,\n",
       " 0.53409094,\n",
       " 0.5369318,\n",
       " 0.53977275,\n",
       " 0.53977275,\n",
       " 0.5426136,\n",
       " 0.5426136,\n",
       " 0.56534094,\n",
       " 0.52272725,\n",
       " 0.5426136,\n",
       " 0.50852275,\n",
       " 0.54545456,\n",
       " 0.5056818,\n",
       " 0.54545456]"
      ]
     },
     "execution_count": 165,
     "metadata": {},
     "output_type": "execute_result"
    }
   ],
   "source": [
    "history3_4.history['val_accuracy']"
   ]
  },
  {
   "cell_type": "code",
   "execution_count": 166,
   "metadata": {},
   "outputs": [
    {
     "data": {
      "text/plain": [
       "[0.99115324,\n",
       " 0.9905213,\n",
       " 0.99210113,\n",
       " 0.971564,\n",
       " 0.9810427,\n",
       " 0.9886256,\n",
       " 0.9949447,\n",
       " 0.9936809,\n",
       " 0.98388624,\n",
       " 0.9905213,\n",
       " 0.99399686,\n",
       " 0.992733,\n",
       " 0.9946287,\n",
       " 0.9946287,\n",
       " 0.98767775,\n",
       " 0.97187996,\n",
       " 0.98388624,\n",
       " 0.9873618,\n",
       " 0.98672986,\n",
       " 0.9943128]"
      ]
     },
     "execution_count": 166,
     "metadata": {},
     "output_type": "execute_result"
    }
   ],
   "source": [
    "history3_5.history['accuracy']"
   ]
  },
  {
   "cell_type": "code",
   "execution_count": 167,
   "metadata": {},
   "outputs": [
    {
     "data": {
      "text/plain": [
       "[0.51704544,\n",
       " 0.55397725,\n",
       " 0.50284094,\n",
       " 0.5255682,\n",
       " 0.48295453,\n",
       " 0.53409094,\n",
       " 0.5255682,\n",
       " 0.51420456,\n",
       " 0.5198864,\n",
       " 0.52840906,\n",
       " 0.5426136,\n",
       " 0.52272725,\n",
       " 0.54545456,\n",
       " 0.5568182,\n",
       " 0.5,\n",
       " 0.51420456,\n",
       " 0.50852275,\n",
       " 0.4971591,\n",
       " 0.53125,\n",
       " 0.53125]"
      ]
     },
     "execution_count": 167,
     "metadata": {},
     "output_type": "execute_result"
    }
   ],
   "source": [
    "history3_5.history['val_accuracy']"
   ]
  },
  {
   "cell_type": "code",
   "execution_count": null,
   "metadata": {},
   "outputs": [],
   "source": []
  },
  {
   "cell_type": "code",
   "execution_count": null,
   "metadata": {},
   "outputs": [],
   "source": []
  },
  {
   "cell_type": "markdown",
   "metadata": {},
   "source": [
    "#################################Final ensemble####################"
   ]
  },
  {
   "cell_type": "code",
   "execution_count": 64,
   "metadata": {},
   "outputs": [],
   "source": [
    "import numpy as np\n",
    "def accuracy_from_test(pred, target_test):\n",
    "    m=0\n",
    "    for i in range(800):\n",
    "        if np.argmax(pred[i], axis=-1)==int(target_test[i]):\n",
    "            m+=1\n",
    "    print(m/1000)"
   ]
  },
  {
   "cell_type": "code",
   "execution_count": 66,
   "metadata": {},
   "outputs": [
    {
     "name": "stdout",
     "output_type": "stream",
     "text": [
      "0.745\n"
     ]
    }
   ],
   "source": [
    "accuracy_from_test(a, target_test)"
   ]
  },
  {
   "cell_type": "code",
   "execution_count": 58,
   "metadata": {},
   "outputs": [
    {
     "name": "stdout",
     "output_type": "stream",
     "text": [
      "0.85375\n"
     ]
    }
   ],
   "source": [
    "accuracy_from_test(pred2_3, target_test)"
   ]
  },
  {
   "cell_type": "code",
   "execution_count": 59,
   "metadata": {},
   "outputs": [],
   "source": [
    "d=ghhh"
   ]
  },
  {
   "cell_type": "code",
   "execution_count": 60,
   "metadata": {},
   "outputs": [],
   "source": [
    "#choose the model before this final step ensemble\n",
    "for i in range(test_size):\n",
    "    n=np.argmax(b[i])\n",
    "    m=np.argmax(c[i])\n",
    "    \n",
    "    d[i][n]+=pred1_3[i][n]\n",
    "    d[i][m]+=pred3_3[i][m]\n",
    "    "
   ]
  },
  {
   "cell_type": "code",
   "execution_count": 61,
   "metadata": {},
   "outputs": [
    {
     "name": "stdout",
     "output_type": "stream",
     "text": [
      "0.90375\n"
     ]
    }
   ],
   "source": [
    "accuracy_from_test(ghhh, target_test) ##################final result"
   ]
  },
  {
   "cell_type": "code",
   "execution_count": null,
   "metadata": {},
   "outputs": [],
   "source": []
  },
  {
   "cell_type": "code",
   "execution_count": null,
   "metadata": {},
   "outputs": [],
   "source": []
  },
  {
   "cell_type": "code",
   "execution_count": null,
   "metadata": {},
   "outputs": [],
   "source": []
  },
  {
   "cell_type": "code",
   "execution_count": null,
   "metadata": {},
   "outputs": [],
   "source": []
  },
  {
   "cell_type": "code",
   "execution_count": null,
   "metadata": {},
   "outputs": [],
   "source": []
  }
 ],
 "metadata": {
  "kernelspec": {
   "display_name": "Python 3 (ipykernel)",
   "language": "python",
   "name": "python3"
  },
  "language_info": {
   "codemirror_mode": {
    "name": "ipython",
    "version": 3
   },
   "file_extension": ".py",
   "mimetype": "text/x-python",
   "name": "python",
   "nbconvert_exporter": "python",
   "pygments_lexer": "ipython3",
   "version": "3.10.4"
  }
 },
 "nbformat": 4,
 "nbformat_minor": 4
}
