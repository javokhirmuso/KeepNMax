{
 "cells": [
  {
   "cell_type": "code",
   "execution_count": 1,
   "metadata": {},
   "outputs": [
    {
     "name": "stdout",
     "output_type": "stream",
     "text": [
      "2.10.0\n"
     ]
    }
   ],
   "source": [
    "from tensorflow.keras.datasets import cifar10, cifar100, fashion_mnist\n",
    "from tensorflow.keras.models import Sequential\n",
    "from tensorflow.keras.models import save_model, load_model\n",
    "from tensorflow.keras.layers import Dense, Flatten, Conv2D, MaxPooling2D, BatchNormalization, Reshape\n",
    "from tensorflow.keras.losses import sparse_categorical_crossentropy\n",
    "from tensorflow.keras.optimizers import Adam\n",
    "import matplotlib.pyplot as plt\n",
    "import tensorflow as tf\n",
    "# Model configuration\n",
    "batch_size = 500\n",
    "img_width, img_height, img_num_channels = 64, 64, 3\n",
    "loss_function = sparse_categorical_crossentropy\n",
    "no_classes = 4\n",
    "no_epochs = 10\n",
    "optimizer = Adam()\n",
    "validation_split = 0.2\n",
    "\n",
    "verbosity = 2\n",
    "test_size=1500\n",
    "import tensorflow as tf\n",
    "from tensorflow.keras import Sequential\n",
    "from tensorflow.keras.layers import Flatten, Dense, Conv2D, MaxPool2D, Dropout\n",
    "\n",
    "from tensorflow.keras.preprocessing.image import ImageDataGenerator\n",
    "\n",
    "print(tf.__version__)\n",
    "\n",
    "\n",
    "#https://www.kaggle.com/jerzydziewierz/bee-vs-wasp\n",
    "\n"
   ]
  },
  {
   "cell_type": "code",
   "execution_count": 2,
   "metadata": {},
   "outputs": [
    {
     "name": "stdout",
     "output_type": "stream",
     "text": [
      "2.10.0\n"
     ]
    }
   ],
   "source": [
    "\n",
    "import tensorflow as tf\n",
    "from tensorflow.keras import Sequential\n",
    "from tensorflow.keras.layers import Flatten, Dense, Conv2D, MaxPool2D, Dropout\n",
    "\n",
    "from tensorflow.keras.preprocessing.image import ImageDataGenerator\n",
    "\n",
    "print(tf.__version__)"
   ]
  },
  {
   "cell_type": "code",
   "execution_count": null,
   "metadata": {},
   "outputs": [],
   "source": []
  },
  {
   "cell_type": "code",
   "execution_count": 3,
   "metadata": {},
   "outputs": [],
   "source": [
    "\n",
    "import numpy as np\n",
    "import matplotlib.pyplot as plt"
   ]
  },
  {
   "cell_type": "code",
   "execution_count": 16,
   "metadata": {},
   "outputs": [
    {
     "name": "stdout",
     "output_type": "stream",
     "text": [
      "Found 11421 images belonging to 4 classes.\n"
     ]
    }
   ],
   "source": [
    "\n",
    "img_width = 64\n",
    "img_height = 64\n",
    "datagen = ImageDataGenerator(rescale=1/255.0 )\n",
    "\n",
    "train_data_generator = datagen.flow_from_directory(directory='I:E/datasets/kaggle_bee_vs_wasp',\n",
    "                                                   target_size = (img_width, img_height),\n",
    "                                                   class_mode = 'binary',\n",
    "                                                   batch_size =1501,\n",
    "                                                   subset = 'training',\n",
    "                                                   shuffle=True\n",
    "                                                   )"
   ]
  },
  {
   "cell_type": "code",
   "execution_count": 10,
   "metadata": {},
   "outputs": [],
   "source": [
    "# img_width = 128\n",
    "# img_height = 128\n",
    "# datagen = ImageDataGenerator(rescale=1/255.0 )\n",
    "\n",
    "# validation_data_generator = datagen.flow_from_directory(directory='G:/datasets/birds/valid',\n",
    "#                                                    target_size = (img_width, img_height),\n",
    "#                                                    class_mode = 'binary',\n",
    "#                                                    batch_size = 1500,\n",
    "#                                                    subset = 'training',\n",
    "#                                                    shuffle=True\n",
    "#                                                    )"
   ]
  },
  {
   "cell_type": "code",
   "execution_count": 11,
   "metadata": {},
   "outputs": [],
   "source": [
    "# img_width = 128\n",
    "# img_height = 128\n",
    "# datagen = ImageDataGenerator(rescale=1/255.0 )\n",
    "\n",
    "# test_data_generator = datagen.flow_from_directory(directory='G:/datasets/birds/test',\n",
    "#                                                    target_size = (img_width, img_height),\n",
    "#                                                    class_mode = 'binary',\n",
    "#                                                    batch_size = 1500,\n",
    "#                                                    subset = 'training',\n",
    "#                                                    shuffle=True\n",
    "#                                                    )"
   ]
  },
  {
   "cell_type": "code",
   "execution_count": 17,
   "metadata": {},
   "outputs": [],
   "source": [
    "input_train, target_train =train_data_generator[0]\n",
    "# input_val, target_val =validation_data_generator[0]\n",
    "# input_test, target_test =test_data_generator[0]\n"
   ]
  },
  {
   "cell_type": "code",
   "execution_count": 18,
   "metadata": {},
   "outputs": [
    {
     "data": {
      "text/plain": [
       "(1501,)"
      ]
     },
     "execution_count": 18,
     "metadata": {},
     "output_type": "execute_result"
    }
   ],
   "source": [
    "target_train.shape\n"
   ]
  },
  {
   "cell_type": "code",
   "execution_count": 19,
   "metadata": {},
   "outputs": [],
   "source": [
    "input_test=input_train[-1500:]\n",
    "target_test=target_train[-1500:]\n",
    "input_train=input_train[:-1500]\n",
    "target_train=target_train[:-1500]\n"
   ]
  },
  {
   "cell_type": "code",
   "execution_count": 20,
   "metadata": {},
   "outputs": [
    {
     "data": {
      "text/plain": [
       "(1500, 64, 64, 3)"
      ]
     },
     "execution_count": 20,
     "metadata": {},
     "output_type": "execute_result"
    }
   ],
   "source": [
    "input_test.shape"
   ]
  },
  {
   "cell_type": "code",
   "execution_count": 21,
   "metadata": {},
   "outputs": [
    {
     "data": {
      "text/plain": [
       "(1, 64, 64, 3)"
      ]
     },
     "execution_count": 21,
     "metadata": {},
     "output_type": "execute_result"
    }
   ],
   "source": [
    "input_train.shape"
   ]
  },
  {
   "cell_type": "code",
   "execution_count": 17,
   "metadata": {},
   "outputs": [],
   "source": [
    "import numpy as np\n",
    "def accuracy_from_test(pred, target_test):\n",
    "    m=0\n",
    "    for i in range(test_size):\n",
    "        if np.argmax(pred[i], axis=-1)==int(target_test[i]):\n",
    "            m+=1\n",
    "    print(m/test_size)\n",
    "\n",
    "\n",
    "def define_space(pred1, pred2, target_test):\n",
    "    m=0\n",
    "    pred1_list=list()\n",
    "    pred2_list=list()\n",
    "    compare_list=list() \n",
    "    same_pred_id=list()\n",
    "    dif_pred_id=list()\n",
    "    \n",
    "    for i in range(test_size):\n",
    "        if np.argmax(pred1[i], axis=-1)==int(target_test[i]):\n",
    "            pred1_list.append(1)\n",
    "        else:\n",
    "            pred1_list.append(0)\n",
    "            \n",
    "        if np.argmax(pred2[i], axis=-1)==int(target_test[i]):\n",
    "            pred2_list.append(1)\n",
    "        else:\n",
    "            pred2_list.append(0)\n",
    "        if np.argmax(pred1[i], axis=-1)==np.argmax(pred2[i], axis=-1):\n",
    "            if np.argmax(pred1[i], axis=-1)==int(target_test[i]):\n",
    "                same_pred_id.append(i)\n",
    "            else:\n",
    "                dif_pred_id.append(i)\n",
    "    #return pred1_list, pred2_list\n",
    "\n",
    "    print(len(pred1_list), len(pred2_list))   \n",
    "    n=0\n",
    "    for i in pred1_list :\n",
    "        if i==1 and pred2_list[n]==0:\n",
    "            m+=1\n",
    "            n+=1\n",
    "        else:\n",
    "            n+=1\n",
    "    print(\"pred1 unique adnvantage\", m/test_size)"
   ]
  },
  {
   "cell_type": "code",
   "execution_count": 18,
   "metadata": {},
   "outputs": [],
   "source": [
    "from tensorflow.keras.metrics import TrueNegatives, TruePositives, Recall, Precision, Accuracy"
   ]
  },
  {
   "cell_type": "code",
   "execution_count": 10,
   "metadata": {},
   "outputs": [],
   "source": [
    "tf.random.set_seed(25)\n",
    "\n",
    "model = Sequential()\n",
    "\n",
    "model.add(Conv2D(32, kernel_size=(3, 3), activation='relu', input_shape=(img_width, img_height,3)))\n",
    "\n",
    "model.add(BatchNormalization())\n",
    "model.add(MaxPooling2D(pool_size=(2, 2)))\n",
    "model.add(Conv2D(64, kernel_size=(3, 3), activation='relu'))\n",
    "model.add(BatchNormalization())\n",
    "model.add(MaxPooling2D(pool_size=(2, 2)))\n",
    "model.add(Conv2D(128, kernel_size=(3, 3), activation='relu'))\n",
    "model.add(BatchNormalization())\n",
    "model.add(MaxPooling2D(pool_size=(2, 2)))\n",
    "model.add(Flatten())\n",
    "model.add(Dense(256, activation='relu'))\n",
    "model.add(Dense(128, activation='relu'))\n",
    "model.add(Dense(no_classes, activation='softmax'))"
   ]
  },
  {
   "cell_type": "code",
   "execution_count": 11,
   "metadata": {
    "scrolled": true
   },
   "outputs": [
    {
     "name": "stdout",
     "output_type": "stream",
     "text": [
      ">0.412\n",
      ">0.645\n",
      ">0.714\n",
      ">0.738\n",
      ">0.744\n",
      ">0.769\n",
      ">0.798\n",
      ">0.838\n",
      ">0.916\n",
      ">0.907\n",
      "Estimated Accuracy 0.748 (0.138)\n",
      "47/47 [==============================] - 0s 2ms/step\n",
      "> 1: single=0.734, ensemble=0.734\n",
      "47/47 [==============================] - 0s 1ms/step\n",
      "47/47 [==============================] - 0s 1ms/step\n",
      "> 2: single=0.734, ensemble=0.734\n",
      "47/47 [==============================] - 0s 1ms/step\n",
      "47/47 [==============================] - 0s 1ms/step\n",
      "47/47 [==============================] - 0s 1ms/step\n",
      "> 3: single=0.734, ensemble=0.734\n",
      "47/47 [==============================] - 0s 1ms/step\n",
      "47/47 [==============================] - 0s 1ms/step\n",
      "47/47 [==============================] - 0s 2ms/step\n",
      "47/47 [==============================] - 0s 2ms/step\n",
      "> 4: single=0.734, ensemble=0.734\n",
      "47/47 [==============================] - 0s 2ms/step\n",
      "47/47 [==============================] - 0s 2ms/step\n",
      "47/47 [==============================] - 0s 2ms/step\n",
      "47/47 [==============================] - 0s 2ms/step\n",
      "47/47 [==============================] - 0s 2ms/step\n",
      "> 5: single=0.734, ensemble=0.734\n",
      "47/47 [==============================] - 0s 2ms/step\n",
      "47/47 [==============================] - 0s 2ms/step\n",
      "47/47 [==============================] - 0s 2ms/step\n",
      "47/47 [==============================] - 0s 2ms/step\n",
      "47/47 [==============================] - 0s 2ms/step\n",
      "47/47 [==============================] - 0s 2ms/step\n",
      "> 6: single=0.734, ensemble=0.734\n",
      "47/47 [==============================] - 0s 2ms/step\n",
      "47/47 [==============================] - 0s 2ms/step\n",
      "47/47 [==============================] - 0s 2ms/step\n",
      "47/47 [==============================] - 0s 2ms/step\n",
      "47/47 [==============================] - 0s 2ms/step\n",
      "47/47 [==============================] - 0s 2ms/step\n",
      "47/47 [==============================] - 0s 2ms/step\n",
      "> 7: single=0.734, ensemble=0.734\n",
      "47/47 [==============================] - 0s 2ms/step\n",
      "47/47 [==============================] - 0s 2ms/step\n",
      "47/47 [==============================] - 0s 2ms/step\n",
      "47/47 [==============================] - 0s 2ms/step\n",
      "47/47 [==============================] - 0s 2ms/step\n",
      "47/47 [==============================] - 0s 2ms/step\n",
      "47/47 [==============================] - 0s 2ms/step\n",
      "47/47 [==============================] - 0s 2ms/step\n",
      "> 8: single=0.734, ensemble=0.734\n",
      "47/47 [==============================] - 0s 2ms/step\n",
      "47/47 [==============================] - 0s 2ms/step\n",
      "47/47 [==============================] - 0s 2ms/step\n",
      "47/47 [==============================] - 0s 2ms/step\n",
      "47/47 [==============================] - 0s 2ms/step\n",
      "47/47 [==============================] - 0s 2ms/step\n",
      "47/47 [==============================] - 0s 2ms/step\n",
      "47/47 [==============================] - 0s 2ms/step\n",
      "47/47 [==============================] - 0s 2ms/step\n",
      "> 9: single=0.734, ensemble=0.734\n",
      "47/47 [==============================] - 0s 2ms/step\n",
      "47/47 [==============================] - 0s 2ms/step\n",
      "47/47 [==============================] - 0s 2ms/step\n",
      "47/47 [==============================] - 0s 2ms/step\n",
      "47/47 [==============================] - 0s 2ms/step\n",
      "47/47 [==============================] - 0s 2ms/step\n",
      "47/47 [==============================] - 0s 2ms/step\n",
      "47/47 [==============================] - 0s 2ms/step\n",
      "47/47 [==============================] - 0s 2ms/step\n",
      "47/47 [==============================] - 0s 2ms/step\n",
      "> 10: single=0.734, ensemble=0.734\n",
      "Accuracy 0.734 (0.000)\n"
     ]
    },
    {
     "data": {
      "image/png": "[encoded data removed]",
      "text/plain": [
       "<Figure size 640x480 with 1 Axes>"
      ]
     },
     "metadata": {},
     "output_type": "display_data"
    }
   ],
   "source": [
    "#############   random split\n",
    "\n",
    "##############random split\n",
    "from sklearn.datasets import make_blobs\n",
    "from sklearn.model_selection import train_test_split\n",
    "from sklearn.metrics import accuracy_score\n",
    "from keras.utils import to_categorical\n",
    "from keras.models import Sequential\n",
    "from keras.layers import Dense\n",
    "from matplotlib import pyplot\n",
    "from numpy import mean\n",
    "from numpy import std\n",
    "import numpy\n",
    "from numpy import array\n",
    "from numpy import argmax\n",
    " \n",
    "# evaluate a single mlp model\n",
    "def evaluate_model(trainX, trainy, testX, testy):\n",
    "\t# encode targets\n",
    "\ttrainy_enc = to_categorical(trainy)\n",
    "\ttesty_enc = to_categorical(testy)\n",
    "\t# define model\n",
    "\t\n",
    "    \n",
    "\tmodel.compile(loss='categorical_crossentropy', optimizer='adam', metrics=['accuracy'])\n",
    "\t# fit model\n",
    "\tmodel.fit(trainX, trainy_enc, epochs=1, verbose=0, batch_size=32)\n",
    "\t# evaluate the model\n",
    "\t_, test_acc = model.evaluate(testX, testy_enc, verbose=0, batch_size=32)\n",
    "\treturn model, test_acc\n",
    " \n",
    "# make an ensemble prediction for multi-class classification\n",
    "def ensemble_predictions(members, testX):\n",
    "\t# make predictions\n",
    "\tyhats = [model.predict(testX) for model in members]\n",
    "\tyhats = array(yhats)\n",
    "\t# sum across ensemble members\n",
    "\tsummed = numpy.sum(yhats, axis=0)\n",
    "\t# argmax across classes\n",
    "\tresult = argmax(summed, axis=1)\n",
    "\treturn result\n",
    " \n",
    "# evaluate a specific number of members in an ensemble\n",
    "def evaluate_n_members(members, n_members, testX, testy):\n",
    "\t# select a subset of members\n",
    "\tsubset = members[:n_members]\n",
    "\t# make prediction\n",
    "\tyhat = ensemble_predictions(subset, testX)\n",
    "\t# calculate accuracy\n",
    "\treturn accuracy_score(testy, yhat)\n",
    " \n",
    "\n",
    "X, y  = input_train, target_train\n",
    "newX, newy = input_test, target_test  \n",
    "# multiple train-test splits\n",
    "n_splits = 10\n",
    "scores, members = list(), list()\n",
    "for _ in range(n_splits):\n",
    "\t# split data\n",
    "\ttrainX, testX, trainy, testy = train_test_split(X, y, test_size=0.10)\n",
    "\t# evaluate model\n",
    "\tmodel, test_acc = evaluate_model(trainX, trainy, testX, testy)\n",
    "\tprint('>%.3f' % test_acc)\n",
    "\tscores.append(test_acc)\n",
    "\tmembers.append(model)\n",
    "# summarize expected performance\n",
    "print('Estimated Accuracy %.3f (%.3f)' % (mean(scores), std(scores)))\n",
    "# evaluate different numbers of ensembles on hold out set\n",
    "single_scores, ensemble_scores = list(), list()\n",
    "for i in range(1, n_splits+1):\n",
    "\tensemble_score = evaluate_n_members(members, i, newX, newy)\n",
    "\tnewy_enc = to_categorical(newy)\n",
    "\t_, single_score = members[i-1].evaluate(newX, newy_enc, verbose=0)\n",
    "\tprint('> %d: single=%.3f, ensemble=%.3f' % (i, single_score, ensemble_score))\n",
    "\tensemble_scores.append(ensemble_score)\n",
    "\tsingle_scores.append(single_score)\n",
    "# plot score vs number of ensemble members\n",
    "print('Accuracy %.3f (%.3f)' % (mean(single_scores), std(single_scores)))\n",
    "x_axis = [i for i in range(1, n_splits+1)]\n",
    "pyplot.plot(x_axis, single_scores, marker='o', linestyle='None')\n",
    "pyplot.plot(x_axis, ensemble_scores, marker='o')\n",
    "pyplot.show()"
   ]
  },
  {
   "cell_type": "code",
   "execution_count": 13,
   "metadata": {},
   "outputs": [
    {
     "name": "stdout",
     "output_type": "stream",
     "text": [
      "47/47 [==============================] - 0s 4ms/step\n",
      "precision 0.92752296\n",
      "recall 0.89310956\n",
      "f1 0.9275229693326674\n"
     ]
    }
   ],
   "source": [
    "########## Precision ##################### random split\n",
    "pred=model.predict(input_test)\n",
    "m=tf.keras.metrics.Precision()\n",
    "# x=a+c+b+ghhh\n",
    "pred=np.argmax(pred, axis=1)\n",
    "# x.shape\n",
    "m.update_state(pred, target_test)\n",
    "print(\"precision\", m.result().numpy())\n",
    "\n",
    "n=tf.keras.metrics.Recall()\n",
    "n.update_state(pred, target_test)\n",
    "print(\"recall\", n.result().numpy())\n",
    "\n",
    "\n",
    "print(\"f1\",2*(n.result().numpy()*m.result().numpy())/(n.result().numpy()+n.result().numpy()) )"
   ]
  },
  {
   "cell_type": "code",
   "execution_count": 1,
   "metadata": {},
   "outputs": [],
   "source": [
    "# model.summary()"
   ]
  },
  {
   "cell_type": "code",
   "execution_count": 16,
   "metadata": {},
   "outputs": [],
   "source": [
    "tf.random.set_seed(25)\n",
    "\n",
    "model.compile(loss=loss_function,\n",
    "              optimizer=optimizer,\n",
    "              metrics=['accuracy'])"
   ]
  },
  {
   "cell_type": "code",
   "execution_count": 17,
   "metadata": {
    "scrolled": true
   },
   "outputs": [
    {
     "name": "stdout",
     "output_type": "stream",
     "text": [
      "Train on 7936 samples, validate on 1985 samples\n",
      "Epoch 1/75\n",
      "WARNING:tensorflow:From C:\\Users\\dsh\\.conda\\envs\\ddd\\lib\\site-packages\\tensorflow_core\\python\\ops\\resource_variable_ops.py:1786: calling BaseResourceVariable.__init__ (from tensorflow.python.ops.resource_variable_ops) with constraint is deprecated and will be removed in a future version.\n",
      "Instructions for updating:\n",
      "If using Keras pass *_constraint arguments to layers.\n",
      "INFO:tensorflow:Assets written to: C:/Users/dsh/Desktop/Papers/paper3/fish - Copy/main_model\\assets\n",
      "7936/7936 - 5s - loss: 0.9698 - accuracy: 0.6293 - val_loss: 1.0973 - val_accuracy: 0.6005\n",
      "Epoch 2/75\n",
      "INFO:tensorflow:Assets written to: C:/Users/dsh/Desktop/Papers/paper3/fish - Copy/main_model\\assets\n",
      "7936/7936 - 4s - loss: 0.7114 - accuracy: 0.7070 - val_loss: 0.7711 - val_accuracy: 0.7013\n",
      "Epoch 3/75\n",
      "INFO:tensorflow:Assets written to: C:/Users/dsh/Desktop/Papers/paper3/fish - Copy/main_model\\assets\n",
      "7936/7936 - 3s - loss: 0.6030 - accuracy: 0.7605 - val_loss: 0.7380 - val_accuracy: 0.7159\n",
      "Epoch 4/75\n",
      "INFO:tensorflow:Assets written to: C:/Users/dsh/Desktop/Papers/paper3/fish - Copy/main_model\\assets\n",
      "7936/7936 - 4s - loss: 0.5392 - accuracy: 0.7927 - val_loss: 0.5987 - val_accuracy: 0.7773\n",
      "Epoch 5/75\n",
      "7936/7936 - 2s - loss: 0.4503 - accuracy: 0.8277 - val_loss: 0.6228 - val_accuracy: 0.7552\n",
      "Epoch 6/75\n",
      "7936/7936 - 2s - loss: 0.3750 - accuracy: 0.8542 - val_loss: 1.1570 - val_accuracy: 0.6096\n",
      "Epoch 7/75\n",
      "7936/7936 - 2s - loss: 0.3018 - accuracy: 0.8807 - val_loss: 0.8205 - val_accuracy: 0.7537\n",
      "Epoch 8/75\n",
      "7936/7936 - 2s - loss: 0.2389 - accuracy: 0.9126 - val_loss: 0.7981 - val_accuracy: 0.7597\n",
      "Epoch 9/75\n",
      "7936/7936 - 2s - loss: 0.1873 - accuracy: 0.9315 - val_loss: 0.8948 - val_accuracy: 0.7622\n",
      "Epoch 10/75\n",
      "7936/7936 - 2s - loss: 0.1443 - accuracy: 0.9486 - val_loss: 1.1395 - val_accuracy: 0.7441\n",
      "Epoch 11/75\n",
      "INFO:tensorflow:Assets written to: C:/Users/dsh/Desktop/Papers/paper3/fish - Copy/main_model\\assets\n",
      "7936/7936 - 3s - loss: 0.1263 - accuracy: 0.9561 - val_loss: 0.9820 - val_accuracy: 0.7849\n",
      "Epoch 12/75\n",
      "7936/7936 - 2s - loss: 0.1086 - accuracy: 0.9611 - val_loss: 1.1184 - val_accuracy: 0.7592\n",
      "Epoch 13/75\n",
      "7936/7936 - 2s - loss: 0.0924 - accuracy: 0.9671 - val_loss: 1.1803 - val_accuracy: 0.7345\n",
      "Epoch 14/75\n",
      "7936/7936 - 2s - loss: 0.0902 - accuracy: 0.9701 - val_loss: 1.1840 - val_accuracy: 0.7758\n",
      "Epoch 15/75\n",
      "7936/7936 - 2s - loss: 0.0668 - accuracy: 0.9786 - val_loss: 1.1908 - val_accuracy: 0.7668\n",
      "Epoch 16/75\n",
      "7936/7936 - 2s - loss: 0.0633 - accuracy: 0.9779 - val_loss: 1.0633 - val_accuracy: 0.7698\n",
      "Epoch 17/75\n",
      "7936/7936 - 2s - loss: 0.0745 - accuracy: 0.9748 - val_loss: 1.2867 - val_accuracy: 0.7542\n",
      "Epoch 18/75\n",
      "7936/7936 - 2s - loss: 0.0807 - accuracy: 0.9735 - val_loss: 1.1941 - val_accuracy: 0.7773\n",
      "Epoch 19/75\n",
      "7936/7936 - 2s - loss: 0.0534 - accuracy: 0.9824 - val_loss: 1.4610 - val_accuracy: 0.7582\n",
      "Epoch 20/75\n",
      "7936/7936 - 2s - loss: 0.0824 - accuracy: 0.9734 - val_loss: 1.3096 - val_accuracy: 0.7728\n",
      "Epoch 21/75\n",
      "7936/7936 - 2s - loss: 0.0505 - accuracy: 0.9848 - val_loss: 1.2421 - val_accuracy: 0.7698\n",
      "Epoch 22/75\n",
      "7936/7936 - 2s - loss: 0.0608 - accuracy: 0.9821 - val_loss: 1.2420 - val_accuracy: 0.7814\n",
      "Epoch 23/75\n",
      "7936/7936 - 2s - loss: 0.0392 - accuracy: 0.9864 - val_loss: 1.3573 - val_accuracy: 0.7632\n",
      "Epoch 24/75\n",
      "7936/7936 - 2s - loss: 0.0431 - accuracy: 0.9865 - val_loss: 1.4581 - val_accuracy: 0.7778\n",
      "Epoch 25/75\n",
      "7936/7936 - 2s - loss: 0.0475 - accuracy: 0.9832 - val_loss: 1.6682 - val_accuracy: 0.7567\n",
      "Epoch 26/75\n",
      "7936/7936 - 2s - loss: 0.0441 - accuracy: 0.9863 - val_loss: 1.3688 - val_accuracy: 0.7476\n",
      "Epoch 27/75\n",
      "7936/7936 - 2s - loss: 0.0430 - accuracy: 0.9868 - val_loss: 1.6347 - val_accuracy: 0.7496\n",
      "Epoch 28/75\n",
      "7936/7936 - 2s - loss: 0.0490 - accuracy: 0.9845 - val_loss: 1.5403 - val_accuracy: 0.7622\n",
      "Epoch 29/75\n",
      "7936/7936 - 2s - loss: 0.0473 - accuracy: 0.9841 - val_loss: 1.4289 - val_accuracy: 0.7597\n",
      "Epoch 30/75\n",
      "INFO:tensorflow:Assets written to: C:/Users/dsh/Desktop/Papers/paper3/fish - Copy/main_model\\assets\n",
      "7936/7936 - 4s - loss: 0.0450 - accuracy: 0.9860 - val_loss: 1.2113 - val_accuracy: 0.7945\n",
      "Epoch 31/75\n",
      "7936/7936 - 2s - loss: 0.0317 - accuracy: 0.9902 - val_loss: 1.6874 - val_accuracy: 0.7592\n",
      "Epoch 32/75\n",
      "7936/7936 - 2s - loss: 0.0434 - accuracy: 0.9875 - val_loss: 1.3475 - val_accuracy: 0.7829\n",
      "Epoch 33/75\n",
      "7936/7936 - 2s - loss: 0.0341 - accuracy: 0.9899 - val_loss: 1.4569 - val_accuracy: 0.7904\n",
      "Epoch 34/75\n",
      "7936/7936 - 2s - loss: 0.0264 - accuracy: 0.9918 - val_loss: 1.5492 - val_accuracy: 0.7859\n",
      "Epoch 35/75\n",
      "7936/7936 - 2s - loss: 0.0547 - accuracy: 0.9819 - val_loss: 1.3699 - val_accuracy: 0.7919\n",
      "Epoch 36/75\n",
      "7936/7936 - 2s - loss: 0.0283 - accuracy: 0.9909 - val_loss: 1.4917 - val_accuracy: 0.7617\n",
      "Epoch 37/75\n",
      "7936/7936 - 2s - loss: 0.0451 - accuracy: 0.9854 - val_loss: 1.6768 - val_accuracy: 0.7385\n",
      "Epoch 38/75\n",
      "7936/7936 - 2s - loss: 0.0235 - accuracy: 0.9923 - val_loss: 1.8287 - val_accuracy: 0.7526\n",
      "Epoch 39/75\n",
      "7936/7936 - 2s - loss: 0.0370 - accuracy: 0.9871 - val_loss: 1.3707 - val_accuracy: 0.7582\n",
      "Epoch 40/75\n",
      "7936/7936 - 2s - loss: 0.0305 - accuracy: 0.9905 - val_loss: 1.3994 - val_accuracy: 0.7703\n",
      "Epoch 41/75\n",
      "7936/7936 - 2s - loss: 0.0368 - accuracy: 0.9884 - val_loss: 1.7158 - val_accuracy: 0.7678\n",
      "Epoch 42/75\n",
      "7936/7936 - 2s - loss: 0.0298 - accuracy: 0.9900 - val_loss: 1.4675 - val_accuracy: 0.7713\n",
      "Epoch 43/75\n",
      "7936/7936 - 2s - loss: 0.0222 - accuracy: 0.9931 - val_loss: 1.4407 - val_accuracy: 0.7869\n",
      "Epoch 44/75\n",
      "7936/7936 - 2s - loss: 0.0301 - accuracy: 0.9919 - val_loss: 1.7213 - val_accuracy: 0.7315\n",
      "Epoch 45/75\n",
      "7936/7936 - 2s - loss: 0.0287 - accuracy: 0.9902 - val_loss: 1.4244 - val_accuracy: 0.7637\n",
      "Epoch 46/75\n",
      "7936/7936 - 2s - loss: 0.0289 - accuracy: 0.9904 - val_loss: 1.4360 - val_accuracy: 0.7909\n",
      "Epoch 47/75\n",
      "7936/7936 - 2s - loss: 0.0236 - accuracy: 0.9918 - val_loss: 1.8184 - val_accuracy: 0.7662\n",
      "Epoch 48/75\n",
      "7936/7936 - 2s - loss: 0.0259 - accuracy: 0.9905 - val_loss: 1.6210 - val_accuracy: 0.7748\n",
      "Epoch 49/75\n",
      "7936/7936 - 2s - loss: 0.0216 - accuracy: 0.9942 - val_loss: 1.8267 - val_accuracy: 0.7466\n",
      "Epoch 50/75\n",
      "7936/7936 - 2s - loss: 0.0223 - accuracy: 0.9917 - val_loss: 1.9451 - val_accuracy: 0.7592\n",
      "Epoch 51/75\n",
      "7936/7936 - 2s - loss: 0.0440 - accuracy: 0.9885 - val_loss: 1.4596 - val_accuracy: 0.7733\n",
      "Epoch 52/75\n",
      "7936/7936 - 2s - loss: 0.0419 - accuracy: 0.9899 - val_loss: 1.6203 - val_accuracy: 0.7698\n",
      "Epoch 53/75\n",
      "INFO:tensorflow:Assets written to: C:/Users/dsh/Desktop/Papers/paper3/fish - Copy/main_model\\assets\n",
      "7936/7936 - 3s - loss: 0.0136 - accuracy: 0.9953 - val_loss: 1.5881 - val_accuracy: 0.8005\n",
      "Epoch 54/75\n",
      "7936/7936 - 2s - loss: 0.0055 - accuracy: 0.9976 - val_loss: 1.9524 - val_accuracy: 0.7521\n",
      "Epoch 55/75\n",
      "7936/7936 - 2s - loss: 0.0209 - accuracy: 0.9924 - val_loss: 4.6475 - val_accuracy: 0.6635\n",
      "Epoch 56/75\n",
      "7936/7936 - 2s - loss: 0.0592 - accuracy: 0.9836 - val_loss: 1.5959 - val_accuracy: 0.7743\n",
      "Epoch 57/75\n",
      "7936/7936 - 2s - loss: 0.0186 - accuracy: 0.9943 - val_loss: 1.5932 - val_accuracy: 0.7879\n",
      "Epoch 58/75\n",
      "7936/7936 - 2s - loss: 0.0313 - accuracy: 0.9917 - val_loss: 1.6943 - val_accuracy: 0.7773\n",
      "Epoch 59/75\n",
      "7936/7936 - 2s - loss: 0.0145 - accuracy: 0.9953 - val_loss: 1.7612 - val_accuracy: 0.7758\n",
      "Epoch 60/75\n",
      "7936/7936 - 2s - loss: 0.0212 - accuracy: 0.9937 - val_loss: 1.7201 - val_accuracy: 0.7879\n",
      "Epoch 61/75\n",
      "7936/7936 - 2s - loss: 0.0251 - accuracy: 0.9933 - val_loss: 1.8291 - val_accuracy: 0.7743\n",
      "Epoch 62/75\n",
      "7936/7936 - 2s - loss: 0.0082 - accuracy: 0.9971 - val_loss: 1.9579 - val_accuracy: 0.7607\n",
      "Epoch 63/75\n",
      "7936/7936 - 2s - loss: 0.0187 - accuracy: 0.9942 - val_loss: 1.7129 - val_accuracy: 0.7506\n",
      "Epoch 64/75\n",
      "7936/7936 - 2s - loss: 0.0341 - accuracy: 0.9908 - val_loss: 1.9711 - val_accuracy: 0.7693\n",
      "Epoch 65/75\n",
      "7936/7936 - 2s - loss: 0.0234 - accuracy: 0.9929 - val_loss: 1.5696 - val_accuracy: 0.7436\n",
      "Epoch 66/75\n",
      "7936/7936 - 2s - loss: 0.0276 - accuracy: 0.9917 - val_loss: 1.6031 - val_accuracy: 0.7698\n",
      "Epoch 67/75\n",
      "7936/7936 - 2s - loss: 0.0224 - accuracy: 0.9934 - val_loss: 1.7918 - val_accuracy: 0.7567\n",
      "Epoch 68/75\n",
      "7936/7936 - 2s - loss: 0.0178 - accuracy: 0.9943 - val_loss: 1.6501 - val_accuracy: 0.7708\n",
      "Epoch 69/75\n",
      "7936/7936 - 2s - loss: 0.0135 - accuracy: 0.9952 - val_loss: 2.0673 - val_accuracy: 0.7798\n"
     ]
    },
    {
     "name": "stdout",
     "output_type": "stream",
     "text": [
      "Epoch 70/75\n",
      "7936/7936 - 2s - loss: 0.0153 - accuracy: 0.9955 - val_loss: 1.8943 - val_accuracy: 0.7743\n",
      "Epoch 71/75\n",
      "7936/7936 - 2s - loss: 0.0464 - accuracy: 0.9885 - val_loss: 1.8146 - val_accuracy: 0.7295\n",
      "Epoch 72/75\n",
      "7936/7936 - 2s - loss: 0.0227 - accuracy: 0.9929 - val_loss: 1.5796 - val_accuracy: 0.7929\n",
      "Epoch 73/75\n",
      "7936/7936 - 2s - loss: 0.0101 - accuracy: 0.9971 - val_loss: 1.6486 - val_accuracy: 0.7824\n",
      "Epoch 74/75\n",
      "7936/7936 - 2s - loss: 0.0158 - accuracy: 0.9963 - val_loss: 2.0147 - val_accuracy: 0.7577\n",
      "Epoch 75/75\n",
      "7936/7936 - 2s - loss: 0.0492 - accuracy: 0.9884 - val_loss: 1.6185 - val_accuracy: 0.7819\n"
     ]
    }
   ],
   "source": [
    "tf.random.set_seed(25)\n",
    "\n",
    "model_checkpoint_callback = tf.keras.callbacks.ModelCheckpoint(\n",
    "    filepath=\"C:/Users/dsh/Desktop/Papers/paper3/fish - Copy/main_model\",\n",
    "    save_weights_only=False,\n",
    "    monitor='val_accuracy',\n",
    "    mode='max',\n",
    "    save_best_only=True)\n",
    "\n",
    "history= model.fit(input_train, target_train,\n",
    "            batch_size=16,\n",
    "            epochs=75,\n",
    "            verbose=verbosity,\n",
    "            validation_split=validation_split,\n",
    "                   callbacks=[model_checkpoint_callback]\n",
    "            )"
   ]
  },
  {
   "cell_type": "code",
   "execution_count": 18,
   "metadata": {},
   "outputs": [
    {
     "data": {
      "text/plain": [
       "[0.62928426,\n",
       " 0.70703125,\n",
       " 0.76045865,\n",
       " 0.79271674,\n",
       " 0.827747,\n",
       " 0.85420865,\n",
       " 0.88067037,\n",
       " 0.9125504,\n",
       " 0.9314516,\n",
       " 0.9485887,\n",
       " 0.9561492,\n",
       " 0.9610635,\n",
       " 0.9671119,\n",
       " 0.9701361,\n",
       " 0.9785786,\n",
       " 0.9779486,\n",
       " 0.9747984,\n",
       " 0.9735383,\n",
       " 0.9823589,\n",
       " 0.9734123,\n",
       " 0.984753,\n",
       " 0.98210686,\n",
       " 0.9863911,\n",
       " 0.98651713,\n",
       " 0.9832409,\n",
       " 0.9862651,\n",
       " 0.98676914,\n",
       " 0.984501,\n",
       " 0.984123,\n",
       " 0.9860131,\n",
       " 0.9901714,\n",
       " 0.9875252,\n",
       " 0.98991936,\n",
       " 0.9918095,\n",
       " 0.98185486,\n",
       " 0.9909274,\n",
       " 0.9853831,\n",
       " 0.9923135,\n",
       " 0.98714715,\n",
       " 0.9905494,\n",
       " 0.98840725,\n",
       " 0.99004537,\n",
       " 0.9930695,\n",
       " 0.9919355,\n",
       " 0.9901714,\n",
       " 0.9904234,\n",
       " 0.9918095,\n",
       " 0.9905494,\n",
       " 0.9942036,\n",
       " 0.9916835,\n",
       " 0.98853326,\n",
       " 0.98991936,\n",
       " 0.9953377,\n",
       " 0.99760586,\n",
       " 0.9924395,\n",
       " 0.983619,\n",
       " 0.99432963,\n",
       " 0.9916835,\n",
       " 0.9953377,\n",
       " 0.9936996,\n",
       " 0.9933216,\n",
       " 0.99710184,\n",
       " 0.9942036,\n",
       " 0.9908014,\n",
       " 0.9929435,\n",
       " 0.9916835,\n",
       " 0.9934476,\n",
       " 0.99432963,\n",
       " 0.9952117,\n",
       " 0.9954637,\n",
       " 0.98853326,\n",
       " 0.9929435,\n",
       " 0.99710184,\n",
       " 0.99634576,\n",
       " 0.98840725]"
      ]
     },
     "execution_count": 18,
     "metadata": {},
     "output_type": "execute_result"
    }
   ],
   "source": [
    "history.history['accuracy']"
   ]
  },
  {
   "cell_type": "code",
   "execution_count": 19,
   "metadata": {},
   "outputs": [
    {
     "data": {
      "text/plain": [
       "[0.6005038,\n",
       " 0.70125943,\n",
       " 0.715869,\n",
       " 0.77733,\n",
       " 0.7551637,\n",
       " 0.6095718,\n",
       " 0.7536524,\n",
       " 0.75969774,\n",
       " 0.7622166,\n",
       " 0.7440806,\n",
       " 0.78488666,\n",
       " 0.75919396,\n",
       " 0.7345088,\n",
       " 0.77581865,\n",
       " 0.76675063,\n",
       " 0.7697733,\n",
       " 0.7541562,\n",
       " 0.77733,\n",
       " 0.7581864,\n",
       " 0.772796,\n",
       " 0.7697733,\n",
       " 0.7813602,\n",
       " 0.7632242,\n",
       " 0.77783376,\n",
       " 0.75667506,\n",
       " 0.74760705,\n",
       " 0.74962217,\n",
       " 0.7622166,\n",
       " 0.75969774,\n",
       " 0.79445845,\n",
       " 0.75919396,\n",
       " 0.78287154,\n",
       " 0.7904282,\n",
       " 0.7858942,\n",
       " 0.79193956,\n",
       " 0.76171285,\n",
       " 0.73853904,\n",
       " 0.75264484,\n",
       " 0.7581864,\n",
       " 0.7702771,\n",
       " 0.7677582,\n",
       " 0.77128464,\n",
       " 0.7869018,\n",
       " 0.73148614,\n",
       " 0.76372796,\n",
       " 0.790932,\n",
       " 0.76624686,\n",
       " 0.7748111,\n",
       " 0.7465995,\n",
       " 0.75919396,\n",
       " 0.77329975,\n",
       " 0.7697733,\n",
       " 0.8005038,\n",
       " 0.75214106,\n",
       " 0.66347605,\n",
       " 0.7743073,\n",
       " 0.7879093,\n",
       " 0.77733,\n",
       " 0.77581865,\n",
       " 0.7879093,\n",
       " 0.7743073,\n",
       " 0.7607053,\n",
       " 0.7506297,\n",
       " 0.7692695,\n",
       " 0.7435768,\n",
       " 0.7697733,\n",
       " 0.75667506,\n",
       " 0.77078086,\n",
       " 0.7798489,\n",
       " 0.7743073,\n",
       " 0.729471,\n",
       " 0.7929471,\n",
       " 0.78236777,\n",
       " 0.7576826,\n",
       " 0.781864]"
      ]
     },
     "execution_count": 19,
     "metadata": {},
     "output_type": "execute_result"
    }
   ],
   "source": [
    "history.history[\"val_accuracy\"]"
   ]
  },
  {
   "cell_type": "code",
   "execution_count": 20,
   "metadata": {},
   "outputs": [
    {
     "data": {
      "text/plain": [
       "[1.0973140553906748,\n",
       " 0.7711418704662275,\n",
       " 0.7380038798141577,\n",
       " 0.5987353355912327,\n",
       " 0.6227672581413118,\n",
       " 1.1570020645631651,\n",
       " 0.8205049056600268,\n",
       " 0.7980535080961376,\n",
       " 0.8947539241247874,\n",
       " 1.1394662490435665,\n",
       " 0.9819798761736385,\n",
       " 1.1183622088729017,\n",
       " 1.180322833986066,\n",
       " 1.1839844500687997,\n",
       " 1.1908440352086718,\n",
       " 1.0632792105302402,\n",
       " 1.2866745477509438,\n",
       " 1.194119578404751,\n",
       " 1.4610032195708613,\n",
       " 1.3095859296069357,\n",
       " 1.2420715945793939,\n",
       " 1.2420384838088359,\n",
       " 1.357329192599962,\n",
       " 1.4581399921205842,\n",
       " 1.6682206724392676,\n",
       " 1.3687804288159175,\n",
       " 1.6347013605545437,\n",
       " 1.5403148980825314,\n",
       " 1.4288900172380117,\n",
       " 1.2113349226019545,\n",
       " 1.687397775571953,\n",
       " 1.347524509862328,\n",
       " 1.456872178805565,\n",
       " 1.5491782941055539,\n",
       " 1.3699415390677656,\n",
       " 1.4917238624419276,\n",
       " 1.676849998154628,\n",
       " 1.8286565447934628,\n",
       " 1.3707135309200142,\n",
       " 1.3993531549907752,\n",
       " 1.7158247532111872,\n",
       " 1.4675240615152891,\n",
       " 1.4407194188845212,\n",
       " 1.721269821640226,\n",
       " 1.4243976688805395,\n",
       " 1.4359997721102735,\n",
       " 1.818418143753441,\n",
       " 1.620950991590918,\n",
       " 1.8267486250370515,\n",
       " 1.9450516259790367,\n",
       " 1.4595639933266629,\n",
       " 1.6203057942972976,\n",
       " 1.5881067242445213,\n",
       " 1.9524102732257669,\n",
       " 4.647463397475274,\n",
       " 1.5959472736723777,\n",
       " 1.5931885481157553,\n",
       " 1.694308082586722,\n",
       " 1.7611626412616268,\n",
       " 1.7200973575972303,\n",
       " 1.8291296888827828,\n",
       " 1.9578817413557996,\n",
       " 1.7128581388320971,\n",
       " 1.9710737394825826,\n",
       " 1.5696125967376477,\n",
       " 1.6030983769848606,\n",
       " 1.79175700976206,\n",
       " 1.6500939745146321,\n",
       " 2.0673182061697433,\n",
       " 1.8943292306187172,\n",
       " 1.8145886598966585,\n",
       " 1.5796305892186742,\n",
       " 1.6486120771926356,\n",
       " 2.0146946074417618,\n",
       " 1.6184673875457694]"
      ]
     },
     "execution_count": 20,
     "metadata": {},
     "output_type": "execute_result"
    }
   ],
   "source": [
    "history.history['val_loss']"
   ]
  },
  {
   "cell_type": "code",
   "execution_count": 21,
   "metadata": {},
   "outputs": [
    {
     "data": {
      "text/plain": [
       "[0.9697781843884338,\n",
       " 0.7113650631940653,\n",
       " 0.6029535499251177,\n",
       " 0.5392437613298816,\n",
       " 0.4502984836862813,\n",
       " 0.3750041937230215,\n",
       " 0.3018219657242298,\n",
       " 0.2388903931677041,\n",
       " 0.18734758905690885,\n",
       " 0.1442868786806714,\n",
       " 0.12625467753499717,\n",
       " 0.1085980730992648,\n",
       " 0.0923945280674161,\n",
       " 0.09024291171091693,\n",
       " 0.06684840612207711,\n",
       " 0.06333364226561718,\n",
       " 0.0744683541919761,\n",
       " 0.08069793772832665,\n",
       " 0.053402133546716225,\n",
       " 0.08235265540501895,\n",
       " 0.050520938740925385,\n",
       " 0.060825162807568924,\n",
       " 0.039236252391146406,\n",
       " 0.043072326023448224,\n",
       " 0.04746266033071372,\n",
       " 0.044111064228755575,\n",
       " 0.04303928037153025,\n",
       " 0.04898164643575529,\n",
       " 0.04732888446078358,\n",
       " 0.04497182670242102,\n",
       " 0.03169956617994186,\n",
       " 0.043443861769871306,\n",
       " 0.03406300825194865,\n",
       " 0.026419400902839132,\n",
       " 0.05467860728916299,\n",
       " 0.02826104496080121,\n",
       " 0.04509251591729198,\n",
       " 0.02350938156714546,\n",
       " 0.036953482587500454,\n",
       " 0.03052124813394592,\n",
       " 0.03677139451874536,\n",
       " 0.029793129050480777,\n",
       " 0.022245247834122447,\n",
       " 0.030069586767343396,\n",
       " 0.028674133357581223,\n",
       " 0.028893529941577418,\n",
       " 0.023601724480951106,\n",
       " 0.025875395383765418,\n",
       " 0.02164574517720698,\n",
       " 0.022293759327505273,\n",
       " 0.04402992850799752,\n",
       " 0.041905382970925796,\n",
       " 0.01359636742033382,\n",
       " 0.005491256964160056,\n",
       " 0.020904309275018813,\n",
       " 0.05924688380319113,\n",
       " 0.018555476142927966,\n",
       " 0.03134228940300355,\n",
       " 0.014472875061488213,\n",
       " 0.021176978959171498,\n",
       " 0.025103270406813524,\n",
       " 0.008249150159769215,\n",
       " 0.018720217849123855,\n",
       " 0.03412248181301171,\n",
       " 0.023446642959538543,\n",
       " 0.02760526487335652,\n",
       " 0.022448580894140417,\n",
       " 0.017794272996044032,\n",
       " 0.01345566927458844,\n",
       " 0.015337225408344963,\n",
       " 0.0464080756633549,\n",
       " 0.022664290575765824,\n",
       " 0.010134829275736798,\n",
       " 0.015794149859930412,\n",
       " 0.04922761050711232]"
      ]
     },
     "execution_count": 21,
     "metadata": {},
     "output_type": "execute_result"
    }
   ],
   "source": [
    "history.history['loss']"
   ]
  },
  {
   "cell_type": "code",
   "execution_count": null,
   "metadata": {},
   "outputs": [],
   "source": []
  },
  {
   "cell_type": "code",
   "execution_count": null,
   "metadata": {},
   "outputs": [],
   "source": []
  },
  {
   "cell_type": "code",
   "execution_count": null,
   "metadata": {},
   "outputs": [],
   "source": []
  },
  {
   "cell_type": "code",
   "execution_count": 14,
   "metadata": {},
   "outputs": [
    {
     "name": "stdout",
     "output_type": "stream",
     "text": [
      "WARNING:tensorflow:SavedModel saved prior to TF 2.5 detected when loading Keras model. Please ensure that you are saving the model with model.save() or tf.keras.models.save_model(), *NOT* tf.saved_model.save(). To confirm, there should be a file named \"keras_metadata.pb\" in the SavedModel directory.\n"
     ]
    }
   ],
   "source": [
    "model=load_model(\"D:/Users/dsh/Desktop/desktop/Papers/paper3/bee_wasp/main_model/\")"
   ]
  },
  {
   "cell_type": "code",
   "execution_count": 22,
   "metadata": {},
   "outputs": [
    {
     "name": "stdout",
     "output_type": "stream",
     "text": [
      "47/47 [==============================] - 0s 2ms/step\n",
      "1500\n"
     ]
    }
   ],
   "source": [
    "a=model.predict(input_test)\n",
    "print(len(a))"
   ]
  },
  {
   "cell_type": "code",
   "execution_count": 24,
   "metadata": {},
   "outputs": [
    {
     "name": "stdout",
     "output_type": "stream",
     "text": [
      "precision 0.9665116\n",
      "recall 0.98018867\n",
      "f1 0.9665116169895756\n"
     ]
    }
   ],
   "source": [
    "########## Precision ##################### Main model\n",
    "m=tf.keras.metrics.Precision()\n",
    "# x=a+c+b+ghhh\n",
    "pred=np.argmax(a, axis=1)\n",
    "# x.shape\n",
    "# a=pred\n",
    "m.update_state(pred, target_test)\n",
    "print(\"precision\", m.result().numpy())\n",
    "\n",
    "n=tf.keras.metrics.Recall()\n",
    "n.update_state(pred, target_test)\n",
    "print(\"recall\", n.result().numpy())\n",
    "\n",
    "\n",
    "print(\"f1\",2*(n.result().numpy()*m.result().numpy())/(n.result().numpy()+n.result().numpy()) )"
   ]
  },
  {
   "cell_type": "code",
   "execution_count": 23,
   "metadata": {},
   "outputs": [
    {
     "ename": "NameError",
     "evalue": "name 'accuracy_from_test' is not defined",
     "output_type": "error",
     "traceback": [
      "\u001b[1;31m---------------------------------------------------------------------------\u001b[0m",
      "\u001b[1;31mNameError\u001b[0m                                 Traceback (most recent call last)",
      "Input \u001b[1;32mIn [23]\u001b[0m, in \u001b[0;36m<cell line: 1>\u001b[1;34m()\u001b[0m\n\u001b[1;32m----> 1\u001b[0m \u001b[43maccuracy_from_test\u001b[49m(a, target_test)\n",
      "\u001b[1;31mNameError\u001b[0m: name 'accuracy_from_test' is not defined"
     ]
    }
   ],
   "source": [
    "accuracy_from_test(a, target_test)"
   ]
  },
  {
   "cell_type": "code",
   "execution_count": null,
   "metadata": {},
   "outputs": [],
   "source": [
    "##########################################################################################"
   ]
  },
  {
   "cell_type": "code",
   "execution_count": 25,
   "metadata": {},
   "outputs": [],
   "source": [
    "tf.random.set_seed(25)\n",
    "\n",
    "model1 = Sequential()\n",
    "model1.add(Reshape((img_width, img_height,1), input_shape=(img_width, img_height)))\n",
    "model1.add(Conv2D(32, kernel_size=(3, 3), activation='relu'))\n",
    "\n",
    "model1.add(BatchNormalization())\n",
    "model1.add(MaxPooling2D(pool_size=(2, 2)))\n",
    "model1.add(Conv2D(64, kernel_size=(3, 3), activation='relu'))\n",
    "model1.add(BatchNormalization())\n",
    "model1.add(MaxPooling2D(pool_size=(2, 2)))\n",
    "model1.add(Conv2D(128, kernel_size=(3, 3), activation='relu'))\n",
    "model1.add(BatchNormalization())\n",
    "model1.add(MaxPooling2D(pool_size=(2, 2)))\n",
    "model1.add(Flatten())\n",
    "model1.add(Dense(256, activation='relu'))\n",
    "model1.add(Dense(128, activation='relu'))\n",
    "model1.add(Dense(no_classes, activation='softmax'))"
   ]
  },
  {
   "cell_type": "code",
   "execution_count": 26,
   "metadata": {},
   "outputs": [],
   "source": [
    "tf.random.set_seed(25)\n",
    "model1.compile(loss=loss_function,\n",
    "              optimizer=optimizer,\n",
    "              metrics=['accuracy'])"
   ]
  },
  {
   "cell_type": "code",
   "execution_count": null,
   "metadata": {},
   "outputs": [],
   "source": []
  },
  {
   "cell_type": "code",
   "execution_count": null,
   "metadata": {},
   "outputs": [],
   "source": []
  },
  {
   "cell_type": "code",
   "execution_count": null,
   "metadata": {},
   "outputs": [],
   "source": []
  },
  {
   "cell_type": "code",
   "execution_count": null,
   "metadata": {},
   "outputs": [],
   "source": [
    "\n"
   ]
  },
  {
   "cell_type": "code",
   "execution_count": 27,
   "metadata": {
    "scrolled": true
   },
   "outputs": [
    {
     "name": "stdout",
     "output_type": "stream",
     "text": [
      "Train on 7936 samples, validate on 1985 samples\n",
      "Epoch 1/25\n",
      "INFO:tensorflow:Assets written to: C:/Users/dsh/Desktop/Papers/paper3/fish - Copy/model1_1\\assets\n",
      "7936/7936 - 4s - loss: 1.1591 - accuracy: 0.5347 - val_loss: 1.2024 - val_accuracy: 0.5254\n",
      "Epoch 2/25\n",
      "INFO:tensorflow:Assets written to: C:/Users/dsh/Desktop/Papers/paper3/fish - Copy/model1_1\\assets\n",
      "7936/7936 - 3s - loss: 0.8585 - accuracy: 0.6227 - val_loss: 0.9737 - val_accuracy: 0.5884\n",
      "Epoch 3/25\n",
      "7936/7936 - 2s - loss: 0.7812 - accuracy: 0.6590 - val_loss: 1.1062 - val_accuracy: 0.5657\n",
      "Epoch 4/25\n",
      "INFO:tensorflow:Assets written to: C:/Users/dsh/Desktop/Papers/paper3/fish - Copy/model1_1\\assets\n",
      "7936/7936 - 3s - loss: 0.7036 - accuracy: 0.7006 - val_loss: 0.9668 - val_accuracy: 0.5995\n",
      "Epoch 5/25\n",
      "INFO:tensorflow:Assets written to: C:/Users/dsh/Desktop/Papers/paper3/fish - Copy/model1_1\\assets\n",
      "7936/7936 - 3s - loss: 0.6433 - accuracy: 0.7317 - val_loss: 0.9887 - val_accuracy: 0.6332\n",
      "Epoch 6/25\n",
      "INFO:tensorflow:Assets written to: C:/Users/dsh/Desktop/Papers/paper3/fish - Copy/model1_1\\assets\n",
      "7936/7936 - 4s - loss: 0.5558 - accuracy: 0.7722 - val_loss: 0.8517 - val_accuracy: 0.6625\n",
      "Epoch 7/25\n",
      "INFO:tensorflow:Assets written to: C:/Users/dsh/Desktop/Papers/paper3/fish - Copy/model1_1\\assets\n",
      "7936/7936 - 4s - loss: 0.4584 - accuracy: 0.8135 - val_loss: 0.9401 - val_accuracy: 0.6816\n",
      "Epoch 8/25\n",
      "7936/7936 - 2s - loss: 0.3609 - accuracy: 0.8538 - val_loss: 1.0515 - val_accuracy: 0.6509\n",
      "Epoch 9/25\n",
      "INFO:tensorflow:Assets written to: C:/Users/dsh/Desktop/Papers/paper3/fish - Copy/model1_1\\assets\n",
      "7936/7936 - 3s - loss: 0.2715 - accuracy: 0.8974 - val_loss: 1.0958 - val_accuracy: 0.6967\n",
      "Epoch 10/25\n",
      "INFO:tensorflow:Assets written to: C:/Users/dsh/Desktop/Papers/paper3/fish - Copy/model1_1\\assets\n",
      "7936/7936 - 3s - loss: 0.1967 - accuracy: 0.9292 - val_loss: 1.1335 - val_accuracy: 0.7043\n",
      "Epoch 11/25\n",
      "7936/7936 - 2s - loss: 0.1482 - accuracy: 0.9464 - val_loss: 1.2941 - val_accuracy: 0.6882\n",
      "Epoch 12/25\n",
      "7936/7936 - 2s - loss: 0.1006 - accuracy: 0.9650 - val_loss: 2.1156 - val_accuracy: 0.6579\n",
      "Epoch 13/25\n",
      "7936/7936 - 1s - loss: 0.0875 - accuracy: 0.9708 - val_loss: 1.5833 - val_accuracy: 0.6635\n",
      "Epoch 14/25\n",
      "7936/7936 - 1s - loss: 0.0926 - accuracy: 0.9690 - val_loss: 1.6104 - val_accuracy: 0.6912\n",
      "Epoch 15/25\n",
      "7936/7936 - 1s - loss: 0.0728 - accuracy: 0.9769 - val_loss: 1.9368 - val_accuracy: 0.6715\n",
      "Epoch 16/25\n",
      "7936/7936 - 1s - loss: 0.0599 - accuracy: 0.9806 - val_loss: 1.7819 - val_accuracy: 0.6992\n",
      "Epoch 17/25\n",
      "7936/7936 - 1s - loss: 0.0518 - accuracy: 0.9832 - val_loss: 1.8202 - val_accuracy: 0.6605\n",
      "Epoch 18/25\n",
      "7936/7936 - 1s - loss: 0.0590 - accuracy: 0.9807 - val_loss: 3.1857 - val_accuracy: 0.6574\n",
      "Epoch 19/25\n",
      "7936/7936 - 2s - loss: 0.0584 - accuracy: 0.9808 - val_loss: 2.0475 - val_accuracy: 0.6861\n",
      "Epoch 20/25\n",
      "7936/7936 - 2s - loss: 0.0602 - accuracy: 0.9798 - val_loss: 3.2870 - val_accuracy: 0.5874\n",
      "Epoch 21/25\n",
      "7936/7936 - 1s - loss: 0.0566 - accuracy: 0.9832 - val_loss: 1.7214 - val_accuracy: 0.6877\n",
      "Epoch 22/25\n",
      "7936/7936 - 1s - loss: 0.0342 - accuracy: 0.9889 - val_loss: 1.8849 - val_accuracy: 0.6997\n",
      "Epoch 23/25\n",
      "7936/7936 - 2s - loss: 0.0395 - accuracy: 0.9875 - val_loss: 2.0078 - val_accuracy: 0.6872\n",
      "Epoch 24/25\n",
      "7936/7936 - 2s - loss: 0.0501 - accuracy: 0.9831 - val_loss: 2.1084 - val_accuracy: 0.6836\n",
      "Epoch 25/25\n",
      "7936/7936 - 2s - loss: 0.0569 - accuracy: 0.9805 - val_loss: 2.0003 - val_accuracy: 0.6851\n"
     ]
    }
   ],
   "source": [
    "tf.random.set_seed(25)\n",
    "\n",
    "model_checkpoint_callback1 = tf.keras.callbacks.ModelCheckpoint(\n",
    "    filepath=\"C:/Users/dsh/Desktop/Papers/paper3/fish - Copy/model1_1\",\n",
    "    save_weights_only=False,\n",
    "    monitor='val_accuracy',\n",
    "    mode='max',\n",
    "    save_best_only=True)\n",
    "\n",
    "history1_1 = model1.fit(input_train[:,:,:,0], target_train,\n",
    "            batch_size=16,\n",
    "            epochs=25,\n",
    "            verbose=verbosity,\n",
    "            validation_split=validation_split,\n",
    "                       callbacks=[model_checkpoint_callback1])\n",
    "\n",
    "\n",
    "\n",
    "model1.save('model1_1.h5')\n",
    "\n",
    "\n"
   ]
  },
  {
   "cell_type": "code",
   "execution_count": 28,
   "metadata": {},
   "outputs": [
    {
     "data": {
      "text/plain": [
       "[1.159134808326921,\n",
       " 0.8584514021753303,\n",
       " 0.7811662992762942,\n",
       " 0.7036235369141063,\n",
       " 0.6433440389171723,\n",
       " 0.5558296892972242,\n",
       " 0.45840908792771157,\n",
       " 0.36089399231657865,\n",
       " 0.2714862062806083,\n",
       " 0.19669976158841182,\n",
       " 0.14820279856400204,\n",
       " 0.10055116366504901,\n",
       " 0.08752329754820347,\n",
       " 0.09261992340426302,\n",
       " 0.07277821160495214,\n",
       " 0.05993770108135586,\n",
       " 0.05184490868682148,\n",
       " 0.059040915884885005,\n",
       " 0.05843783245789734,\n",
       " 0.06016884343086032,\n",
       " 0.056620981074956944,\n",
       " 0.034169424222623535,\n",
       " 0.039467813519624334,\n",
       " 0.0501348026959317,\n",
       " 0.056874673021638955]"
      ]
     },
     "execution_count": 28,
     "metadata": {},
     "output_type": "execute_result"
    }
   ],
   "source": [
    "history1_1.history[\"loss\"]"
   ]
  },
  {
   "cell_type": "code",
   "execution_count": 29,
   "metadata": {},
   "outputs": [
    {
     "data": {
      "text/plain": [
       "[0.53465223,\n",
       " 0.62273186,\n",
       " 0.65902215,\n",
       " 0.70060486,\n",
       " 0.73172885,\n",
       " 0.7721774,\n",
       " 0.8135081,\n",
       " 0.85383064,\n",
       " 0.8974294,\n",
       " 0.9291835,\n",
       " 0.9464466,\n",
       " 0.96496975,\n",
       " 0.9707661,\n",
       " 0.969002,\n",
       " 0.9769405,\n",
       " 0.98059475,\n",
       " 0.9832409,\n",
       " 0.98072076,\n",
       " 0.98084676,\n",
       " 0.9798387,\n",
       " 0.9832409,\n",
       " 0.9889113,\n",
       " 0.9875252,\n",
       " 0.9831149,\n",
       " 0.98046875]"
      ]
     },
     "execution_count": 29,
     "metadata": {},
     "output_type": "execute_result"
    }
   ],
   "source": [
    "history1_1.history[\"accuracy\"]"
   ]
  },
  {
   "cell_type": "code",
   "execution_count": 30,
   "metadata": {},
   "outputs": [
    {
     "data": {
      "text/plain": [
       "[0.5254408,\n",
       " 0.5884131,\n",
       " 0.5657431,\n",
       " 0.59949625,\n",
       " 0.63324934,\n",
       " 0.6624685,\n",
       " 0.6816121,\n",
       " 0.6508816,\n",
       " 0.6967254,\n",
       " 0.7042821,\n",
       " 0.6881612,\n",
       " 0.6579345,\n",
       " 0.66347605,\n",
       " 0.69118387,\n",
       " 0.6715365,\n",
       " 0.6992443,\n",
       " 0.6604534,\n",
       " 0.6574307,\n",
       " 0.6861461,\n",
       " 0.58740556,\n",
       " 0.6876574,\n",
       " 0.6997481,\n",
       " 0.68715364,\n",
       " 0.6836272,\n",
       " 0.6851385]"
      ]
     },
     "execution_count": 30,
     "metadata": {},
     "output_type": "execute_result"
    }
   ],
   "source": [
    "history1_1.history[\"val_accuracy\"]"
   ]
  },
  {
   "cell_type": "code",
   "execution_count": 31,
   "metadata": {},
   "outputs": [
    {
     "data": {
      "text/plain": [
       "[1.2024327241954034,\n",
       " 0.9736779269703689,\n",
       " 1.10621384588218,\n",
       " 0.9668028499227327,\n",
       " 0.9886588670060001,\n",
       " 0.8517129808898912,\n",
       " 0.9401265763842896,\n",
       " 1.0514817804173198,\n",
       " 1.095794420098169,\n",
       " 1.1335026246174018,\n",
       " 1.2940585851365372,\n",
       " 2.1155691785235846,\n",
       " 1.5832958575159837,\n",
       " 1.6104032866375273,\n",
       " 1.936829302292927,\n",
       " 1.7818865600701244,\n",
       " 1.8201735927715779,\n",
       " 3.185732666371151,\n",
       " 2.047482176751874,\n",
       " 3.2869872595861516,\n",
       " 1.7213949701084312,\n",
       " 1.8848835995575643,\n",
       " 2.0077609470071884,\n",
       " 2.108365431480504,\n",
       " 2.0002503709166266]"
      ]
     },
     "execution_count": 31,
     "metadata": {},
     "output_type": "execute_result"
    }
   ],
   "source": [
    "history1_1.history[\"val_loss\"]"
   ]
  },
  {
   "cell_type": "code",
   "execution_count": 32,
   "metadata": {},
   "outputs": [],
   "source": [
    "model1_1_max=load_model(\"C:/Users/dsh/Desktop/Papers/paper3/fish - Copy/model1_1\")"
   ]
  },
  {
   "cell_type": "code",
   "execution_count": 33,
   "metadata": {},
   "outputs": [],
   "source": [
    "pred1_1=model1_1_max.predict(input_test[:,:,:,0])\n"
   ]
  },
  {
   "cell_type": "code",
   "execution_count": 34,
   "metadata": {},
   "outputs": [
    {
     "name": "stdout",
     "output_type": "stream",
     "text": [
      "0.6853333333333333\n"
     ]
    }
   ],
   "source": [
    "accuracy_from_test(pred1_1, target_test)"
   ]
  },
  {
   "cell_type": "code",
   "execution_count": 35,
   "metadata": {
    "scrolled": true
   },
   "outputs": [
    {
     "name": "stdout",
     "output_type": "stream",
     "text": [
      "WARNING:tensorflow:Error in loading the saved optimizer state. As a result, your model is starting with a freshly initialized optimizer.\n",
      "Train on 7936 samples, validate on 1985 samples\n",
      "Epoch 1/5\n",
      "INFO:tensorflow:Assets written to: C:/Users/dsh/Desktop/Papers/paper3/fish - Copy/model1_2\\assets\n",
      "7936/7936 - 4s - loss: 0.0522 - accuracy: 0.9836 - val_loss: 2.4910 - val_accuracy: 0.6408\n",
      "Epoch 2/5\n",
      "INFO:tensorflow:Assets written to: C:/Users/dsh/Desktop/Papers/paper3/fish - Copy/model1_2\\assets\n",
      "7936/7936 - 3s - loss: 0.0422 - accuracy: 0.9868 - val_loss: 2.1140 - val_accuracy: 0.6776\n",
      "Epoch 3/5\n",
      "INFO:tensorflow:Assets written to: C:/Users/dsh/Desktop/Papers/paper3/fish - Copy/model1_2\\assets\n",
      "7936/7936 - 4s - loss: 0.0570 - accuracy: 0.9837 - val_loss: 2.2933 - val_accuracy: 0.7013\n",
      "Epoch 4/5\n",
      "7936/7936 - 2s - loss: 0.0305 - accuracy: 0.9908 - val_loss: 1.9816 - val_accuracy: 0.6892\n",
      "Epoch 5/5\n",
      "7936/7936 - 1s - loss: 0.0326 - accuracy: 0.9887 - val_loss: 2.3901 - val_accuracy: 0.6675\n"
     ]
    }
   ],
   "source": [
    "\n",
    "model1_2=load_model('model1_1.h5')\n",
    "\n",
    "model_checkpoint_callback1_2 = tf.keras.callbacks.ModelCheckpoint(\n",
    "    filepath=\"C:/Users/dsh/Desktop/Papers/paper3/fish - Copy/model1_2\",\n",
    "    save_weights_only=False,\n",
    "    monitor='val_accuracy',\n",
    "    mode='max',\n",
    "    save_best_only=True)\n",
    " \n",
    "\n",
    "history1_2=model1_2.fit(input_train[:,:,:,0], target_train,\n",
    "            batch_size=16,\n",
    "            epochs=5,\n",
    "            verbose=2,\n",
    "            validation_split=validation_split,\n",
    "                        callbacks=[model_checkpoint_callback1_2]\n",
    "                  )\n",
    "\n",
    "model1_2.save('model1_2.h5')\n",
    "\n"
   ]
  },
  {
   "cell_type": "code",
   "execution_count": 36,
   "metadata": {},
   "outputs": [],
   "source": [
    "model1_2_max=load_model('C:/Users/dsh/Desktop/Papers/paper3/fish - Copy/model1_2')\n",
    "pred1_2=model1_2_max.predict(input_test[:,:,:,0])"
   ]
  },
  {
   "cell_type": "code",
   "execution_count": 37,
   "metadata": {},
   "outputs": [
    {
     "name": "stdout",
     "output_type": "stream",
     "text": [
      "0.69\n"
     ]
    }
   ],
   "source": [
    "accuracy_from_test(pred1_2, target_test)"
   ]
  },
  {
   "cell_type": "code",
   "execution_count": 38,
   "metadata": {},
   "outputs": [
    {
     "name": "stdout",
     "output_type": "stream",
     "text": [
      "Train on 7936 samples, validate on 1985 samples\n",
      "Epoch 1/10\n",
      "INFO:tensorflow:Assets written to: C:/Users/dsh/Desktop/Papers/paper3/fish - Copy/model1_3\\assets\n",
      "7936/7936 - 4s - loss: 0.0161 - accuracy: 0.9957 - val_loss: 2.5840 - val_accuracy: 0.6635\n",
      "Epoch 2/10\n",
      "INFO:tensorflow:Assets written to: C:/Users/dsh/Desktop/Papers/paper3/fish - Copy/model1_3\\assets\n",
      "7936/7936 - 3s - loss: 0.0458 - accuracy: 0.9853 - val_loss: 2.3921 - val_accuracy: 0.6821\n",
      "Epoch 3/10\n",
      "7936/7936 - 2s - loss: 0.0338 - accuracy: 0.9892 - val_loss: 2.4688 - val_accuracy: 0.6720\n",
      "Epoch 4/10\n",
      "INFO:tensorflow:Assets written to: C:/Users/dsh/Desktop/Papers/paper3/fish - Copy/model1_3\\assets\n",
      "7936/7936 - 3s - loss: 0.0337 - accuracy: 0.9874 - val_loss: 2.4137 - val_accuracy: 0.6872\n",
      "Epoch 5/10\n",
      "7936/7936 - 2s - loss: 0.0172 - accuracy: 0.9937 - val_loss: 3.0559 - val_accuracy: 0.6474\n",
      "Epoch 6/10\n",
      "7936/7936 - 2s - loss: 0.0523 - accuracy: 0.9830 - val_loss: 2.1912 - val_accuracy: 0.6811\n",
      "Epoch 7/10\n",
      "INFO:tensorflow:Assets written to: C:/Users/dsh/Desktop/Papers/paper3/fish - Copy/model1_3\\assets\n",
      "7936/7936 - 3s - loss: 0.0292 - accuracy: 0.9898 - val_loss: 2.0263 - val_accuracy: 0.6922\n",
      "Epoch 8/10\n",
      "7936/7936 - 2s - loss: 0.0198 - accuracy: 0.9926 - val_loss: 2.4907 - val_accuracy: 0.6846\n",
      "Epoch 9/10\n",
      "INFO:tensorflow:Assets written to: C:/Users/dsh/Desktop/Papers/paper3/fish - Copy/model1_3\\assets\n",
      "7936/7936 - 3s - loss: 0.0238 - accuracy: 0.9917 - val_loss: 2.4981 - val_accuracy: 0.7048\n",
      "Epoch 10/10\n",
      "7936/7936 - 2s - loss: 0.0243 - accuracy: 0.9921 - val_loss: 2.1119 - val_accuracy: 0.6932\n"
     ]
    }
   ],
   "source": [
    "model1_3=load_model('model1_2.h5')\n",
    "\n",
    "model_checkpoint_callback1_3 = tf.keras.callbacks.ModelCheckpoint(\n",
    "    filepath=\"C:/Users/dsh/Desktop/Papers/paper3/fish - Copy/model1_3\",\n",
    "    save_weights_only=False,\n",
    "    monitor='val_accuracy',\n",
    "    mode='max',\n",
    "    save_best_only=True)\n",
    "\n",
    "\n",
    "\n",
    "history1_3 = model1_3.fit(input_train[:,:,:,0], target_train,\n",
    "            batch_size=16,\n",
    "            epochs=10,\n",
    "            verbose=2,\n",
    "            validation_split=validation_split,\n",
    "                          \n",
    "callbacks=[model_checkpoint_callback1_3])\n",
    "\n",
    "model1_3.save('model1_3.h5')\n",
    "\n",
    "model1_3_max=load_model(\"C:/Users/dsh/Desktop/Papers/paper3/fish - Copy/model1_3\")\n",
    "pred1_3=model1_3_max.predict(input_test[:,:,:,0])"
   ]
  },
  {
   "cell_type": "code",
   "execution_count": 39,
   "metadata": {},
   "outputs": [
    {
     "name": "stdout",
     "output_type": "stream",
     "text": [
      "0.6953333333333334\n"
     ]
    }
   ],
   "source": [
    "accuracy_from_test(pred1_3, target_test)"
   ]
  },
  {
   "cell_type": "code",
   "execution_count": 40,
   "metadata": {},
   "outputs": [
    {
     "name": "stdout",
     "output_type": "stream",
     "text": [
      "Train on 7936 samples, validate on 1985 samples\n",
      "Epoch 1/15\n",
      "INFO:tensorflow:Assets written to: C:/Users/dsh/Desktop/Papers/paper3/fish - Copy/model1_4\\assets\n",
      "7936/7936 - 4s - loss: 0.0198 - accuracy: 0.9940 - val_loss: 2.8682 - val_accuracy: 0.6882\n",
      "Epoch 2/15\n",
      "7936/7936 - 2s - loss: 0.0388 - accuracy: 0.9890 - val_loss: 2.3971 - val_accuracy: 0.6851\n",
      "Epoch 3/15\n",
      "INFO:tensorflow:Assets written to: C:/Users/dsh/Desktop/Papers/paper3/fish - Copy/model1_4\\assets\n",
      "7936/7936 - 4s - loss: 0.0244 - accuracy: 0.9913 - val_loss: 2.3951 - val_accuracy: 0.6927\n",
      "Epoch 4/15\n",
      "7936/7936 - 2s - loss: 0.0204 - accuracy: 0.9937 - val_loss: 2.3466 - val_accuracy: 0.6720\n",
      "Epoch 5/15\n",
      "7936/7936 - 1s - loss: 0.0326 - accuracy: 0.9907 - val_loss: 2.3586 - val_accuracy: 0.6574\n",
      "Epoch 6/15\n",
      "7936/7936 - 2s - loss: 0.0263 - accuracy: 0.9923 - val_loss: 3.0224 - val_accuracy: 0.6559\n",
      "Epoch 7/15\n",
      "7936/7936 - 2s - loss: 0.0156 - accuracy: 0.9947 - val_loss: 2.1902 - val_accuracy: 0.6897\n",
      "Epoch 8/15\n",
      "INFO:tensorflow:Assets written to: C:/Users/dsh/Desktop/Papers/paper3/fish - Copy/model1_4\\assets\n",
      "7936/7936 - 3s - loss: 0.0163 - accuracy: 0.9952 - val_loss: 2.4952 - val_accuracy: 0.6987\n",
      "Epoch 9/15\n",
      "7936/7936 - 2s - loss: 0.0319 - accuracy: 0.9908 - val_loss: 2.2141 - val_accuracy: 0.6962\n",
      "Epoch 10/15\n",
      "7936/7936 - 1s - loss: 0.0223 - accuracy: 0.9919 - val_loss: 2.6507 - val_accuracy: 0.6796\n",
      "Epoch 11/15\n",
      "7936/7936 - 2s - loss: 0.0404 - accuracy: 0.9892 - val_loss: 2.1667 - val_accuracy: 0.6962\n",
      "Epoch 12/15\n",
      "7936/7936 - 2s - loss: 0.0182 - accuracy: 0.9943 - val_loss: 2.3785 - val_accuracy: 0.6947\n",
      "Epoch 13/15\n",
      "7936/7936 - 1s - loss: 0.0165 - accuracy: 0.9942 - val_loss: 2.3650 - val_accuracy: 0.6811\n",
      "Epoch 14/15\n",
      "7936/7936 - 1s - loss: 0.0071 - accuracy: 0.9980 - val_loss: 2.6957 - val_accuracy: 0.6937\n",
      "Epoch 15/15\n",
      "7936/7936 - 1s - loss: 0.0397 - accuracy: 0.9878 - val_loss: 2.4085 - val_accuracy: 0.6579\n"
     ]
    }
   ],
   "source": [
    "model1_4=load_model('model1_3.h5')\n",
    "\n",
    "model_checkpoint_callback1_4 = tf.keras.callbacks.ModelCheckpoint(\n",
    "    filepath=\"C:/Users/dsh/Desktop/Papers/paper3/fish - Copy/model1_4\",\n",
    "    save_weights_only=False,\n",
    "    monitor='val_accuracy',\n",
    "    mode='max',\n",
    "    save_best_only=True)\n",
    " \n",
    "\n",
    "history1_4 = model1_4.fit(input_train[:,:,:,0], target_train,\n",
    "            batch_size=16,\n",
    "            epochs=15,\n",
    "            verbose=2,\n",
    "            validation_split=validation_split,\n",
    "                         callbacks=[model_checkpoint_callback1_4])\n",
    "model1_4.save('model1_4.h5')\n"
   ]
  },
  {
   "cell_type": "code",
   "execution_count": 41,
   "metadata": {},
   "outputs": [],
   "source": [
    "model1_4_max=load_model(\"C:/Users/dsh/Desktop/Papers/paper3/fish - Copy/model1_4\")\n",
    "pred1_4=model1_4_max.predict(input_test[:,:,:,0])"
   ]
  },
  {
   "cell_type": "code",
   "execution_count": 42,
   "metadata": {},
   "outputs": [
    {
     "name": "stdout",
     "output_type": "stream",
     "text": [
      "0.692\n"
     ]
    }
   ],
   "source": [
    "accuracy_from_test(pred1_4, target_test)"
   ]
  },
  {
   "cell_type": "code",
   "execution_count": 43,
   "metadata": {
    "scrolled": true
   },
   "outputs": [
    {
     "name": "stdout",
     "output_type": "stream",
     "text": [
      "Train on 7936 samples, validate on 1985 samples\n",
      "Epoch 1/20\n",
      "INFO:tensorflow:Assets written to: C:/Users/dsh/Desktop/Papers/paper3/fish - Copy/model1_5\\assets\n",
      "7936/7936 - 4s - loss: 0.0288 - accuracy: 0.9898 - val_loss: 2.4002 - val_accuracy: 0.6962\n",
      "Epoch 2/20\n",
      "INFO:tensorflow:Assets written to: C:/Users/dsh/Desktop/Papers/paper3/fish - Copy/model1_5\\assets\n",
      "7936/7936 - 3s - loss: 0.0155 - accuracy: 0.9955 - val_loss: 2.7302 - val_accuracy: 0.7008\n",
      "Epoch 3/20\n",
      "7936/7936 - 2s - loss: 0.0281 - accuracy: 0.9922 - val_loss: 2.8117 - val_accuracy: 0.6781\n",
      "Epoch 4/20\n",
      "7936/7936 - 2s - loss: 0.0165 - accuracy: 0.9953 - val_loss: 3.7151 - val_accuracy: 0.6861\n",
      "Epoch 5/20\n",
      "7936/7936 - 2s - loss: 0.0350 - accuracy: 0.9900 - val_loss: 2.7829 - val_accuracy: 0.6761\n",
      "Epoch 6/20\n",
      "INFO:tensorflow:Assets written to: C:/Users/dsh/Desktop/Papers/paper3/fish - Copy/model1_5\\assets\n",
      "7936/7936 - 3s - loss: 0.0105 - accuracy: 0.9958 - val_loss: 2.7356 - val_accuracy: 0.7028\n",
      "Epoch 7/20\n",
      "7936/7936 - 2s - loss: 0.0069 - accuracy: 0.9976 - val_loss: 2.9560 - val_accuracy: 0.6866\n",
      "Epoch 8/20\n",
      "7936/7936 - 2s - loss: 0.0078 - accuracy: 0.9968 - val_loss: 3.1302 - val_accuracy: 0.6826\n",
      "Epoch 9/20\n",
      "7936/7936 - 2s - loss: 0.0379 - accuracy: 0.9890 - val_loss: 2.8132 - val_accuracy: 0.6756\n",
      "Epoch 10/20\n",
      "7936/7936 - 1s - loss: 0.0241 - accuracy: 0.9922 - val_loss: 2.8829 - val_accuracy: 0.6967\n",
      "Epoch 11/20\n",
      "7936/7936 - 2s - loss: 0.0185 - accuracy: 0.9941 - val_loss: 3.2293 - val_accuracy: 0.6725\n",
      "Epoch 12/20\n",
      "7936/7936 - 2s - loss: 0.0358 - accuracy: 0.9916 - val_loss: 2.7041 - val_accuracy: 0.6741\n",
      "Epoch 13/20\n",
      "7936/7936 - 2s - loss: 0.0209 - accuracy: 0.9942 - val_loss: 3.0075 - val_accuracy: 0.6882\n",
      "Epoch 14/20\n",
      "7936/7936 - 2s - loss: 0.0162 - accuracy: 0.9946 - val_loss: 2.7684 - val_accuracy: 0.6957\n",
      "Epoch 15/20\n",
      "7936/7936 - 2s - loss: 0.0133 - accuracy: 0.9953 - val_loss: 2.4871 - val_accuracy: 0.6917\n",
      "Epoch 16/20\n",
      "7936/7936 - 2s - loss: 0.0139 - accuracy: 0.9948 - val_loss: 3.1036 - val_accuracy: 0.6620\n",
      "Epoch 17/20\n",
      "7936/7936 - 2s - loss: 0.0108 - accuracy: 0.9968 - val_loss: 2.6508 - val_accuracy: 0.7018\n",
      "Epoch 18/20\n",
      "7936/7936 - 2s - loss: 0.0413 - accuracy: 0.9908 - val_loss: 2.3259 - val_accuracy: 0.6912\n",
      "Epoch 19/20\n",
      "7936/7936 - 2s - loss: 0.0138 - accuracy: 0.9956 - val_loss: 2.6262 - val_accuracy: 0.6872\n",
      "Epoch 20/20\n",
      "7936/7936 - 2s - loss: 0.0155 - accuracy: 0.9946 - val_loss: 3.3527 - val_accuracy: 0.6700\n"
     ]
    }
   ],
   "source": [
    "model1_5=load_model('model1_4.h5')\n",
    "\n",
    "model_checkpoint_callback1_5 = tf.keras.callbacks.ModelCheckpoint(\n",
    "    filepath=\"C:/Users/dsh/Desktop/Papers/paper3/fish - Copy/model1_5\",\n",
    "    save_weights_only=False,\n",
    "    monitor='val_accuracy',\n",
    "    mode='max',\n",
    "    save_best_only=True)\n",
    "\n",
    "\n",
    "\n",
    "history1_5 = model1_5.fit(input_train[:,:,:,0], target_train,\n",
    "            batch_size=16,\n",
    "            epochs=20,\n",
    "            verbose=2,\n",
    "            validation_split=validation_split,\n",
    "                         callbacks=[model_checkpoint_callback1_5])\n",
    "model1_5.save('model1_5.h5')\n",
    "\n"
   ]
  },
  {
   "cell_type": "code",
   "execution_count": 44,
   "metadata": {},
   "outputs": [],
   "source": [
    "model1_5_max=load_model(\"C:/Users/dsh/Desktop/Papers/paper3/fish - Copy/model1_5\")\n",
    "pred1_5=model1_5_max.predict(input_test[:,:,:,0])"
   ]
  },
  {
   "cell_type": "code",
   "execution_count": 45,
   "metadata": {
    "scrolled": true
   },
   "outputs": [
    {
     "name": "stdout",
     "output_type": "stream",
     "text": [
      "0.6953333333333334\n"
     ]
    }
   ],
   "source": [
    "accuracy_from_test(pred1_5, target_test)"
   ]
  },
  {
   "cell_type": "code",
   "execution_count": 26,
   "metadata": {},
   "outputs": [
    {
     "name": "stdout",
     "output_type": "stream",
     "text": [
      "WARNING:tensorflow:SavedModel saved prior to TF 2.5 detected when loading Keras model. Please ensure that you are saving the model with model.save() or tf.keras.models.save_model(), *NOT* tf.saved_model.save(). To confirm, there should be a file named \"keras_metadata.pb\" in the SavedModel directory.\n",
      "47/47 [==============================] - 0s 2ms/step\n",
      "WARNING:tensorflow:SavedModel saved prior to TF 2.5 detected when loading Keras model. Please ensure that you are saving the model with model.save() or tf.keras.models.save_model(), *NOT* tf.saved_model.save(). To confirm, there should be a file named \"keras_metadata.pb\" in the SavedModel directory.\n",
      "47/47 [==============================] - 0s 1ms/step\n",
      "WARNING:tensorflow:SavedModel saved prior to TF 2.5 detected when loading Keras model. Please ensure that you are saving the model with model.save() or tf.keras.models.save_model(), *NOT* tf.saved_model.save(). To confirm, there should be a file named \"keras_metadata.pb\" in the SavedModel directory.\n",
      "47/47 [==============================] - 0s 6ms/step\n",
      "WARNING:tensorflow:SavedModel saved prior to TF 2.5 detected when loading Keras model. Please ensure that you are saving the model with model.save() or tf.keras.models.save_model(), *NOT* tf.saved_model.save(). To confirm, there should be a file named \"keras_metadata.pb\" in the SavedModel directory.\n",
      "47/47 [==============================] - 0s 1ms/step\n",
      "WARNING:tensorflow:SavedModel saved prior to TF 2.5 detected when loading Keras model. Please ensure that you are saving the model with model.save() or tf.keras.models.save_model(), *NOT* tf.saved_model.save(). To confirm, there should be a file named \"keras_metadata.pb\" in the SavedModel directory.\n",
      "47/47 [==============================] - 0s 1ms/step\n"
     ]
    }
   ],
   "source": [
    "model1_1_max=load_model(\"D:/Users/dsh/Desktop/desktop/Papers/paper3/bee_wasp/model1_1\")\n",
    "pred1_1=model1_1_max.predict(input_test[:,:,:,0])\n",
    "\n",
    "model1_2_max=load_model(\"D:/Users/dsh/Desktop/desktop/Papers/paper3/bee_wasp/model1_2\")\n",
    "pred1_2=model1_2_max.predict(input_test[:,:,:,0])\n",
    "\n",
    "model1_3_max=load_model(\"D:/Users/dsh/Desktop/desktop/Papers/paper3/bee_wasp/model1_3\")\n",
    "pred1_3=model1_3_max.predict(input_test[:,:,:,0])\n",
    "\n",
    "model1_4_max=load_model(\"D:/Users/dsh/Desktop/desktop/Papers/paper3/bee_wasp/model1_4\")\n",
    "pred1_4=model1_4_max.predict(input_test[:,:,:,0])\n",
    "\n",
    "model1_5_max=load_model(\"D:/Users/dsh/Desktop/desktop/Papers/paper3/bee_wasp/model1_5\")\n",
    "pred1_5=model1_5_max.predict(input_test[:,:,:,0])"
   ]
  },
  {
   "cell_type": "code",
   "execution_count": 15,
   "metadata": {},
   "outputs": [
    {
     "name": "stdout",
     "output_type": "stream",
     "text": [
      "0.878\n"
     ]
    }
   ],
   "source": [
    "accuracy_from_test(pred1_1, target_test)"
   ]
  },
  {
   "cell_type": "code",
   "execution_count": 16,
   "metadata": {},
   "outputs": [
    {
     "name": "stdout",
     "output_type": "stream",
     "text": [
      "0.902\n"
     ]
    }
   ],
   "source": [
    "accuracy_from_test(pred1_2, target_test)"
   ]
  },
  {
   "cell_type": "code",
   "execution_count": 17,
   "metadata": {},
   "outputs": [
    {
     "name": "stdout",
     "output_type": "stream",
     "text": [
      "0.9093333333333333\n"
     ]
    }
   ],
   "source": [
    "accuracy_from_test(pred1_3, target_test)"
   ]
  },
  {
   "cell_type": "code",
   "execution_count": 18,
   "metadata": {},
   "outputs": [
    {
     "name": "stdout",
     "output_type": "stream",
     "text": [
      "0.906\n"
     ]
    }
   ],
   "source": [
    "accuracy_from_test(pred1_4, target_test)"
   ]
  },
  {
   "cell_type": "code",
   "execution_count": 19,
   "metadata": {},
   "outputs": [
    {
     "name": "stdout",
     "output_type": "stream",
     "text": [
      "0.9066666666666666\n"
     ]
    }
   ],
   "source": [
    "accuracy_from_test(pred1_5, target_test)"
   ]
  },
  {
   "cell_type": "code",
   "execution_count": 27,
   "metadata": {},
   "outputs": [],
   "source": [
    "ghhh=pred1_4+pred1_5+pred1_3+pred1_2+pred1_1"
   ]
  },
  {
   "cell_type": "code",
   "execution_count": 24,
   "metadata": {},
   "outputs": [
    {
     "name": "stdout",
     "output_type": "stream",
     "text": [
      "0.9193333333333333\n"
     ]
    }
   ],
   "source": [
    "accuracy_from_test(ghhh, target_test)"
   ]
  },
  {
   "cell_type": "code",
   "execution_count": 26,
   "metadata": {},
   "outputs": [
    {
     "name": "stdout",
     "output_type": "stream",
     "text": [
      "0.9193333333333333\n"
     ]
    }
   ],
   "source": [
    "accuracy_from_test(ghhh, target_test)"
   ]
  },
  {
   "cell_type": "code",
   "execution_count": 27,
   "metadata": {},
   "outputs": [
    {
     "name": "stdout",
     "output_type": "stream",
     "text": [
      "1500 1500\n",
      "pred1 unique adnvantage 0.04\n",
      "None\n",
      "1500 1500\n",
      "pred1 unique adnvantage 0.034666666666666665\n",
      "None\n",
      "1500 1500\n",
      "pred1 unique adnvantage 0.032\n",
      "None\n",
      "1500 1500\n",
      "pred1 unique adnvantage 0.032\n",
      "None\n"
     ]
    }
   ],
   "source": [
    "#define space \n",
    "print(define_space(pred1_1, pred1_2, target_test))\n",
    "print(define_space(pred1_1, pred1_3, target_test))\n",
    "print(define_space(pred1_1, pred1_4, target_test))\n",
    "print(define_space(pred1_1, pred1_5, target_test))"
   ]
  },
  {
   "cell_type": "code",
   "execution_count": 28,
   "metadata": {},
   "outputs": [
    {
     "name": "stdout",
     "output_type": "stream",
     "text": [
      "1500 1500\n",
      "pred1 unique adnvantage 0.064\n",
      "None\n",
      "1500 1500\n",
      "pred1 unique adnvantage 0.027333333333333334\n",
      "None\n",
      "1500 1500\n",
      "pred1 unique adnvantage 0.035333333333333335\n",
      "None\n",
      "1500 1500\n",
      "pred1 unique adnvantage 0.030666666666666665\n",
      "None\n"
     ]
    }
   ],
   "source": [
    "print(define_space(pred1_2, pred1_1, target_test))\n",
    "print(define_space(pred1_2, pred1_3, target_test))\n",
    "print(define_space(pred1_2, pred1_4, target_test))\n",
    "print(define_space(pred1_2, pred1_5, target_test))"
   ]
  },
  {
   "cell_type": "code",
   "execution_count": 29,
   "metadata": {},
   "outputs": [
    {
     "name": "stdout",
     "output_type": "stream",
     "text": [
      "1500 1500\n",
      "pred1 unique adnvantage 0.034666666666666665\n",
      "None\n",
      "1500 1500\n",
      "pred1 unique adnvantage 0.066\n",
      "None\n",
      "1500 1500\n",
      "pred1 unique adnvantage 0.030666666666666665\n",
      "None\n",
      "1500 1500\n",
      "pred1 unique adnvantage 0.027333333333333334\n",
      "None\n"
     ]
    }
   ],
   "source": [
    "print(define_space(pred1_3, pred1_2, target_test))\n",
    "print(define_space(pred1_3, pred1_1, target_test))\n",
    "print(define_space(pred1_3, pred1_4, target_test))\n",
    "print(define_space(pred1_3, pred1_5, target_test))"
   ]
  },
  {
   "cell_type": "code",
   "execution_count": 30,
   "metadata": {},
   "outputs": [
    {
     "name": "stdout",
     "output_type": "stream",
     "text": [
      "1500 1500\n",
      "pred1 unique adnvantage 0.03933333333333333\n",
      "None\n",
      "1500 1500\n",
      "pred1 unique adnvantage 0.027333333333333334\n",
      "None\n",
      "1500 1500\n",
      "pred1 unique adnvantage 0.06\n",
      "None\n",
      "1500 1500\n",
      "pred1 unique adnvantage 0.027333333333333334\n",
      "None\n"
     ]
    }
   ],
   "source": [
    "print(define_space(pred1_4, pred1_2, target_test))\n",
    "print(define_space(pred1_4, pred1_3, target_test))\n",
    "print(define_space(pred1_4, pred1_1, target_test))\n",
    "print(define_space(pred1_4, pred1_5, target_test))"
   ]
  },
  {
   "cell_type": "code",
   "execution_count": 31,
   "metadata": {},
   "outputs": [
    {
     "name": "stdout",
     "output_type": "stream",
     "text": [
      "1500 1500\n",
      "pred1 unique adnvantage 0.035333333333333335\n",
      "None\n",
      "1500 1500\n",
      "pred1 unique adnvantage 0.024666666666666667\n",
      "None\n",
      "1500 1500\n",
      "pred1 unique adnvantage 0.028\n",
      "None\n",
      "1500 1500\n",
      "pred1 unique adnvantage 0.06066666666666667\n",
      "None\n"
     ]
    }
   ],
   "source": [
    "print(define_space(pred1_5, pred1_2, target_test))\n",
    "print(define_space(pred1_5, pred1_3, target_test))\n",
    "print(define_space(pred1_5, pred1_4, target_test))\n",
    "print(define_space(pred1_5, pred1_1, target_test))"
   ]
  },
  {
   "cell_type": "code",
   "execution_count": null,
   "metadata": {},
   "outputs": [],
   "source": []
  },
  {
   "cell_type": "code",
   "execution_count": 60,
   "metadata": {},
   "outputs": [
    {
     "data": {
      "text/plain": [
       "[1.159134808326921,\n",
       " 0.8584514021753303,\n",
       " 0.7811662992762942,\n",
       " 0.7036235369141063,\n",
       " 0.6433440389171723,\n",
       " 0.5558296892972242,\n",
       " 0.45840908792771157,\n",
       " 0.36089399231657865,\n",
       " 0.2714862062806083,\n",
       " 0.19669976158841182,\n",
       " 0.14820279856400204,\n",
       " 0.10055116366504901,\n",
       " 0.08752329754820347,\n",
       " 0.09261992340426302,\n",
       " 0.07277821160495214,\n",
       " 0.05993770108135586,\n",
       " 0.05184490868682148,\n",
       " 0.059040915884885005,\n",
       " 0.05843783245789734,\n",
       " 0.06016884343086032,\n",
       " 0.056620981074956944,\n",
       " 0.034169424222623535,\n",
       " 0.039467813519624334,\n",
       " 0.0501348026959317,\n",
       " 0.056874673021638955]"
      ]
     },
     "execution_count": 60,
     "metadata": {},
     "output_type": "execute_result"
    }
   ],
   "source": [
    "history1_1.history['loss']\n"
   ]
  },
  {
   "cell_type": "code",
   "execution_count": 61,
   "metadata": {},
   "outputs": [
    {
     "data": {
      "text/plain": [
       "[1.2024327241954034,\n",
       " 0.9736779269703689,\n",
       " 1.10621384588218,\n",
       " 0.9668028499227327,\n",
       " 0.9886588670060001,\n",
       " 0.8517129808898912,\n",
       " 0.9401265763842896,\n",
       " 1.0514817804173198,\n",
       " 1.095794420098169,\n",
       " 1.1335026246174018,\n",
       " 1.2940585851365372,\n",
       " 2.1155691785235846,\n",
       " 1.5832958575159837,\n",
       " 1.6104032866375273,\n",
       " 1.936829302292927,\n",
       " 1.7818865600701244,\n",
       " 1.8201735927715779,\n",
       " 3.185732666371151,\n",
       " 2.047482176751874,\n",
       " 3.2869872595861516,\n",
       " 1.7213949701084312,\n",
       " 1.8848835995575643,\n",
       " 2.0077609470071884,\n",
       " 2.108365431480504,\n",
       " 2.0002503709166266]"
      ]
     },
     "execution_count": 61,
     "metadata": {},
     "output_type": "execute_result"
    }
   ],
   "source": [
    "history1_1.history['val_loss']"
   ]
  },
  {
   "cell_type": "code",
   "execution_count": 62,
   "metadata": {},
   "outputs": [
    {
     "data": {
      "text/plain": [
       "[0.052190236456139,\n",
       " 0.04217946088231422,\n",
       " 0.056987665870194854,\n",
       " 0.030529731087965722,\n",
       " 0.03263776851812391]"
      ]
     },
     "execution_count": 62,
     "metadata": {},
     "output_type": "execute_result"
    }
   ],
   "source": [
    "history1_2.history['loss']\n"
   ]
  },
  {
   "cell_type": "code",
   "execution_count": 63,
   "metadata": {},
   "outputs": [
    {
     "data": {
      "text/plain": [
       "[2.491039063024243,\n",
       " 2.1139573140468646,\n",
       " 2.293336702053733,\n",
       " 1.9816355710666185,\n",
       " 2.39007783764856]"
      ]
     },
     "execution_count": 63,
     "metadata": {},
     "output_type": "execute_result"
    }
   ],
   "source": [
    "history1_2.history['val_loss']"
   ]
  },
  {
   "cell_type": "code",
   "execution_count": 64,
   "metadata": {},
   "outputs": [
    {
     "data": {
      "text/plain": [
       "[0.016108319438100784,\n",
       " 0.04579869923785032,\n",
       " 0.0337535925943945,\n",
       " 0.033683116011991206,\n",
       " 0.017193952691177895,\n",
       " 0.052305037681469733,\n",
       " 0.02924942710545279,\n",
       " 0.019770905245684894,\n",
       " 0.023772951658026346,\n",
       " 0.024283730400095658]"
      ]
     },
     "execution_count": 64,
     "metadata": {},
     "output_type": "execute_result"
    }
   ],
   "source": [
    "history1_3.history['loss']"
   ]
  },
  {
   "cell_type": "code",
   "execution_count": 65,
   "metadata": {},
   "outputs": [
    {
     "data": {
      "text/plain": [
       "[2.5839783166457786,\n",
       " 2.392071136839744,\n",
       " 2.4687817523101114,\n",
       " 2.4137059384689525,\n",
       " 3.05589509568827,\n",
       " 2.191193615819705,\n",
       " 2.026289202704538,\n",
       " 2.490712155105184,\n",
       " 2.4981316275800807,\n",
       " 2.1119486393946545]"
      ]
     },
     "execution_count": 65,
     "metadata": {},
     "output_type": "execute_result"
    }
   ],
   "source": [
    "history1_3.history['val_loss']"
   ]
  },
  {
   "cell_type": "code",
   "execution_count": 66,
   "metadata": {},
   "outputs": [
    {
     "data": {
      "text/plain": [
       "[0.01979351048249929,\n",
       " 0.03877833726339246,\n",
       " 0.02439794406385389,\n",
       " 0.020362110829402064,\n",
       " 0.03261489476565393,\n",
       " 0.02625066326830453,\n",
       " 0.015580128808175407,\n",
       " 0.016277043700376963,\n",
       " 0.03188078985798328,\n",
       " 0.022327957411123537,\n",
       " 0.04037505981676392,\n",
       " 0.018202241739792895,\n",
       " 0.016477490188694013,\n",
       " 0.007122693944102461,\n",
       " 0.03971691037726891]"
      ]
     },
     "execution_count": 66,
     "metadata": {},
     "output_type": "execute_result"
    }
   ],
   "source": [
    "history1_4.history['loss']"
   ]
  },
  {
   "cell_type": "code",
   "execution_count": 67,
   "metadata": {},
   "outputs": [
    {
     "data": {
      "text/plain": [
       "[2.8681841923547933,\n",
       " 2.397064697111884,\n",
       " 2.395058651632566,\n",
       " 2.3466040576285017,\n",
       " 2.358587330054276,\n",
       " 3.0223776502633273,\n",
       " 2.19024970253709,\n",
       " 2.4952449620821016,\n",
       " 2.214079896749117,\n",
       " 2.650713878074281,\n",
       " 2.166737728575315,\n",
       " 2.378461273971673,\n",
       " 2.3650170314221897,\n",
       " 2.695691288148126,\n",
       " 2.408505099606454]"
      ]
     },
     "execution_count": 67,
     "metadata": {},
     "output_type": "execute_result"
    }
   ],
   "source": [
    "history1_4.history['val_loss']"
   ]
  },
  {
   "cell_type": "code",
   "execution_count": 68,
   "metadata": {},
   "outputs": [
    {
     "data": {
      "text/plain": [
       "[0.028810726102403438,\n",
       " 0.015507406856103455,\n",
       " 0.02808950500681359,\n",
       " 0.016470689696110357,\n",
       " 0.03499282980287524,\n",
       " 0.010509389432239426,\n",
       " 0.00693907232650086,\n",
       " 0.007796751510594253,\n",
       " 0.03792547321430132,\n",
       " 0.02408703031380661,\n",
       " 0.018529695163693995,\n",
       " 0.035791247700415564,\n",
       " 0.02092505687398639,\n",
       " 0.016180223108282262,\n",
       " 0.013278232899272163,\n",
       " 0.013943428790279,\n",
       " 0.010839996631952313,\n",
       " 0.04130405928163973,\n",
       " 0.013822806191051517,\n",
       " 0.01546640585602395]"
      ]
     },
     "execution_count": 68,
     "metadata": {},
     "output_type": "execute_result"
    }
   ],
   "source": [
    "history1_5.history['loss']"
   ]
  },
  {
   "cell_type": "code",
   "execution_count": 69,
   "metadata": {},
   "outputs": [
    {
     "data": {
      "text/plain": [
       "[2.4002241571844376,\n",
       " 2.730177717785391,\n",
       " 2.8116873011480945,\n",
       " 3.7151250890664924,\n",
       " 2.782912493592846,\n",
       " 2.735559451730185,\n",
       " 2.956010325549532,\n",
       " 3.130197076533243,\n",
       " 2.8131865495398305,\n",
       " 2.8828855250284113,\n",
       " 3.229308664048048,\n",
       " 2.7041017365996125,\n",
       " 3.007548214266222,\n",
       " 2.7683627066143814,\n",
       " 2.4870700326614474,\n",
       " 3.103577052195667,\n",
       " 2.6508385153801677,\n",
       " 2.3259133761438426,\n",
       " 2.6262179374694825,\n",
       " 3.352732464528504]"
      ]
     },
     "execution_count": 69,
     "metadata": {},
     "output_type": "execute_result"
    }
   ],
   "source": [
    "history1_5.history['val_loss']"
   ]
  },
  {
   "cell_type": "code",
   "execution_count": 70,
   "metadata": {},
   "outputs": [
    {
     "data": {
      "text/plain": [
       "[0.53465223,\n",
       " 0.62273186,\n",
       " 0.65902215,\n",
       " 0.70060486,\n",
       " 0.73172885,\n",
       " 0.7721774,\n",
       " 0.8135081,\n",
       " 0.85383064,\n",
       " 0.8974294,\n",
       " 0.9291835,\n",
       " 0.9464466,\n",
       " 0.96496975,\n",
       " 0.9707661,\n",
       " 0.969002,\n",
       " 0.9769405,\n",
       " 0.98059475,\n",
       " 0.9832409,\n",
       " 0.98072076,\n",
       " 0.98084676,\n",
       " 0.9798387,\n",
       " 0.9832409,\n",
       " 0.9889113,\n",
       " 0.9875252,\n",
       " 0.9831149,\n",
       " 0.98046875]"
      ]
     },
     "execution_count": 70,
     "metadata": {},
     "output_type": "execute_result"
    }
   ],
   "source": [
    "history1_1.history['accuracy']"
   ]
  },
  {
   "cell_type": "code",
   "execution_count": 71,
   "metadata": {},
   "outputs": [
    {
     "data": {
      "text/plain": [
       "[0.5254408,\n",
       " 0.5884131,\n",
       " 0.5657431,\n",
       " 0.59949625,\n",
       " 0.63324934,\n",
       " 0.6624685,\n",
       " 0.6816121,\n",
       " 0.6508816,\n",
       " 0.6967254,\n",
       " 0.7042821,\n",
       " 0.6881612,\n",
       " 0.6579345,\n",
       " 0.66347605,\n",
       " 0.69118387,\n",
       " 0.6715365,\n",
       " 0.6992443,\n",
       " 0.6604534,\n",
       " 0.6574307,\n",
       " 0.6861461,\n",
       " 0.58740556,\n",
       " 0.6876574,\n",
       " 0.6997481,\n",
       " 0.68715364,\n",
       " 0.6836272,\n",
       " 0.6851385]"
      ]
     },
     "execution_count": 71,
     "metadata": {},
     "output_type": "execute_result"
    }
   ],
   "source": [
    "history1_1.history['val_accuracy']"
   ]
  },
  {
   "cell_type": "code",
   "execution_count": 72,
   "metadata": {},
   "outputs": [
    {
     "data": {
      "text/plain": [
       "[0.983619, 0.98676914, 0.983745, 0.9908014, 0.98865926]"
      ]
     },
     "execution_count": 72,
     "metadata": {},
     "output_type": "execute_result"
    }
   ],
   "source": [
    "history1_2.history['accuracy']"
   ]
  },
  {
   "cell_type": "code",
   "execution_count": 73,
   "metadata": {},
   "outputs": [
    {
     "data": {
      "text/plain": [
       "[0.640806, 0.67758185, 0.70125943, 0.68916875, 0.6675063]"
      ]
     },
     "execution_count": 73,
     "metadata": {},
     "output_type": "execute_result"
    }
   ],
   "source": [
    "history1_2.history['val_accuracy']"
   ]
  },
  {
   "cell_type": "code",
   "execution_count": 74,
   "metadata": {},
   "outputs": [
    {
     "data": {
      "text/plain": [
       "[0.99571574,\n",
       " 0.985257,\n",
       " 0.9891633,\n",
       " 0.9873992,\n",
       " 0.9936996,\n",
       " 0.9829889,\n",
       " 0.98979336,\n",
       " 0.9925655,\n",
       " 0.9916835,\n",
       " 0.9920615]"
      ]
     },
     "execution_count": 74,
     "metadata": {},
     "output_type": "execute_result"
    }
   ],
   "source": [
    "history1_3.history['accuracy']"
   ]
  },
  {
   "cell_type": "code",
   "execution_count": 75,
   "metadata": {},
   "outputs": [
    {
     "data": {
      "text/plain": [
       "[0.66347605,\n",
       " 0.68211585,\n",
       " 0.6720403,\n",
       " 0.68715364,\n",
       " 0.64735514,\n",
       " 0.6811083,\n",
       " 0.6921914,\n",
       " 0.68463475,\n",
       " 0.7047859,\n",
       " 0.693199]"
      ]
     },
     "execution_count": 75,
     "metadata": {},
     "output_type": "execute_result"
    }
   ],
   "source": [
    "history1_3.history['val_accuracy']"
   ]
  },
  {
   "cell_type": "code",
   "execution_count": 76,
   "metadata": {},
   "outputs": [
    {
     "data": {
      "text/plain": [
       "[0.9939516,\n",
       " 0.9890373,\n",
       " 0.9913055,\n",
       " 0.9936996,\n",
       " 0.9906754,\n",
       " 0.9923135,\n",
       " 0.99470764,\n",
       " 0.9952117,\n",
       " 0.9908014,\n",
       " 0.9919355,\n",
       " 0.9891633,\n",
       " 0.99432963,\n",
       " 0.9942036,\n",
       " 0.9979839,\n",
       " 0.98777723]"
      ]
     },
     "execution_count": 76,
     "metadata": {},
     "output_type": "execute_result"
    }
   ],
   "source": [
    "history1_4.history['accuracy']"
   ]
  },
  {
   "cell_type": "code",
   "execution_count": 77,
   "metadata": {},
   "outputs": [
    {
     "data": {
      "text/plain": [
       "[0.6881612,\n",
       " 0.6851385,\n",
       " 0.6926952,\n",
       " 0.6720403,\n",
       " 0.6574307,\n",
       " 0.6559194,\n",
       " 0.6896725,\n",
       " 0.69874054,\n",
       " 0.69622165,\n",
       " 0.67959696,\n",
       " 0.69622165,\n",
       " 0.6947103,\n",
       " 0.6811083,\n",
       " 0.69370276,\n",
       " 0.6579345]"
      ]
     },
     "execution_count": 77,
     "metadata": {},
     "output_type": "execute_result"
    }
   ],
   "source": [
    "history1_4.history['val_accuracy']"
   ]
  },
  {
   "cell_type": "code",
   "execution_count": 78,
   "metadata": {},
   "outputs": [
    {
     "data": {
      "text/plain": [
       "[0.98979336,\n",
       " 0.9954637,\n",
       " 0.9921875,\n",
       " 0.9953377,\n",
       " 0.99004537,\n",
       " 0.99584174,\n",
       " 0.99760586,\n",
       " 0.9968498,\n",
       " 0.9890373,\n",
       " 0.9921875,\n",
       " 0.9940776,\n",
       " 0.9915575,\n",
       " 0.9942036,\n",
       " 0.99458164,\n",
       " 0.9953377,\n",
       " 0.99483365,\n",
       " 0.9968498,\n",
       " 0.9908014,\n",
       " 0.99558973,\n",
       " 0.99458164]"
      ]
     },
     "execution_count": 78,
     "metadata": {},
     "output_type": "execute_result"
    }
   ],
   "source": [
    "history1_5.history['accuracy']"
   ]
  },
  {
   "cell_type": "code",
   "execution_count": 79,
   "metadata": {},
   "outputs": [
    {
     "data": {
      "text/plain": [
       "[0.69622165,\n",
       " 0.70075566,\n",
       " 0.6780856,\n",
       " 0.6861461,\n",
       " 0.6760705,\n",
       " 0.70277077,\n",
       " 0.68664986,\n",
       " 0.68261963,\n",
       " 0.67556673,\n",
       " 0.6967254,\n",
       " 0.67254406,\n",
       " 0.6740554,\n",
       " 0.6881612,\n",
       " 0.6957179,\n",
       " 0.69168764,\n",
       " 0.6619647,\n",
       " 0.7017632,\n",
       " 0.69118387,\n",
       " 0.68715364,\n",
       " 0.67002517]"
      ]
     },
     "execution_count": 79,
     "metadata": {},
     "output_type": "execute_result"
    }
   ],
   "source": [
    "history1_5.history['val_accuracy']"
   ]
  },
  {
   "cell_type": "code",
   "execution_count": null,
   "metadata": {},
   "outputs": [],
   "source": []
  },
  {
   "cell_type": "markdown",
   "metadata": {},
   "source": [
    "#############################channel2#####################################################################"
   ]
  },
  {
   "cell_type": "code",
   "execution_count": 80,
   "metadata": {},
   "outputs": [],
   "source": [
    "tf.random.set_seed(25)\n",
    "\n",
    "model2 = Sequential()\n",
    "model2.add(Reshape((img_width, img_height,1), input_shape=(img_width, img_height)))\n",
    "model2.add(Conv2D(32, kernel_size=(3, 3), activation='relu'))\n",
    "model2.add(BatchNormalization())\n",
    "model2.add(MaxPooling2D(pool_size=(2, 2)))\n",
    "model2.add(Conv2D(64, kernel_size=(3, 3), activation='relu'))\n",
    "model2.add(BatchNormalization())\n",
    "model2.add(MaxPooling2D(pool_size=(2, 2)))\n",
    "model2.add(Conv2D(128, kernel_size=(3, 3), activation='relu'))\n",
    "model2.add(BatchNormalization())\n",
    "model2.add(MaxPooling2D(pool_size=(2, 2)))\n",
    "model2.add(Flatten())\n",
    "model2.add(Dense(256, activation='relu'))\n",
    "model2.add(Dense(128, activation='relu'))\n",
    "model2.add(Dense(no_classes, activation='softmax'))"
   ]
  },
  {
   "cell_type": "code",
   "execution_count": 81,
   "metadata": {},
   "outputs": [],
   "source": [
    "model2.compile(loss=loss_function,\n",
    "              optimizer=optimizer,\n",
    "              metrics=['accuracy'])"
   ]
  },
  {
   "cell_type": "code",
   "execution_count": 82,
   "metadata": {},
   "outputs": [
    {
     "name": "stdout",
     "output_type": "stream",
     "text": [
      "Train on 7936 samples, validate on 1985 samples\n",
      "Epoch 1/5\n",
      "INFO:tensorflow:Assets written to: C:/Users/dsh/Desktop/Papers/paper3/fish - Copy/model2_1\\assets\n",
      "7936/7936 - 4s - loss: 1.2588 - accuracy: 0.4923 - val_loss: 1.1726 - val_accuracy: 0.4962\n",
      "Epoch 2/5\n",
      "INFO:tensorflow:Assets written to: C:/Users/dsh/Desktop/Papers/paper3/fish - Copy/model2_1\\assets\n",
      "7936/7936 - 4s - loss: 0.9516 - accuracy: 0.5558 - val_loss: 0.9625 - val_accuracy: 0.5622\n",
      "Epoch 3/5\n",
      "7936/7936 - 2s - loss: 0.8648 - accuracy: 0.6101 - val_loss: 1.1312 - val_accuracy: 0.4191\n",
      "Epoch 4/5\n",
      "INFO:tensorflow:Assets written to: C:/Users/dsh/Desktop/Papers/paper3/fish - Copy/model2_1\\assets\n",
      "7936/7936 - 3s - loss: 0.7933 - accuracy: 0.6505 - val_loss: 0.9623 - val_accuracy: 0.5753\n",
      "Epoch 5/5\n",
      "INFO:tensorflow:Assets written to: C:/Users/dsh/Desktop/Papers/paper3/fish - Copy/model2_1\\assets\n",
      "7936/7936 - 4s - loss: 0.7402 - accuracy: 0.6773 - val_loss: 0.8159 - val_accuracy: 0.6398\n"
     ]
    }
   ],
   "source": [
    "\n",
    "\n",
    "model_checkpoint_callback2_1 = tf.keras.callbacks.ModelCheckpoint(\n",
    "    filepath=\"C:/Users/dsh/Desktop/Papers/paper3/fish - Copy/model2_1\",\n",
    "    save_weights_only=False,\n",
    "    monitor='val_accuracy',\n",
    "    mode='max',\n",
    "    save_best_only=True)\n",
    "\n",
    "\n",
    "history2_1 = model2.fit(input_train[:,:,:,1], target_train,\n",
    "            batch_size=16,\n",
    "            epochs=5,\n",
    "            verbose=verbosity,\n",
    "            validation_split=validation_split,\n",
    "                       callbacks=[model_checkpoint_callback2_1])\n",
    "save_model(model2,'model2_1.h5')\n",
    "\n",
    "model2_1_max=load_model(\"C:/Users/dsh/Desktop/Papers/paper3/fish - Copy/model2_1\")\n",
    "pred2_1=model2_1_max.predict(input_test[:,:,:,1])\n",
    "\n"
   ]
  },
  {
   "cell_type": "code",
   "execution_count": 83,
   "metadata": {},
   "outputs": [
    {
     "name": "stdout",
     "output_type": "stream",
     "text": [
      "0.648\n"
     ]
    }
   ],
   "source": [
    "accuracy_from_test(pred2_1, target_test)"
   ]
  },
  {
   "cell_type": "code",
   "execution_count": 84,
   "metadata": {},
   "outputs": [
    {
     "name": "stdout",
     "output_type": "stream",
     "text": [
      "WARNING:tensorflow:Error in loading the saved optimizer state. As a result, your model is starting with a freshly initialized optimizer.\n",
      "Train on 7936 samples, validate on 1985 samples\n",
      "Epoch 1/5\n",
      "INFO:tensorflow:Assets written to: C:/Users/dsh/Desktop/Papers/paper3/fish - Copy/model2_2\\assets\n",
      "7936/7936 - 3s - loss: 0.7041 - accuracy: 0.7002 - val_loss: 1.0161 - val_accuracy: 0.5975\n",
      "Epoch 2/5\n",
      "INFO:tensorflow:Assets written to: C:/Users/dsh/Desktop/Papers/paper3/fish - Copy/model2_2\\assets\n",
      "7936/7936 - 4s - loss: 0.6136 - accuracy: 0.7461 - val_loss: 0.8703 - val_accuracy: 0.6655\n",
      "Epoch 3/5\n",
      "7936/7936 - 2s - loss: 0.5285 - accuracy: 0.7863 - val_loss: 0.8643 - val_accuracy: 0.6408\n",
      "Epoch 4/5\n",
      "7936/7936 - 1s - loss: 0.4277 - accuracy: 0.8262 - val_loss: 1.1202 - val_accuracy: 0.6322\n",
      "Epoch 5/5\n",
      "7936/7936 - 2s - loss: 0.3088 - accuracy: 0.8788 - val_loss: 1.3948 - val_accuracy: 0.6443\n"
     ]
    }
   ],
   "source": [
    "model2_2=load_model('model2_1.h5')\n",
    "model_checkpoint_callback2_2 = tf.keras.callbacks.ModelCheckpoint(\n",
    "    filepath=\"C:/Users/dsh/Desktop/Papers/paper3/fish - Copy/model2_2\",\n",
    "    save_weights_only=False,\n",
    "    monitor='val_accuracy',\n",
    "    mode='max',\n",
    "    save_best_only=True)\n",
    "\n",
    "\n",
    "history2_2=model2_2.fit(input_train[:,:,:,1], target_train,\n",
    "            batch_size=16,\n",
    "            epochs=5,\n",
    "            verbose=2,\n",
    "            validation_split=validation_split,\n",
    "                        callbacks=[model_checkpoint_callback2_2]\n",
    "                  )\n",
    "\n",
    "model2_2.save('model2_2.h5')\n",
    "\n",
    "model2_2_max=load_model(\"C:/Users/dsh/Desktop/Papers/paper3/fish - Copy/model2_2\")\n",
    "pred2_2=model2_2_max.predict(input_test[:,:,:,1])\n"
   ]
  },
  {
   "cell_type": "code",
   "execution_count": 85,
   "metadata": {},
   "outputs": [
    {
     "name": "stdout",
     "output_type": "stream",
     "text": [
      "0.6353333333333333\n"
     ]
    }
   ],
   "source": [
    "accuracy_from_test(pred2_2, target_test)"
   ]
  },
  {
   "cell_type": "code",
   "execution_count": 86,
   "metadata": {},
   "outputs": [
    {
     "name": "stdout",
     "output_type": "stream",
     "text": [
      "Train on 7936 samples, validate on 1985 samples\n",
      "Epoch 1/10\n",
      "INFO:tensorflow:Assets written to: C:/Users/dsh/Desktop/Papers/paper3/fish - Copy/model2_3\\assets\n",
      "7936/7936 - 4s - loss: 0.2301 - accuracy: 0.9144 - val_loss: 1.0871 - val_accuracy: 0.6650\n",
      "Epoch 2/10\n",
      "INFO:tensorflow:Assets written to: C:/Users/dsh/Desktop/Papers/paper3/fish - Copy/model2_3\\assets\n",
      "7936/7936 - 4s - loss: 0.1625 - accuracy: 0.9424 - val_loss: 1.3248 - val_accuracy: 0.6736\n",
      "Epoch 3/10\n",
      "INFO:tensorflow:Assets written to: C:/Users/dsh/Desktop/Papers/paper3/fish - Copy/model2_3\\assets\n",
      "7936/7936 - 3s - loss: 0.1137 - accuracy: 0.9596 - val_loss: 1.2111 - val_accuracy: 0.6791\n",
      "Epoch 4/10\n",
      "INFO:tensorflow:Assets written to: C:/Users/dsh/Desktop/Papers/paper3/fish - Copy/model2_3\\assets\n",
      "7936/7936 - 4s - loss: 0.1160 - accuracy: 0.9609 - val_loss: 1.3818 - val_accuracy: 0.6917\n",
      "Epoch 5/10\n",
      "7936/7936 - 2s - loss: 0.0767 - accuracy: 0.9739 - val_loss: 1.6697 - val_accuracy: 0.6428\n",
      "Epoch 6/10\n",
      "7936/7936 - 2s - loss: 0.0995 - accuracy: 0.9650 - val_loss: 1.5393 - val_accuracy: 0.6499\n",
      "Epoch 7/10\n",
      "7936/7936 - 2s - loss: 0.0675 - accuracy: 0.9764 - val_loss: 2.0730 - val_accuracy: 0.6332\n",
      "Epoch 8/10\n",
      "7936/7936 - 1s - loss: 0.0754 - accuracy: 0.9749 - val_loss: 1.7008 - val_accuracy: 0.6207\n",
      "Epoch 9/10\n",
      "7936/7936 - 2s - loss: 0.0584 - accuracy: 0.9795 - val_loss: 1.8478 - val_accuracy: 0.6766\n",
      "Epoch 10/10\n",
      "7936/7936 - 1s - loss: 0.0563 - accuracy: 0.9807 - val_loss: 1.8279 - val_accuracy: 0.6861\n"
     ]
    }
   ],
   "source": [
    "model2_3=load_model('model2_2.h5')\n",
    "\n",
    "model_checkpoint_callback2_3 = tf.keras.callbacks.ModelCheckpoint(\n",
    "    filepath=\"C:/Users/dsh/Desktop/Papers/paper3/fish - Copy/model2_3\",\n",
    "    save_weights_only=False,\n",
    "    monitor='val_accuracy',\n",
    "    mode='max',\n",
    "    save_best_only=True)\n",
    "\n",
    "history2_3 = model2_3.fit(input_train[:,:,:,1], target_train,\n",
    "            batch_size=16,\n",
    "            epochs=10,\n",
    "            verbose=2,\n",
    "            validation_split=validation_split,\n",
    "                         callbacks=[model_checkpoint_callback2_3])\n",
    "model2_3.save('model2_3.h5')\n",
    "\n",
    "model2_3_max=load_model(\"C:/Users/dsh/Desktop/Papers/paper3/fish - Copy/model2_3\")\n",
    "pred2_3=model2_3_max.predict(input_test[:,:,:,1])"
   ]
  },
  {
   "cell_type": "code",
   "execution_count": 87,
   "metadata": {},
   "outputs": [
    {
     "name": "stdout",
     "output_type": "stream",
     "text": [
      "0.6906666666666667\n"
     ]
    }
   ],
   "source": [
    "accuracy_from_test(pred2_3, target_test)"
   ]
  },
  {
   "cell_type": "code",
   "execution_count": 88,
   "metadata": {},
   "outputs": [
    {
     "name": "stdout",
     "output_type": "stream",
     "text": [
      "Train on 7936 samples, validate on 1985 samples\n",
      "Epoch 1/15\n",
      "INFO:tensorflow:Assets written to: C:/Users/dsh/Desktop/Papers/paper3/fish - Copy/model2_4\\assets\n",
      "7936/7936 - 4s - loss: 0.0424 - accuracy: 0.9866 - val_loss: 1.8178 - val_accuracy: 0.6781\n",
      "Epoch 2/15\n",
      "7936/7936 - 2s - loss: 0.0526 - accuracy: 0.9831 - val_loss: 2.5981 - val_accuracy: 0.6443\n",
      "Epoch 3/15\n",
      "7936/7936 - 1s - loss: 0.0456 - accuracy: 0.9861 - val_loss: 2.2629 - val_accuracy: 0.6625\n",
      "Epoch 4/15\n",
      "7936/7936 - 2s - loss: 0.0411 - accuracy: 0.9870 - val_loss: 1.8421 - val_accuracy: 0.6680\n",
      "Epoch 5/15\n",
      "INFO:tensorflow:Assets written to: C:/Users/dsh/Desktop/Papers/paper3/fish - Copy/model2_4\\assets\n",
      "7936/7936 - 4s - loss: 0.0473 - accuracy: 0.9859 - val_loss: 1.7621 - val_accuracy: 0.6836\n",
      "Epoch 6/15\n",
      "7936/7936 - 2s - loss: 0.0477 - accuracy: 0.9839 - val_loss: 2.2393 - val_accuracy: 0.6217\n",
      "Epoch 7/15\n",
      "INFO:tensorflow:Assets written to: C:/Users/dsh/Desktop/Papers/paper3/fish - Copy/model2_4\\assets\n",
      "7936/7936 - 3s - loss: 0.0592 - accuracy: 0.9824 - val_loss: 2.0268 - val_accuracy: 0.6907\n",
      "Epoch 8/15\n",
      "7936/7936 - 2s - loss: 0.0244 - accuracy: 0.9916 - val_loss: 2.1903 - val_accuracy: 0.6725\n",
      "Epoch 9/15\n",
      "7936/7936 - 2s - loss: 0.0450 - accuracy: 0.9853 - val_loss: 2.9112 - val_accuracy: 0.6106\n",
      "Epoch 10/15\n",
      "7936/7936 - 2s - loss: 0.0391 - accuracy: 0.9882 - val_loss: 2.1873 - val_accuracy: 0.6720\n",
      "Epoch 11/15\n",
      "7936/7936 - 2s - loss: 0.0379 - accuracy: 0.9878 - val_loss: 2.3524 - val_accuracy: 0.6680\n",
      "Epoch 12/15\n",
      "7936/7936 - 2s - loss: 0.0306 - accuracy: 0.9904 - val_loss: 2.1508 - val_accuracy: 0.6841\n",
      "Epoch 13/15\n",
      "7936/7936 - 1s - loss: 0.0232 - accuracy: 0.9922 - val_loss: 2.2441 - val_accuracy: 0.6720\n",
      "Epoch 14/15\n",
      "7936/7936 - 2s - loss: 0.0501 - accuracy: 0.9855 - val_loss: 2.7642 - val_accuracy: 0.6584\n",
      "Epoch 15/15\n",
      "7936/7936 - 2s - loss: 0.0369 - accuracy: 0.9874 - val_loss: 2.4233 - val_accuracy: 0.6746\n"
     ]
    }
   ],
   "source": [
    "model2_4=load_model('model2_3.h5')\n",
    "\n",
    "model_checkpoint_callback2_4 = tf.keras.callbacks.ModelCheckpoint(\n",
    "    filepath=\"C:/Users/dsh/Desktop/Papers/paper3/fish - Copy/model2_4\",\n",
    "    save_weights_only=False,\n",
    "    monitor='val_accuracy',\n",
    "    mode='max',\n",
    "    save_best_only=True)\n",
    "\n",
    "history2_4 = model2_4.fit(input_train[:,:,:,1], target_train,\n",
    "            batch_size=16,\n",
    "            epochs=15,\n",
    "            verbose=2,\n",
    "            validation_split=validation_split, \n",
    "                         callbacks=[model_checkpoint_callback2_4])\n",
    "model2_4.save('model2_4.h5')\n",
    "\n",
    "\n",
    "model2_4_max=load_model(\"C:/Users/dsh/Desktop/Papers/paper3/fish - Copy/model2_4\")\n",
    "pred2_4=model2_4_max.predict(input_test[:,:,:,1])"
   ]
  },
  {
   "cell_type": "code",
   "execution_count": 89,
   "metadata": {},
   "outputs": [
    {
     "name": "stdout",
     "output_type": "stream",
     "text": [
      "0.6633333333333333\n"
     ]
    }
   ],
   "source": [
    "accuracy_from_test(pred2_4, target_test)"
   ]
  },
  {
   "cell_type": "code",
   "execution_count": 90,
   "metadata": {
    "scrolled": true
   },
   "outputs": [
    {
     "name": "stdout",
     "output_type": "stream",
     "text": [
      "Train on 7936 samples, validate on 1985 samples\n",
      "Epoch 1/20\n",
      "INFO:tensorflow:Assets written to: C:/Users/dsh/Desktop/Papers/paper3/fish - Copy/model2_5\\assets\n",
      "7936/7936 - 4s - loss: 0.0260 - accuracy: 0.9905 - val_loss: 2.2344 - val_accuracy: 0.6861\n",
      "Epoch 2/20\n",
      "7936/7936 - 2s - loss: 0.0223 - accuracy: 0.9919 - val_loss: 2.8000 - val_accuracy: 0.6378\n",
      "Epoch 3/20\n",
      "7936/7936 - 2s - loss: 0.0164 - accuracy: 0.9936 - val_loss: 2.7683 - val_accuracy: 0.6655\n",
      "Epoch 4/20\n",
      "7936/7936 - 2s - loss: 0.0411 - accuracy: 0.9883 - val_loss: 2.3173 - val_accuracy: 0.6746\n",
      "Epoch 5/20\n",
      "7936/7936 - 2s - loss: 0.0360 - accuracy: 0.9888 - val_loss: 2.1960 - val_accuracy: 0.6741\n",
      "Epoch 6/20\n",
      "7936/7936 - 2s - loss: 0.0194 - accuracy: 0.9934 - val_loss: 2.3694 - val_accuracy: 0.6635\n",
      "Epoch 7/20\n",
      "7936/7936 - 2s - loss: 0.0184 - accuracy: 0.9940 - val_loss: 2.9401 - val_accuracy: 0.6680\n",
      "Epoch 8/20\n",
      "7936/7936 - 2s - loss: 0.0305 - accuracy: 0.9903 - val_loss: 2.6573 - val_accuracy: 0.6741\n",
      "Epoch 9/20\n",
      "7936/7936 - 1s - loss: 0.0263 - accuracy: 0.9921 - val_loss: 2.4879 - val_accuracy: 0.6690\n",
      "Epoch 10/20\n",
      "7936/7936 - 2s - loss: 0.0319 - accuracy: 0.9905 - val_loss: 2.5444 - val_accuracy: 0.6791\n",
      "Epoch 11/20\n",
      "7936/7936 - 2s - loss: 0.0218 - accuracy: 0.9937 - val_loss: 2.4679 - val_accuracy: 0.6705\n",
      "Epoch 12/20\n",
      "7936/7936 - 2s - loss: 0.0112 - accuracy: 0.9958 - val_loss: 2.6495 - val_accuracy: 0.6605\n",
      "Epoch 13/20\n",
      "7936/7936 - 2s - loss: 0.0131 - accuracy: 0.9955 - val_loss: 2.6959 - val_accuracy: 0.6786\n",
      "Epoch 14/20\n",
      "7936/7936 - 2s - loss: 0.0343 - accuracy: 0.9898 - val_loss: 3.4395 - val_accuracy: 0.6252\n",
      "Epoch 15/20\n",
      "7936/7936 - 2s - loss: 0.0321 - accuracy: 0.9897 - val_loss: 2.8061 - val_accuracy: 0.6771\n",
      "Epoch 16/20\n",
      "7936/7936 - 2s - loss: 0.0242 - accuracy: 0.9912 - val_loss: 2.5489 - val_accuracy: 0.6806\n",
      "Epoch 17/20\n",
      "7936/7936 - 2s - loss: 0.0179 - accuracy: 0.9934 - val_loss: 2.3385 - val_accuracy: 0.6121\n",
      "Epoch 18/20\n",
      "7936/7936 - 2s - loss: 0.0279 - accuracy: 0.9914 - val_loss: 2.8973 - val_accuracy: 0.6559\n",
      "Epoch 19/20\n",
      "7936/7936 - 1s - loss: 0.0197 - accuracy: 0.9941 - val_loss: 2.4973 - val_accuracy: 0.6776\n",
      "Epoch 20/20\n",
      "7936/7936 - 2s - loss: 0.0122 - accuracy: 0.9960 - val_loss: 2.4922 - val_accuracy: 0.6665\n"
     ]
    }
   ],
   "source": [
    "model2_5=load_model('model2_4.h5')\n",
    "\n",
    "model_checkpoint_callback2_5 = tf.keras.callbacks.ModelCheckpoint(\n",
    "    filepath=\"C:/Users/dsh/Desktop/Papers/paper3/fish - Copy/model2_5\",\n",
    "    save_weights_only=False,\n",
    "    monitor='val_accuracy',\n",
    "    mode='max',\n",
    "    save_best_only=True)\n",
    "\n",
    "history2_5 = model2_5.fit(input_train[:,:,:,1], target_train,\n",
    "            batch_size=16,\n",
    "            epochs=20,\n",
    "            verbose=2,\n",
    "            validation_split=validation_split,\n",
    "                         callbacks=[model_checkpoint_callback2_5])\n",
    "model2_5.save('model2_5.h5')\n",
    "\n",
    "model2_5_max=load_model(\"C:/Users/dsh/Desktop/Papers/paper3/fish - Copy/model2_5\")\n",
    "pred2_5=model2_5_max.predict(input_test[:,:,:,1])"
   ]
  },
  {
   "cell_type": "code",
   "execution_count": 91,
   "metadata": {},
   "outputs": [
    {
     "name": "stdout",
     "output_type": "stream",
     "text": [
      "0.6813333333333333\n"
     ]
    }
   ],
   "source": [
    "accuracy_from_test(pred2_5, target_test)"
   ]
  },
  {
   "cell_type": "code",
   "execution_count": 29,
   "metadata": {},
   "outputs": [
    {
     "name": "stdout",
     "output_type": "stream",
     "text": [
      "WARNING:tensorflow:SavedModel saved prior to TF 2.5 detected when loading Keras model. Please ensure that you are saving the model with model.save() or tf.keras.models.save_model(), *NOT* tf.saved_model.save(). To confirm, there should be a file named \"keras_metadata.pb\" in the SavedModel directory.\n",
      "47/47 [==============================] - 1s 10ms/step\n",
      "WARNING:tensorflow:SavedModel saved prior to TF 2.5 detected when loading Keras model. Please ensure that you are saving the model with model.save() or tf.keras.models.save_model(), *NOT* tf.saved_model.save(). To confirm, there should be a file named \"keras_metadata.pb\" in the SavedModel directory.\n",
      "47/47 [==============================] - 0s 2ms/step\n",
      "WARNING:tensorflow:SavedModel saved prior to TF 2.5 detected when loading Keras model. Please ensure that you are saving the model with model.save() or tf.keras.models.save_model(), *NOT* tf.saved_model.save(). To confirm, there should be a file named \"keras_metadata.pb\" in the SavedModel directory.\n",
      "47/47 [==============================] - 0s 1ms/step\n",
      "WARNING:tensorflow:SavedModel saved prior to TF 2.5 detected when loading Keras model. Please ensure that you are saving the model with model.save() or tf.keras.models.save_model(), *NOT* tf.saved_model.save(). To confirm, there should be a file named \"keras_metadata.pb\" in the SavedModel directory.\n",
      "47/47 [==============================] - 0s 7ms/step\n",
      "WARNING:tensorflow:SavedModel saved prior to TF 2.5 detected when loading Keras model. Please ensure that you are saving the model with model.save() or tf.keras.models.save_model(), *NOT* tf.saved_model.save(). To confirm, there should be a file named \"keras_metadata.pb\" in the SavedModel directory.\n",
      "47/47 [==============================] - 0s 1ms/step\n"
     ]
    }
   ],
   "source": [
    "model2_1_max=load_model(\"D:/Users/dsh/Desktop/desktop/Papers/paper3/bee_wasp/model2_1\")\n",
    "pred2_1=model2_1_max.predict(input_test[:,:,:,1])\n",
    "\n",
    "model2_2_max=load_model(\"D:/Users/dsh/Desktop/desktop/Papers/paper3/bee_wasp/model2_2\")\n",
    "pred2_2=model2_2_max.predict(input_test[:,:,:,1])\n",
    "\n",
    "model2_3_max=load_model(\"D:/Users/dsh/Desktop/desktop/Papers/paper3/bee_wasp/model2_3\")\n",
    "pred2_3=model2_3_max.predict(input_test[:,:,:,1])\n",
    "\n",
    "model2_4_max=load_model(\"D:/Users/dsh/Desktop/desktop/Papers/paper3/bee_wasp/model2_4\")\n",
    "pred2_4=model2_4_max.predict(input_test[:,:,:,1])\n",
    "\n",
    "model2_5_max=load_model(\"D:/Users/dsh/Desktop/desktop/Papers/paper3/bee_wasp/model2_5\")\n",
    "pred2_5=model2_5_max.predict(input_test[:,:,:,1])"
   ]
  },
  {
   "cell_type": "code",
   "execution_count": 33,
   "metadata": {},
   "outputs": [
    {
     "name": "stdout",
     "output_type": "stream",
     "text": [
      "0.704\n"
     ]
    }
   ],
   "source": [
    "accuracy_from_test(pred2_1, target_test)"
   ]
  },
  {
   "cell_type": "code",
   "execution_count": 34,
   "metadata": {},
   "outputs": [
    {
     "name": "stdout",
     "output_type": "stream",
     "text": [
      "0.704\n"
     ]
    }
   ],
   "source": [
    "accuracy_from_test(pred2_1, target_test)"
   ]
  },
  {
   "cell_type": "code",
   "execution_count": 35,
   "metadata": {},
   "outputs": [
    {
     "name": "stdout",
     "output_type": "stream",
     "text": [
      "0.884\n"
     ]
    }
   ],
   "source": [
    "accuracy_from_test(pred2_3, target_test)"
   ]
  },
  {
   "cell_type": "code",
   "execution_count": 36,
   "metadata": {},
   "outputs": [
    {
     "name": "stdout",
     "output_type": "stream",
     "text": [
      "0.898\n"
     ]
    }
   ],
   "source": [
    "accuracy_from_test(pred2_4, target_test)"
   ]
  },
  {
   "cell_type": "code",
   "execution_count": 37,
   "metadata": {},
   "outputs": [
    {
     "name": "stdout",
     "output_type": "stream",
     "text": [
      "0.8966666666666666\n"
     ]
    }
   ],
   "source": [
    "accuracy_from_test(pred2_5, target_test)"
   ]
  },
  {
   "cell_type": "code",
   "execution_count": 30,
   "metadata": {},
   "outputs": [],
   "source": [
    "b=pred2_3+pred2_4+pred2_5+pred2_1"
   ]
  },
  {
   "cell_type": "code",
   "execution_count": 39,
   "metadata": {},
   "outputs": [
    {
     "name": "stdout",
     "output_type": "stream",
     "text": [
      "0.912\n"
     ]
    }
   ],
   "source": [
    "accuracy_from_test(b, target_test)"
   ]
  },
  {
   "cell_type": "code",
   "execution_count": 100,
   "metadata": {},
   "outputs": [
    {
     "data": {
      "text/plain": [
       "[1.2588477794441484,\n",
       " 0.9516338924727132,\n",
       " 0.864822854678477,\n",
       " 0.7932819376188901,\n",
       " 0.7401633486151695]"
      ]
     },
     "execution_count": 100,
     "metadata": {},
     "output_type": "execute_result"
    }
   ],
   "source": [
    "history2_1.history['loss']"
   ]
  },
  {
   "cell_type": "code",
   "execution_count": 101,
   "metadata": {},
   "outputs": [
    {
     "data": {
      "text/plain": [
       "[1.1726310442316743,\n",
       " 0.9624870487064198,\n",
       " 1.1312051008570405,\n",
       " 0.9623424177506108,\n",
       " 0.8159310600356732]"
      ]
     },
     "execution_count": 101,
     "metadata": {},
     "output_type": "execute_result"
    }
   ],
   "source": [
    "history2_1.history['val_loss']"
   ]
  },
  {
   "cell_type": "code",
   "execution_count": 102,
   "metadata": {},
   "outputs": [
    {
     "data": {
      "text/plain": [
       "[0.7041481462337317,\n",
       " 0.6136284796821494,\n",
       " 0.5284789586740155,\n",
       " 0.42765162930253053,\n",
       " 0.3087765516322707]"
      ]
     },
     "execution_count": 102,
     "metadata": {},
     "output_type": "execute_result"
    }
   ],
   "source": [
    "history2_2.history['loss']"
   ]
  },
  {
   "cell_type": "code",
   "execution_count": 103,
   "metadata": {},
   "outputs": [
    {
     "data": {
      "text/plain": [
       "[1.016058882162613,\n",
       " 0.8703383266174867,\n",
       " 0.8642573979547158,\n",
       " 1.1202398969183005,\n",
       " 1.3948040387614322]"
      ]
     },
     "execution_count": 103,
     "metadata": {},
     "output_type": "execute_result"
    }
   ],
   "source": [
    "history2_2.history['val_loss']"
   ]
  },
  {
   "cell_type": "code",
   "execution_count": 104,
   "metadata": {},
   "outputs": [
    {
     "data": {
      "text/plain": [
       "[0.23014755823439167,\n",
       " 0.16250023625663393,\n",
       " 0.11372706612605872,\n",
       " 0.11603839894016874,\n",
       " 0.07673708204275763,\n",
       " 0.09948473524086547,\n",
       " 0.06749580650378653,\n",
       " 0.07543121454158784,\n",
       " 0.058436545706670937,\n",
       " 0.05633144959722725]"
      ]
     },
     "execution_count": 104,
     "metadata": {},
     "output_type": "execute_result"
    }
   ],
   "source": [
    "history2_3.history['loss']"
   ]
  },
  {
   "cell_type": "code",
   "execution_count": 105,
   "metadata": {},
   "outputs": [
    {
     "data": {
      "text/plain": [
       "[1.0870592265140022,\n",
       " 1.3248061024572146,\n",
       " 1.211108984441968,\n",
       " 1.3817692114664266,\n",
       " 1.6697289118234617,\n",
       " 1.5393009588158912,\n",
       " 2.0730020800825932,\n",
       " 1.7007677357713926,\n",
       " 1.8478211476910924,\n",
       " 1.8278968133013556]"
      ]
     },
     "execution_count": 105,
     "metadata": {},
     "output_type": "execute_result"
    }
   ],
   "source": [
    "history2_3.history['val_loss']"
   ]
  },
  {
   "cell_type": "code",
   "execution_count": 106,
   "metadata": {},
   "outputs": [
    {
     "data": {
      "text/plain": [
       "[0.0423506593457909,\n",
       " 0.05259070310685568,\n",
       " 0.045637633085173164,\n",
       " 0.04106194231487661,\n",
       " 0.04726190721324993,\n",
       " 0.047703235409486414,\n",
       " 0.05920160026252849,\n",
       " 0.024359321933154147,\n",
       " 0.045020744241032994,\n",
       " 0.03909886116460462,\n",
       " 0.03788964005314615,\n",
       " 0.030578408410492336,\n",
       " 0.023198496142171163,\n",
       " 0.0500794402478204,\n",
       " 0.03691535367268502]"
      ]
     },
     "execution_count": 106,
     "metadata": {},
     "output_type": "execute_result"
    }
   ],
   "source": [
    "history2_4.history['loss']"
   ]
  },
  {
   "cell_type": "code",
   "execution_count": 107,
   "metadata": {},
   "outputs": [
    {
     "data": {
      "text/plain": [
       "[1.8177729011407728,\n",
       " 2.59810117726362,\n",
       " 2.26291754696171,\n",
       " 1.842133367451916,\n",
       " 1.7621400441570907,\n",
       " 2.2392950634511952,\n",
       " 2.0268186122404237,\n",
       " 2.1903143986046163,\n",
       " 2.9111803693795384,\n",
       " 2.1872565396186388,\n",
       " 2.3524182330451024,\n",
       " 2.1507868377627894,\n",
       " 2.244097616150037,\n",
       " 2.7641659825514786,\n",
       " 2.42330008102229]"
      ]
     },
     "execution_count": 107,
     "metadata": {},
     "output_type": "execute_result"
    }
   ],
   "source": [
    "history2_4.history['val_loss']"
   ]
  },
  {
   "cell_type": "code",
   "execution_count": 108,
   "metadata": {},
   "outputs": [
    {
     "data": {
      "text/plain": [
       "[0.026034720611399338,\n",
       " 0.02226892339862179,\n",
       " 0.016392306619309696,\n",
       " 0.041085349400426886,\n",
       " 0.035978230570890446,\n",
       " 0.019405348207393737,\n",
       " 0.01837072574779645,\n",
       " 0.030515476196059592,\n",
       " 0.02632997758578606,\n",
       " 0.03188967517512574,\n",
       " 0.021799674474249835,\n",
       " 0.011176789477059952,\n",
       " 0.013079207867273413,\n",
       " 0.03433789247411954,\n",
       " 0.032084743366672844,\n",
       " 0.024168578185339816,\n",
       " 0.01787567643968428,\n",
       " 0.027933958919458834,\n",
       " 0.01966820305555515,\n",
       " 0.012215621765055895]"
      ]
     },
     "execution_count": 108,
     "metadata": {},
     "output_type": "execute_result"
    }
   ],
   "source": [
    "history2_5.history['loss']"
   ]
  },
  {
   "cell_type": "code",
   "execution_count": 109,
   "metadata": {},
   "outputs": [
    {
     "data": {
      "text/plain": [
       "[2.2343852111014053,\n",
       " 2.7999889962318862,\n",
       " 2.768339681745476,\n",
       " 2.3173099976642906,\n",
       " 2.196008684473014,\n",
       " 2.3693886812354066,\n",
       " 2.94006490250979,\n",
       " 2.6572990909931944,\n",
       " 2.4878995784283884,\n",
       " 2.5444256428432106,\n",
       " 2.4679470344477097,\n",
       " 2.6494791371395965,\n",
       " 2.695904032469396,\n",
       " 3.439530776429837,\n",
       " 2.806063319292267,\n",
       " 2.5488627734052143,\n",
       " 2.338513022165755,\n",
       " 2.8972950017722487,\n",
       " 2.497322595149504,\n",
       " 2.492216861353113]"
      ]
     },
     "execution_count": 109,
     "metadata": {},
     "output_type": "execute_result"
    }
   ],
   "source": [
    "history2_5.history['val_loss']"
   ]
  },
  {
   "cell_type": "code",
   "execution_count": 110,
   "metadata": {},
   "outputs": [
    {
     "data": {
      "text/plain": [
       "[0.4923135, 0.5558216, 0.610131, 0.6504536, 0.67729336]"
      ]
     },
     "execution_count": 110,
     "metadata": {},
     "output_type": "execute_result"
    }
   ],
   "source": [
    "history2_1.history['accuracy']"
   ]
  },
  {
   "cell_type": "code",
   "execution_count": 111,
   "metadata": {},
   "outputs": [
    {
     "data": {
      "text/plain": [
       "[0.49622166, 0.56221664, 0.4191436, 0.5753149, 0.63979846]"
      ]
     },
     "execution_count": 111,
     "metadata": {},
     "output_type": "execute_result"
    }
   ],
   "source": [
    "history2_1.history['val_accuracy']"
   ]
  },
  {
   "cell_type": "code",
   "execution_count": 112,
   "metadata": {},
   "outputs": [
    {
     "data": {
      "text/plain": [
       "[0.70022684, 0.74609375, 0.78629035, 0.8262349, 0.87878025]"
      ]
     },
     "execution_count": 112,
     "metadata": {},
     "output_type": "execute_result"
    }
   ],
   "source": [
    "history2_2.history['accuracy']"
   ]
  },
  {
   "cell_type": "code",
   "execution_count": 113,
   "metadata": {},
   "outputs": [
    {
     "data": {
      "text/plain": [
       "[0.59748113, 0.66549116, 0.640806, 0.6322418, 0.64433247]"
      ]
     },
     "execution_count": 113,
     "metadata": {},
     "output_type": "execute_result"
    }
   ],
   "source": [
    "history2_2.history['val_accuracy']"
   ]
  },
  {
   "cell_type": "code",
   "execution_count": 114,
   "metadata": {},
   "outputs": [
    {
     "data": {
      "text/plain": [
       "[0.9144405,\n",
       " 0.94241434,\n",
       " 0.9595514,\n",
       " 0.9609375,\n",
       " 0.97391635,\n",
       " 0.96496975,\n",
       " 0.9764365,\n",
       " 0.9749244,\n",
       " 0.97946066,\n",
       " 0.98072076]"
      ]
     },
     "execution_count": 114,
     "metadata": {},
     "output_type": "execute_result"
    }
   ],
   "source": [
    "history2_3.history['accuracy']"
   ]
  },
  {
   "cell_type": "code",
   "execution_count": 115,
   "metadata": {},
   "outputs": [
    {
     "data": {
      "text/plain": [
       "[0.6649874,\n",
       " 0.6735516,\n",
       " 0.6790932,\n",
       " 0.69168764,\n",
       " 0.64282113,\n",
       " 0.64987403,\n",
       " 0.63324934,\n",
       " 0.62065494,\n",
       " 0.6765743,\n",
       " 0.6861461]"
      ]
     },
     "execution_count": 115,
     "metadata": {},
     "output_type": "execute_result"
    }
   ],
   "source": [
    "history2_3.history['val_accuracy']"
   ]
  },
  {
   "cell_type": "code",
   "execution_count": 116,
   "metadata": {},
   "outputs": [
    {
     "data": {
      "text/plain": [
       "[0.98664314,\n",
       " 0.9831149,\n",
       " 0.9861391,\n",
       " 0.98702115,\n",
       " 0.9858871,\n",
       " 0.983871,\n",
       " 0.9823589,\n",
       " 0.9915575,\n",
       " 0.985257,\n",
       " 0.98815525,\n",
       " 0.98777723,\n",
       " 0.9904234,\n",
       " 0.9921875,\n",
       " 0.9855091,\n",
       " 0.9873992]"
      ]
     },
     "execution_count": 116,
     "metadata": {},
     "output_type": "execute_result"
    }
   ],
   "source": [
    "history2_4.history['accuracy']"
   ]
  },
  {
   "cell_type": "code",
   "execution_count": 117,
   "metadata": {},
   "outputs": [
    {
     "data": {
      "text/plain": [
       "[0.6780856,\n",
       " 0.64433247,\n",
       " 0.6624685,\n",
       " 0.66801006,\n",
       " 0.6836272,\n",
       " 0.6216625,\n",
       " 0.6906801,\n",
       " 0.67254406,\n",
       " 0.6105794,\n",
       " 0.6720403,\n",
       " 0.66801006,\n",
       " 0.68413097,\n",
       " 0.6720403,\n",
       " 0.65843827,\n",
       " 0.6745592]"
      ]
     },
     "execution_count": 117,
     "metadata": {},
     "output_type": "execute_result"
    }
   ],
   "source": [
    "history2_4.history['val_accuracy']"
   ]
  },
  {
   "cell_type": "code",
   "execution_count": 118,
   "metadata": {},
   "outputs": [
    {
     "data": {
      "text/plain": [
       "[0.9905494,\n",
       " 0.9919355,\n",
       " 0.9935736,\n",
       " 0.98828125,\n",
       " 0.98878527,\n",
       " 0.9934476,\n",
       " 0.9939516,\n",
       " 0.9902974,\n",
       " 0.9920615,\n",
       " 0.9905494,\n",
       " 0.9936996,\n",
       " 0.99584174,\n",
       " 0.9954637,\n",
       " 0.98979336,\n",
       " 0.98966736,\n",
       " 0.9911794,\n",
       " 0.9934476,\n",
       " 0.9914315,\n",
       " 0.9940776,\n",
       " 0.99596775]"
      ]
     },
     "execution_count": 118,
     "metadata": {},
     "output_type": "execute_result"
    }
   ],
   "source": [
    "history2_5.history['accuracy']"
   ]
  },
  {
   "cell_type": "code",
   "execution_count": 119,
   "metadata": {},
   "outputs": [
    {
     "data": {
      "text/plain": [
       "[0.6861461,\n",
       " 0.63778335,\n",
       " 0.66549116,\n",
       " 0.6745592,\n",
       " 0.6740554,\n",
       " 0.66347605,\n",
       " 0.66801006,\n",
       " 0.6740554,\n",
       " 0.6690176,\n",
       " 0.6790932,\n",
       " 0.67052895,\n",
       " 0.6604534,\n",
       " 0.6785894,\n",
       " 0.6251889,\n",
       " 0.67707807,\n",
       " 0.6806045,\n",
       " 0.6120907,\n",
       " 0.6559194,\n",
       " 0.67758185,\n",
       " 0.6664987]"
      ]
     },
     "execution_count": 119,
     "metadata": {},
     "output_type": "execute_result"
    }
   ],
   "source": [
    "history2_5.history['val_accuracy']"
   ]
  },
  {
   "cell_type": "code",
   "execution_count": null,
   "metadata": {},
   "outputs": [],
   "source": []
  },
  {
   "cell_type": "markdown",
   "metadata": {},
   "source": [
    "#############################Channel3#######################################"
   ]
  },
  {
   "cell_type": "code",
   "execution_count": 120,
   "metadata": {},
   "outputs": [],
   "source": [
    "tf.random.set_seed(25)\n",
    "\n",
    "model3 = Sequential()\n",
    "model3.add(Reshape((img_width, img_height,1), input_shape=(img_width, img_height)))\n",
    "model3.add(Conv2D(32, kernel_size=(3, 3), activation='relu'))\n",
    "model3.add(BatchNormalization())\n",
    "model3.add(MaxPooling2D(pool_size=(2, 2)))\n",
    "model3.add(Conv2D(64, kernel_size=(3, 3), activation='relu'))\n",
    "model3.add(BatchNormalization())\n",
    "model3.add(MaxPooling2D(pool_size=(2, 2)))\n",
    "model3.add(Conv2D(128, kernel_size=(3, 3), activation='relu'))\n",
    "model3.add(BatchNormalization())\n",
    "model3.add(MaxPooling2D(pool_size=(2, 2)))\n",
    "model3.add(Flatten())\n",
    "model3.add(Dense(256, activation='relu'))\n",
    "model3.add(Dense(128, activation='relu'))\n",
    "model3.add(Dense(no_classes, activation='softmax'))"
   ]
  },
  {
   "cell_type": "code",
   "execution_count": 121,
   "metadata": {},
   "outputs": [],
   "source": [
    "model3.compile(loss=loss_function,\n",
    "              optimizer=optimizer,\n",
    "              metrics=['accuracy'])"
   ]
  },
  {
   "cell_type": "code",
   "execution_count": 122,
   "metadata": {},
   "outputs": [
    {
     "name": "stdout",
     "output_type": "stream",
     "text": [
      "Train on 7936 samples, validate on 1985 samples\n",
      "Epoch 1/5\n",
      "INFO:tensorflow:Assets written to: C:/Users/dsh/Desktop/Papers/paper3/fish - Copy/model3_1\\assets\n",
      "7936/7936 - 4s - loss: 1.1892 - accuracy: 0.5479 - val_loss: 1.3262 - val_accuracy: 0.4977\n",
      "Epoch 2/5\n",
      "INFO:tensorflow:Assets written to: C:/Users/dsh/Desktop/Papers/paper3/fish - Copy/model3_1\\assets\n",
      "7936/7936 - 3s - loss: 0.8745 - accuracy: 0.6155 - val_loss: 0.9879 - val_accuracy: 0.5955\n",
      "Epoch 3/5\n",
      "INFO:tensorflow:Assets written to: C:/Users/dsh/Desktop/Papers/paper3/fish - Copy/model3_1\\assets\n",
      "7936/7936 - 4s - loss: 0.8146 - accuracy: 0.6420 - val_loss: 0.8392 - val_accuracy: 0.6519\n",
      "Epoch 4/5\n",
      "7936/7936 - 2s - loss: 0.7571 - accuracy: 0.6709 - val_loss: 0.9539 - val_accuracy: 0.5874\n",
      "Epoch 5/5\n",
      "7936/7936 - 2s - loss: 0.7005 - accuracy: 0.7070 - val_loss: 0.8496 - val_accuracy: 0.6463\n"
     ]
    }
   ],
   "source": [
    "model_checkpoint_callback3_1 = tf.keras.callbacks.ModelCheckpoint(\n",
    "    filepath=\"C:/Users/dsh/Desktop/Papers/paper3/fish - Copy/model3_1\",\n",
    "    save_weights_only=False,\n",
    "    monitor='val_accuracy',\n",
    "    mode='max',\n",
    "    save_best_only=True)\n",
    "\n",
    "\n",
    "\n",
    "history3_1 = model3.fit(input_train[:,:,:,2], target_train,\n",
    "            batch_size=16,\n",
    "            epochs=5,\n",
    "            verbose=verbosity,\n",
    "            validation_split=validation_split,\n",
    "                       callbacks=[model_checkpoint_callback3_1])\n",
    "\n",
    "\n",
    "save_model(model3,'model3_1.h5')\n",
    "\n",
    "model3_1_max=load_model(\"C:/Users/dsh/Desktop/Papers/paper3/fish - Copy/model3_1\")\n",
    "pred3_1=model3_1_max.predict(input_test[:,:,:,2])"
   ]
  },
  {
   "cell_type": "code",
   "execution_count": 123,
   "metadata": {},
   "outputs": [
    {
     "name": "stdout",
     "output_type": "stream",
     "text": [
      "0.6293333333333333\n"
     ]
    }
   ],
   "source": [
    "accuracy_from_test(pred3_1, target_test )"
   ]
  },
  {
   "cell_type": "code",
   "execution_count": 124,
   "metadata": {
    "scrolled": true
   },
   "outputs": [
    {
     "name": "stdout",
     "output_type": "stream",
     "text": [
      "WARNING:tensorflow:Error in loading the saved optimizer state. As a result, your model is starting with a freshly initialized optimizer.\n",
      "Train on 7936 samples, validate on 1985 samples\n",
      "Epoch 1/5\n",
      "INFO:tensorflow:Assets written to: C:/Users/dsh/Desktop/Papers/paper3/fish - Copy/model3_2\\assets\n",
      "7936/7936 - 4s - loss: 0.6367 - accuracy: 0.7329 - val_loss: 0.9633 - val_accuracy: 0.6388\n",
      "Epoch 2/5\n",
      "INFO:tensorflow:Assets written to: C:/Users/dsh/Desktop/Papers/paper3/fish - Copy/model3_2\\assets\n",
      "7936/7936 - 3s - loss: 0.5346 - accuracy: 0.7799 - val_loss: 0.9531 - val_accuracy: 0.6680\n",
      "Epoch 3/5\n",
      "7936/7936 - 2s - loss: 0.4373 - accuracy: 0.8240 - val_loss: 1.4775 - val_accuracy: 0.5844\n",
      "Epoch 4/5\n",
      "INFO:tensorflow:Assets written to: C:/Users/dsh/Desktop/Papers/paper3/fish - Copy/model3_2\\assets\n",
      "7936/7936 - 3s - loss: 0.3071 - accuracy: 0.8824 - val_loss: 1.1841 - val_accuracy: 0.6730\n",
      "Epoch 5/5\n",
      "7936/7936 - 2s - loss: 0.2325 - accuracy: 0.9148 - val_loss: 3.4590 - val_accuracy: 0.5013\n"
     ]
    }
   ],
   "source": [
    "model3_2=load_model('model3_1.h5')\n",
    "\n",
    "model_checkpoint_callback3_2 = tf.keras.callbacks.ModelCheckpoint(\n",
    "    filepath=\"C:/Users/dsh/Desktop/Papers/paper3/fish - Copy/model3_2\",\n",
    "    save_weights_only=False,\n",
    "    monitor='val_accuracy',\n",
    "    mode='max',\n",
    "    save_best_only=True)\n",
    "\n",
    "\n",
    "history3=model3_2.fit(input_train[:,:,:,2], target_train,\n",
    "            batch_size=16,\n",
    "            epochs=5,\n",
    "            verbose=2,\n",
    "            validation_split=validation_split,\n",
    "                callbacks=[model_checkpoint_callback3_2]  )\n",
    "\n",
    "model3_2.save('model3_2.h5')\n",
    "model3_2_max=load_model(\"C:/Users/dsh/Desktop/Papers/paper3/fish - Copy/model3_2\")\n",
    "pred3_2=model3_2_max.predict(input_test[:,:,:,2])"
   ]
  },
  {
   "cell_type": "code",
   "execution_count": 125,
   "metadata": {},
   "outputs": [
    {
     "name": "stdout",
     "output_type": "stream",
     "text": [
      "0.6453333333333333\n"
     ]
    }
   ],
   "source": [
    "accuracy_from_test(pred3_2, target_test)"
   ]
  },
  {
   "cell_type": "code",
   "execution_count": 126,
   "metadata": {},
   "outputs": [
    {
     "name": "stdout",
     "output_type": "stream",
     "text": [
      "Train on 7936 samples, validate on 1985 samples\n",
      "Epoch 1/10\n",
      "INFO:tensorflow:Assets written to: C:/Users/dsh/Desktop/Papers/paper3/fish - Copy/model3_3\\assets\n",
      "7936/7936 - 3s - loss: 0.1619 - accuracy: 0.9429 - val_loss: 1.6464 - val_accuracy: 0.6448\n",
      "Epoch 2/10\n",
      "INFO:tensorflow:Assets written to: C:/Users/dsh/Desktop/Papers/paper3/fish - Copy/model3_3\\assets\n",
      "7936/7936 - 4s - loss: 0.1425 - accuracy: 0.9495 - val_loss: 1.6572 - val_accuracy: 0.6529\n",
      "Epoch 3/10\n",
      "7936/7936 - 2s - loss: 0.0939 - accuracy: 0.9689 - val_loss: 1.9059 - val_accuracy: 0.6358\n",
      "Epoch 4/10\n",
      "7936/7936 - 1s - loss: 0.0823 - accuracy: 0.9722 - val_loss: 1.8774 - val_accuracy: 0.6519\n",
      "Epoch 5/10\n",
      "INFO:tensorflow:Assets written to: C:/Users/dsh/Desktop/Papers/paper3/fish - Copy/model3_3\\assets\n",
      "7936/7936 - 3s - loss: 0.0768 - accuracy: 0.9756 - val_loss: 1.6882 - val_accuracy: 0.6574\n",
      "Epoch 6/10\n",
      "7936/7936 - 2s - loss: 0.0776 - accuracy: 0.9727 - val_loss: 4.1012 - val_accuracy: 0.5824\n",
      "Epoch 7/10\n",
      "7936/7936 - 2s - loss: 0.0662 - accuracy: 0.9767 - val_loss: 2.1670 - val_accuracy: 0.6539\n",
      "Epoch 8/10\n",
      "INFO:tensorflow:Assets written to: C:/Users/dsh/Desktop/Papers/paper3/fish - Copy/model3_3\\assets\n",
      "7936/7936 - 3s - loss: 0.0871 - accuracy: 0.9696 - val_loss: 2.0244 - val_accuracy: 0.6579\n",
      "Epoch 9/10\n",
      "7936/7936 - 2s - loss: 0.0599 - accuracy: 0.9802 - val_loss: 1.8737 - val_accuracy: 0.6534\n",
      "Epoch 10/10\n",
      "INFO:tensorflow:Assets written to: C:/Users/dsh/Desktop/Papers/paper3/fish - Copy/model3_3\\assets\n",
      "7936/7936 - 3s - loss: 0.0497 - accuracy: 0.9830 - val_loss: 2.0613 - val_accuracy: 0.6620\n"
     ]
    }
   ],
   "source": [
    "model3_3=load_model('model3_2.h5')\n",
    "\n",
    "model_checkpoint_callback3_3 = tf.keras.callbacks.ModelCheckpoint(\n",
    "    filepath=\"C:/Users/dsh/Desktop/Papers/paper3/fish - Copy/model3_3\",\n",
    "    save_weights_only=False,\n",
    "    monitor='val_accuracy',\n",
    "    mode='max',\n",
    "    save_best_only=True)\n",
    "\n",
    "history3_3 = model3_3.fit(input_train[:,:,:,2], target_train,\n",
    "            batch_size=16,\n",
    "            epochs=10,\n",
    "            verbose=2,\n",
    "            validation_split=validation_split,\n",
    "                         callbacks=[model_checkpoint_callback3_3])\n",
    "model3_3.save('model3_3.h5')\n",
    "\n",
    "model3_3_max=load_model(\"C:/Users/dsh/Desktop/Papers/paper3/fish - Copy/model3_3\")\n",
    "pred3_3=model3_3_max.predict(input_test[:,:,:,2])"
   ]
  },
  {
   "cell_type": "code",
   "execution_count": 127,
   "metadata": {},
   "outputs": [
    {
     "name": "stdout",
     "output_type": "stream",
     "text": [
      "0.626\n"
     ]
    }
   ],
   "source": [
    "accuracy_from_test(pred3_3, target_test)"
   ]
  },
  {
   "cell_type": "code",
   "execution_count": 128,
   "metadata": {
    "scrolled": true
   },
   "outputs": [
    {
     "name": "stdout",
     "output_type": "stream",
     "text": [
      "Train on 7936 samples, validate on 1985 samples\n",
      "Epoch 1/15\n",
      "INFO:tensorflow:Assets written to: C:/Users/dsh/Desktop/Papers/paper3/fish - Copy/model3_4\\assets\n",
      "7936/7936 - 4s - loss: 0.0339 - accuracy: 0.9905 - val_loss: 1.8889 - val_accuracy: 0.6655\n",
      "Epoch 2/15\n",
      "7936/7936 - 2s - loss: 0.0599 - accuracy: 0.9807 - val_loss: 3.7507 - val_accuracy: 0.5718\n",
      "Epoch 3/15\n",
      "7936/7936 - 2s - loss: 0.0515 - accuracy: 0.9849 - val_loss: 2.5197 - val_accuracy: 0.6479\n",
      "Epoch 4/15\n",
      "INFO:tensorflow:Assets written to: C:/Users/dsh/Desktop/Papers/paper3/fish - Copy/model3_4\\assets\n",
      "7936/7936 - 4s - loss: 0.0430 - accuracy: 0.9865 - val_loss: 2.0537 - val_accuracy: 0.6856\n",
      "Epoch 5/15\n",
      "7936/7936 - 2s - loss: 0.0337 - accuracy: 0.9879 - val_loss: 2.5933 - val_accuracy: 0.6534\n",
      "Epoch 6/15\n",
      "7936/7936 - 1s - loss: 0.0513 - accuracy: 0.9822 - val_loss: 2.4220 - val_accuracy: 0.6690\n",
      "Epoch 7/15\n",
      "7936/7936 - 2s - loss: 0.0492 - accuracy: 0.9849 - val_loss: 2.2002 - val_accuracy: 0.6766\n",
      "Epoch 8/15\n",
      "7936/7936 - 2s - loss: 0.0284 - accuracy: 0.9916 - val_loss: 2.1949 - val_accuracy: 0.6756\n",
      "Epoch 9/15\n",
      "7936/7936 - 1s - loss: 0.0249 - accuracy: 0.9911 - val_loss: 2.1874 - val_accuracy: 0.6589\n",
      "Epoch 10/15\n",
      "7936/7936 - 2s - loss: 0.0437 - accuracy: 0.9883 - val_loss: 2.5794 - val_accuracy: 0.6569\n",
      "Epoch 11/15\n",
      "7936/7936 - 2s - loss: 0.0634 - accuracy: 0.9802 - val_loss: 2.9237 - val_accuracy: 0.6433\n",
      "Epoch 12/15\n",
      "7936/7936 - 2s - loss: 0.0430 - accuracy: 0.9869 - val_loss: 2.1816 - val_accuracy: 0.6635\n",
      "Epoch 13/15\n",
      "7936/7936 - 2s - loss: 0.0301 - accuracy: 0.9898 - val_loss: 2.6172 - val_accuracy: 0.6610\n",
      "Epoch 14/15\n",
      "7936/7936 - 2s - loss: 0.0289 - accuracy: 0.9913 - val_loss: 2.1178 - val_accuracy: 0.6806\n",
      "Epoch 15/15\n",
      "7936/7936 - 2s - loss: 0.0241 - accuracy: 0.9918 - val_loss: 2.0240 - val_accuracy: 0.6831\n"
     ]
    }
   ],
   "source": [
    "model3_4=load_model('model3_3.h5')\n",
    "\n",
    "model_checkpoint_callback3_4 = tf.keras.callbacks.ModelCheckpoint(\n",
    "    filepath=\"C:/Users/dsh/Desktop/Papers/paper3/fish - Copy/model3_4\",\n",
    "    save_weights_only=False,\n",
    "    monitor='val_accuracy',\n",
    "    mode='max',\n",
    "    save_best_only=True)\n",
    "\n",
    "history3_4 = model3_4.fit(input_train[:,:,:,2], target_train,\n",
    "            batch_size=16,\n",
    "            epochs=15,\n",
    "            verbose=2,\n",
    "            validation_split=validation_split,\n",
    "                         callbacks=[model_checkpoint_callback3_4])\n",
    "model3_4.save('model3_4.h5')\n",
    "\n",
    "model3_4_max=load_model(\"C:/Users/dsh/Desktop/Papers/paper3/fish - Copy/model3_4\")\n",
    "pred3_4=model3_4_max.predict(input_test[:,:,:,2])"
   ]
  },
  {
   "cell_type": "code",
   "execution_count": 129,
   "metadata": {},
   "outputs": [
    {
     "name": "stdout",
     "output_type": "stream",
     "text": [
      "0.6473333333333333\n"
     ]
    }
   ],
   "source": [
    "accuracy_from_test(pred3_4, target_test)"
   ]
  },
  {
   "cell_type": "code",
   "execution_count": 130,
   "metadata": {},
   "outputs": [
    {
     "name": "stdout",
     "output_type": "stream",
     "text": [
      "Train on 7936 samples, validate on 1985 samples\n",
      "Epoch 1/20\n",
      "INFO:tensorflow:Assets written to: C:/Users/dsh/Desktop/Papers/paper3/fish - Copy/model3_5\\assets\n",
      "7936/7936 - 4s - loss: 0.0219 - accuracy: 0.9932 - val_loss: 2.4832 - val_accuracy: 0.6741\n",
      "Epoch 2/20\n",
      "7936/7936 - 2s - loss: 0.0353 - accuracy: 0.9889 - val_loss: 2.5914 - val_accuracy: 0.6665\n",
      "Epoch 3/20\n",
      "7936/7936 - 2s - loss: 0.0368 - accuracy: 0.9888 - val_loss: 2.4461 - val_accuracy: 0.6685\n",
      "Epoch 4/20\n",
      "7936/7936 - 2s - loss: 0.0239 - accuracy: 0.9929 - val_loss: 2.2902 - val_accuracy: 0.6670\n",
      "Epoch 5/20\n",
      "7936/7936 - 2s - loss: 0.0217 - accuracy: 0.9922 - val_loss: 3.1635 - val_accuracy: 0.6257\n",
      "Epoch 6/20\n",
      "7936/7936 - 2s - loss: 0.0351 - accuracy: 0.9885 - val_loss: 2.2384 - val_accuracy: 0.6574\n",
      "Epoch 7/20\n",
      "7936/7936 - 2s - loss: 0.0341 - accuracy: 0.9900 - val_loss: 2.3940 - val_accuracy: 0.6584\n",
      "Epoch 8/20\n",
      "7936/7936 - 2s - loss: 0.0209 - accuracy: 0.9941 - val_loss: 2.6893 - val_accuracy: 0.6166\n",
      "Epoch 9/20\n",
      "7936/7936 - 1s - loss: 0.0340 - accuracy: 0.9893 - val_loss: 2.8008 - val_accuracy: 0.6610\n",
      "Epoch 10/20\n",
      "7936/7936 - 2s - loss: 0.0393 - accuracy: 0.9885 - val_loss: 2.2323 - val_accuracy: 0.6660\n",
      "Epoch 11/20\n",
      "7936/7936 - 2s - loss: 0.0178 - accuracy: 0.9946 - val_loss: 2.6086 - val_accuracy: 0.6730\n",
      "Epoch 12/20\n",
      "7936/7936 - 2s - loss: 0.0201 - accuracy: 0.9943 - val_loss: 2.0230 - val_accuracy: 0.6574\n",
      "Epoch 13/20\n",
      "7936/7936 - 2s - loss: 0.0340 - accuracy: 0.9917 - val_loss: 2.5751 - val_accuracy: 0.6625\n",
      "Epoch 14/20\n",
      "7936/7936 - 2s - loss: 0.0391 - accuracy: 0.9887 - val_loss: 3.2202 - val_accuracy: 0.6101\n",
      "Epoch 15/20\n",
      "7936/7936 - 2s - loss: 0.0355 - accuracy: 0.9888 - val_loss: 2.3855 - val_accuracy: 0.6655\n",
      "Epoch 16/20\n",
      "7936/7936 - 2s - loss: 0.0218 - accuracy: 0.9924 - val_loss: 2.4312 - val_accuracy: 0.6615\n",
      "Epoch 17/20\n",
      "7936/7936 - 2s - loss: 0.0206 - accuracy: 0.9936 - val_loss: 2.3900 - val_accuracy: 0.6574\n",
      "Epoch 18/20\n",
      "7936/7936 - 1s - loss: 0.0163 - accuracy: 0.9950 - val_loss: 2.6565 - val_accuracy: 0.6645\n",
      "Epoch 19/20\n",
      "7936/7936 - 1s - loss: 0.0347 - accuracy: 0.9900 - val_loss: 2.7988 - val_accuracy: 0.6448\n",
      "Epoch 20/20\n",
      "7936/7936 - 2s - loss: 0.0262 - accuracy: 0.9924 - val_loss: 2.5529 - val_accuracy: 0.6630\n"
     ]
    }
   ],
   "source": [
    "model3_5=load_model('model3_4.h5')\n",
    "\n",
    "model_checkpoint_callback3_5 = tf.keras.callbacks.ModelCheckpoint(\n",
    "    filepath=\"C:/Users/dsh/Desktop/Papers/paper3/fish - Copy/model3_5\",\n",
    "    save_weights_only=False,\n",
    "    monitor='val_accuracy',\n",
    "    mode='max',\n",
    "    save_best_only=True)\n",
    "\n",
    "history3_5 = model3_5.fit(input_train[:,:,:,2], target_train,\n",
    "            batch_size=16,\n",
    "            epochs=20,\n",
    "            verbose=2,\n",
    "            validation_split=validation_split,\n",
    "                          callbacks=[model_checkpoint_callback3_5])\n",
    "model3_5.save('model3_5.h5')\n",
    "\n",
    "model3_5_max=load_model(\"C:/Users/dsh/Desktop/Papers/paper3/fish - Copy/model3_5\")\n",
    "pred3_5=model3_5_max.predict(input_test[:,:,:,2])\n"
   ]
  },
  {
   "cell_type": "code",
   "execution_count": 131,
   "metadata": {},
   "outputs": [
    {
     "name": "stdout",
     "output_type": "stream",
     "text": [
      "0.6306666666666667\n"
     ]
    }
   ],
   "source": [
    "accuracy_from_test(pred3_5, target_test)"
   ]
  },
  {
   "cell_type": "code",
   "execution_count": 32,
   "metadata": {},
   "outputs": [
    {
     "name": "stdout",
     "output_type": "stream",
     "text": [
      "WARNING:tensorflow:SavedModel saved prior to TF 2.5 detected when loading Keras model. Please ensure that you are saving the model with model.save() or tf.keras.models.save_model(), *NOT* tf.saved_model.save(). To confirm, there should be a file named \"keras_metadata.pb\" in the SavedModel directory.\n",
      "47/47 [==============================] - 0s 8ms/step\n",
      "WARNING:tensorflow:SavedModel saved prior to TF 2.5 detected when loading Keras model. Please ensure that you are saving the model with model.save() or tf.keras.models.save_model(), *NOT* tf.saved_model.save(). To confirm, there should be a file named \"keras_metadata.pb\" in the SavedModel directory.\n",
      "47/47 [==============================] - 0s 1ms/step\n",
      "WARNING:tensorflow:SavedModel saved prior to TF 2.5 detected when loading Keras model. Please ensure that you are saving the model with model.save() or tf.keras.models.save_model(), *NOT* tf.saved_model.save(). To confirm, there should be a file named \"keras_metadata.pb\" in the SavedModel directory.\n",
      "47/47 [==============================] - 0s 1ms/step\n",
      "WARNING:tensorflow:SavedModel saved prior to TF 2.5 detected when loading Keras model. Please ensure that you are saving the model with model.save() or tf.keras.models.save_model(), *NOT* tf.saved_model.save(). To confirm, there should be a file named \"keras_metadata.pb\" in the SavedModel directory.\n",
      "47/47 [==============================] - 0s 1ms/step\n",
      "WARNING:tensorflow:SavedModel saved prior to TF 2.5 detected when loading Keras model. Please ensure that you are saving the model with model.save() or tf.keras.models.save_model(), *NOT* tf.saved_model.save(). To confirm, there should be a file named \"keras_metadata.pb\" in the SavedModel directory.\n",
      "47/47 [==============================] - 0s 1ms/step\n"
     ]
    }
   ],
   "source": [
    "model3_1_max=load_model(\"D:/Users/dsh/Desktop/desktop/Papers/paper3/bee_wasp/model3_1\")\n",
    "pred3_1=model3_1_max.predict(input_test[:,:,:,2])\n",
    "\n",
    "model3_2_max=load_model(\"D:/Users/dsh/Desktop/desktop/Papers/paper3/bee_wasp/model3_2\")\n",
    "pred3_2=model3_2_max.predict(input_test[:,:,:,2])\n",
    "\n",
    "model3_3_max=load_model(\"D:/Users/dsh/Desktop/desktop/Papers/paper3/bee_wasp/model3_3\")\n",
    "pred3_3=model3_3_max.predict(input_test[:,:,:,2])\n",
    "\n",
    "model3_4_max=load_model(\"D:/Users/dsh/Desktop/desktop/Papers/paper3/bee_wasp/model3_4\")\n",
    "pred3_4=model3_4_max.predict(input_test[:,:,:,2])\n",
    "\n",
    "model3_5_max=load_model(\"D:/Users/dsh/Desktop/desktop/Papers/paper3/bee_wasp/model3_5\")\n",
    "pred3_5=model3_5_max.predict(input_test[:,:,:,2])"
   ]
  },
  {
   "cell_type": "code",
   "execution_count": 41,
   "metadata": {},
   "outputs": [
    {
     "name": "stdout",
     "output_type": "stream",
     "text": [
      "0.6553333333333333\n"
     ]
    }
   ],
   "source": [
    "accuracy_from_test(pred3_1, target_test)"
   ]
  },
  {
   "cell_type": "code",
   "execution_count": 42,
   "metadata": {},
   "outputs": [
    {
     "name": "stdout",
     "output_type": "stream",
     "text": [
      "0.8406666666666667\n"
     ]
    }
   ],
   "source": [
    "accuracy_from_test(pred3_2, target_test)"
   ]
  },
  {
   "cell_type": "code",
   "execution_count": 43,
   "metadata": {},
   "outputs": [
    {
     "name": "stdout",
     "output_type": "stream",
     "text": [
      "0.8733333333333333\n"
     ]
    }
   ],
   "source": [
    "accuracy_from_test(pred3_3, target_test)"
   ]
  },
  {
   "cell_type": "code",
   "execution_count": 44,
   "metadata": {},
   "outputs": [
    {
     "name": "stdout",
     "output_type": "stream",
     "text": [
      "0.8913333333333333\n"
     ]
    }
   ],
   "source": [
    "accuracy_from_test(pred3_4, target_test)"
   ]
  },
  {
   "cell_type": "code",
   "execution_count": 45,
   "metadata": {},
   "outputs": [
    {
     "name": "stdout",
     "output_type": "stream",
     "text": [
      "0.8886666666666667\n"
     ]
    }
   ],
   "source": [
    "accuracy_from_test(pred3_5, target_test)"
   ]
  },
  {
   "cell_type": "code",
   "execution_count": 33,
   "metadata": {},
   "outputs": [],
   "source": [
    "c=pred3_3+pred3_5+pred3_1+pred3_2+pred3_4"
   ]
  },
  {
   "cell_type": "code",
   "execution_count": 51,
   "metadata": {},
   "outputs": [
    {
     "name": "stdout",
     "output_type": "stream",
     "text": [
      "0.8993333333333333\n"
     ]
    }
   ],
   "source": [
    "accuracy_from_test(c, target_test)"
   ]
  },
  {
   "cell_type": "code",
   "execution_count": null,
   "metadata": {},
   "outputs": [],
   "source": []
  },
  {
   "cell_type": "code",
   "execution_count": 52,
   "metadata": {},
   "outputs": [
    {
     "name": "stdout",
     "output_type": "stream",
     "text": [
      "0.912\n"
     ]
    }
   ],
   "source": [
    "accuracy_from_test(b, target_test)"
   ]
  },
  {
   "cell_type": "code",
   "execution_count": 53,
   "metadata": {},
   "outputs": [
    {
     "name": "stdout",
     "output_type": "stream",
     "text": [
      "0.9193333333333333\n"
     ]
    }
   ],
   "source": [
    "accuracy_from_test(ghhh, target_test)"
   ]
  },
  {
   "cell_type": "code",
   "execution_count": 54,
   "metadata": {},
   "outputs": [
    {
     "name": "stdout",
     "output_type": "stream",
     "text": [
      "0.924\n"
     ]
    }
   ],
   "source": [
    "accuracy_from_test(b+ghhh, target_test) #####################final ensemble##############"
   ]
  },
  {
   "cell_type": "code",
   "execution_count": 55,
   "metadata": {},
   "outputs": [
    {
     "name": "stdout",
     "output_type": "stream",
     "text": [
      "0.9226666666666666\n"
     ]
    }
   ],
   "source": [
    "accuracy_from_test(c+b+ghhh, target_test)"
   ]
  },
  {
   "cell_type": "code",
   "execution_count": 56,
   "metadata": {},
   "outputs": [
    {
     "name": "stdout",
     "output_type": "stream",
     "text": [
      "0.93\n"
     ]
    }
   ],
   "source": [
    "accuracy_from_test(a, target_test)"
   ]
  },
  {
   "cell_type": "code",
   "execution_count": 62,
   "metadata": {},
   "outputs": [
    {
     "name": "stdout",
     "output_type": "stream",
     "text": [
      "0.93\n"
     ]
    }
   ],
   "source": [
    "accuracy_from_test(a, target_test)"
   ]
  },
  {
   "cell_type": "code",
   "execution_count": 34,
   "metadata": {},
   "outputs": [
    {
     "name": "stdout",
     "output_type": "stream",
     "text": [
      "precision 0.9739535\n",
      "recall 0.97214484\n",
      "f1 0.973953462820459\n"
     ]
    }
   ],
   "source": [
    "m=tf.keras.metrics.Precision()\n",
    "x=a+c+b+ghhh\n",
    "pred=np.argmax(x, axis=1)\n",
    "# x.shape\n",
    "# a=pred\n",
    "m.update_state(pred, target_test)\n",
    "print(\"precision\", m.result().numpy())\n",
    "\n",
    "n=tf.keras.metrics.Recall()\n",
    "n.update_state(pred, target_test)\n",
    "print(\"recall\", n.result().numpy())\n",
    "\n",
    "\n",
    "print(\"f1\",2*(n.result().numpy()*m.result().numpy())/(n.result().numpy()+n.result().numpy()) )"
   ]
  },
  {
   "cell_type": "code",
   "execution_count": 82,
   "metadata": {},
   "outputs": [],
   "source": [
    "p=b+c+ghhh"
   ]
  },
  {
   "cell_type": "code",
   "execution_count": 85,
   "metadata": {},
   "outputs": [
    {
     "name": "stdout",
     "output_type": "stream",
     "text": [
      "1500 1500\n",
      "pred1 unique adnvantage 0.004666666666666667\n",
      "None\n"
     ]
    }
   ],
   "source": [
    "print(define_space(p, a, target_test))"
   ]
  },
  {
   "cell_type": "code",
   "execution_count": 83,
   "metadata": {},
   "outputs": [],
   "source": [
    "for i in range(1500):\n",
    "    n=p[i].argsort()[-3:][::-1] #top 3 prediction indexes for i index picture\n",
    "    g, h,j,=n[0], n[1],n[2]\n",
    "    a[i][g]+=p[i][g]\n",
    "    a[i][h]+=p[i][h]\n",
    "    a[i][j]+=p[i][j]"
   ]
  },
  {
   "cell_type": "code",
   "execution_count": 78,
   "metadata": {},
   "outputs": [],
   "source": []
  },
  {
   "cell_type": "code",
   "execution_count": 84,
   "metadata": {},
   "outputs": [
    {
     "name": "stdout",
     "output_type": "stream",
     "text": [
      "0.9246666666666666\n",
      "0.912\n",
      "0.8993333333333333\n",
      "None None None\n"
     ]
    }
   ],
   "source": [
    "print(accuracy_from_test(a, target_test),    accuracy_from_test(b, target_test), accuracy_from_test(c, target_test))"
   ]
  },
  {
   "cell_type": "code",
   "execution_count": 146,
   "metadata": {},
   "outputs": [
    {
     "data": {
      "text/plain": [
       "[1.1891854718447692,\n",
       " 0.8744991989505868,\n",
       " 0.8146386583966594,\n",
       " 0.7571369937110332,\n",
       " 0.700454454148008]"
      ]
     },
     "execution_count": 146,
     "metadata": {},
     "output_type": "execute_result"
    }
   ],
   "source": [
    "history3_1.history['loss']"
   ]
  },
  {
   "cell_type": "code",
   "execution_count": 147,
   "metadata": {},
   "outputs": [
    {
     "data": {
      "text/plain": [
       "[1.3261735070947211,\n",
       " 0.9878702164324991,\n",
       " 0.8391956981055683,\n",
       " 0.9539350040573674,\n",
       " 0.849571191874199]"
      ]
     },
     "execution_count": 147,
     "metadata": {},
     "output_type": "execute_result"
    }
   ],
   "source": [
    "history3_1.history['val_loss']"
   ]
  },
  {
   "cell_type": "code",
   "execution_count": 148,
   "metadata": {},
   "outputs": [
    {
     "data": {
      "text/plain": [
       "[0.6367068468563019,\n",
       " 0.5346439447584411,\n",
       " 0.4372724345885217,\n",
       " 0.3070658747362153,\n",
       " 0.23254250889388664]"
      ]
     },
     "execution_count": 148,
     "metadata": {},
     "output_type": "execute_result"
    }
   ],
   "source": [
    "history3_2=history3\n",
    "history3_2.history['loss']"
   ]
  },
  {
   "cell_type": "code",
   "execution_count": 149,
   "metadata": {},
   "outputs": [
    {
     "data": {
      "text/plain": [
       "[0.9633427894348161,\n",
       " 0.9531257602346223,\n",
       " 1.4774910955044724,\n",
       " 1.1841411833471902,\n",
       " 3.458970246086793]"
      ]
     },
     "execution_count": 149,
     "metadata": {},
     "output_type": "execute_result"
    }
   ],
   "source": [
    "history3_2.history['val_loss']"
   ]
  },
  {
   "cell_type": "code",
   "execution_count": 150,
   "metadata": {},
   "outputs": [
    {
     "data": {
      "text/plain": [
       "[0.16191601816512224,\n",
       " 0.14248128544028488,\n",
       " 0.09390752155934845,\n",
       " 0.08225834376559849,\n",
       " 0.07676851411933087,\n",
       " 0.07762603567372876,\n",
       " 0.06620936176184314,\n",
       " 0.08713611789496481,\n",
       " 0.05988631967533541,\n",
       " 0.04966074757436628]"
      ]
     },
     "execution_count": 150,
     "metadata": {},
     "output_type": "execute_result"
    }
   ],
   "source": [
    "history3_3.history['loss']"
   ]
  },
  {
   "cell_type": "code",
   "execution_count": 151,
   "metadata": {},
   "outputs": [
    {
     "data": {
      "text/plain": [
       "[1.6463852913613883,\n",
       " 1.6572381267019123,\n",
       " 1.9058998333717174,\n",
       " 1.877441498734789,\n",
       " 1.688170868894015,\n",
       " 4.1012298387003785,\n",
       " 2.1669763685774144,\n",
       " 2.0244316355707666,\n",
       " 1.873729639149433,\n",
       " 2.061290626727063]"
      ]
     },
     "execution_count": 151,
     "metadata": {},
     "output_type": "execute_result"
    }
   ],
   "source": [
    "history3_3.history['val_loss']"
   ]
  },
  {
   "cell_type": "code",
   "execution_count": 152,
   "metadata": {},
   "outputs": [
    {
     "data": {
      "text/plain": [
       "[0.033910669297975184,\n",
       " 0.059906415577800895,\n",
       " 0.05152977020691563,\n",
       " 0.04304730186506291,\n",
       " 0.033741050135492306,\n",
       " 0.05132920647909153,\n",
       " 0.049231113244753676,\n",
       " 0.02839190767013538,\n",
       " 0.024915625714144088,\n",
       " 0.043661827589463915,\n",
       " 0.06344216081487092,\n",
       " 0.043009043637117696,\n",
       " 0.030080768597960904,\n",
       " 0.028949050051410966,\n",
       " 0.024074514696576992]"
      ]
     },
     "execution_count": 152,
     "metadata": {},
     "output_type": "execute_result"
    }
   ],
   "source": [
    "history3_4.history['loss']"
   ]
  },
  {
   "cell_type": "code",
   "execution_count": 153,
   "metadata": {},
   "outputs": [
    {
     "data": {
      "text/plain": [
       "[1.8889307340987083,\n",
       " 3.750666441545078,\n",
       " 2.5196926466463796,\n",
       " 2.0537365470597666,\n",
       " 2.593317432667807,\n",
       " 2.421990367687619,\n",
       " 2.2002477409144494,\n",
       " 2.1948623455591707,\n",
       " 2.1873916824758806,\n",
       " 2.5793993744501837,\n",
       " 2.923718854221949,\n",
       " 2.181637776708723,\n",
       " 2.6172020832897736,\n",
       " 2.1178279733777945,\n",
       " 2.0239668718363237]"
      ]
     },
     "execution_count": 153,
     "metadata": {},
     "output_type": "execute_result"
    }
   ],
   "source": [
    "history3_4.history['val_loss']"
   ]
  },
  {
   "cell_type": "code",
   "execution_count": 154,
   "metadata": {},
   "outputs": [
    {
     "data": {
      "text/plain": [
       "[0.021873901720592556,\n",
       " 0.03529991847023534,\n",
       " 0.03675421047957952,\n",
       " 0.023888768668420594,\n",
       " 0.021651332477836883,\n",
       " 0.03513527016579862,\n",
       " 0.03409170335366833,\n",
       " 0.020925895726979008,\n",
       " 0.03404202370490251,\n",
       " 0.039251964902832476,\n",
       " 0.01777100869057519,\n",
       " 0.020072966597475504,\n",
       " 0.03396371335015677,\n",
       " 0.03914959028932502,\n",
       " 0.03554361237733001,\n",
       " 0.02175734367626737,\n",
       " 0.020611446482364227,\n",
       " 0.016268639837252772,\n",
       " 0.03468806005284146,\n",
       " 0.026209251306328857]"
      ]
     },
     "execution_count": 154,
     "metadata": {},
     "output_type": "execute_result"
    }
   ],
   "source": [
    "history3_5.history['loss']"
   ]
  },
  {
   "cell_type": "code",
   "execution_count": 155,
   "metadata": {},
   "outputs": [
    {
     "data": {
      "text/plain": [
       "[2.483206055446596,\n",
       " 2.5913652161807197,\n",
       " 2.4461385910584585,\n",
       " 2.2902471362193224,\n",
       " 3.163497834361771,\n",
       " 2.2383534220063717,\n",
       " 2.3940119472799135,\n",
       " 2.6893441531159716,\n",
       " 2.8007921811014937,\n",
       " 2.2322795418708092,\n",
       " 2.608559817045702,\n",
       " 2.023040310681917,\n",
       " 2.5751014936480776,\n",
       " 3.220241636112894,\n",
       " 2.385515708226701,\n",
       " 2.4311901257080155,\n",
       " 2.3900218118642043,\n",
       " 2.6565065831321313,\n",
       " 2.7987949272847596,\n",
       " 2.552930251837377]"
      ]
     },
     "execution_count": 155,
     "metadata": {},
     "output_type": "execute_result"
    }
   ],
   "source": [
    "history3_5.history['val_loss']"
   ]
  },
  {
   "cell_type": "code",
   "execution_count": 156,
   "metadata": {},
   "outputs": [
    {
     "data": {
      "text/plain": [
       "[0.5478831, 0.6155494, 0.6420111, 0.6708669, 0.70703125]"
      ]
     },
     "execution_count": 156,
     "metadata": {},
     "output_type": "execute_result"
    }
   ],
   "source": [
    "history3_1.history['accuracy']"
   ]
  },
  {
   "cell_type": "code",
   "execution_count": 157,
   "metadata": {},
   "outputs": [
    {
     "data": {
      "text/plain": [
       "[0.497733, 0.595466, 0.65188915, 0.58740556, 0.6463476]"
      ]
     },
     "execution_count": 157,
     "metadata": {},
     "output_type": "execute_result"
    }
   ],
   "source": [
    "history3_1.history['val_accuracy']"
   ]
  },
  {
   "cell_type": "code",
   "execution_count": 158,
   "metadata": {},
   "outputs": [
    {
     "data": {
      "text/plain": [
       "[0.7328629, 0.7798639, 0.82396674, 0.8824345, 0.9148185]"
      ]
     },
     "execution_count": 158,
     "metadata": {},
     "output_type": "execute_result"
    }
   ],
   "source": [
    "history3_2.history['accuracy']"
   ]
  },
  {
   "cell_type": "code",
   "execution_count": 159,
   "metadata": {},
   "outputs": [
    {
     "data": {
      "text/plain": [
       "[0.6387909, 0.66801006, 0.5843829, 0.67304784, 0.50125945]"
      ]
     },
     "execution_count": 159,
     "metadata": {},
     "output_type": "execute_result"
    }
   ],
   "source": [
    "history3_2.history['val_accuracy']"
   ]
  },
  {
   "cell_type": "code",
   "execution_count": null,
   "metadata": {},
   "outputs": [],
   "source": []
  },
  {
   "cell_type": "code",
   "execution_count": 160,
   "metadata": {},
   "outputs": [
    {
     "data": {
      "text/plain": [
       "[0.94291836,\n",
       " 0.94947076,\n",
       " 0.968876,\n",
       " 0.97215223,\n",
       " 0.9755544,\n",
       " 0.97265625,\n",
       " 0.9766885,\n",
       " 0.969632,\n",
       " 0.98021674,\n",
       " 0.9829889]"
      ]
     },
     "execution_count": 160,
     "metadata": {},
     "output_type": "execute_result"
    }
   ],
   "source": [
    "history3_3.history['accuracy']"
   ]
  },
  {
   "cell_type": "code",
   "execution_count": 161,
   "metadata": {},
   "outputs": [
    {
     "data": {
      "text/plain": [
       "[0.64483625,\n",
       " 0.6528967,\n",
       " 0.63576823,\n",
       " 0.65188915,\n",
       " 0.6574307,\n",
       " 0.5823678,\n",
       " 0.65390426,\n",
       " 0.6579345,\n",
       " 0.6534005,\n",
       " 0.6619647]"
      ]
     },
     "execution_count": 161,
     "metadata": {},
     "output_type": "execute_result"
    }
   ],
   "source": [
    "history3_3.history['val_accuracy']"
   ]
  },
  {
   "cell_type": "code",
   "execution_count": null,
   "metadata": {},
   "outputs": [],
   "source": []
  },
  {
   "cell_type": "code",
   "execution_count": 162,
   "metadata": {},
   "outputs": [
    {
     "data": {
      "text/plain": [
       "[0.9905494,\n",
       " 0.98072076,\n",
       " 0.984879,\n",
       " 0.98651713,\n",
       " 0.98790324,\n",
       " 0.98223287,\n",
       " 0.984879,\n",
       " 0.9915575,\n",
       " 0.9910534,\n",
       " 0.98828125,\n",
       " 0.98021674,\n",
       " 0.98689514,\n",
       " 0.98979336,\n",
       " 0.9913055,\n",
       " 0.9918095]"
      ]
     },
     "execution_count": 162,
     "metadata": {},
     "output_type": "execute_result"
    }
   ],
   "source": [
    "history3_4.history['accuracy']"
   ]
  },
  {
   "cell_type": "code",
   "execution_count": 163,
   "metadata": {},
   "outputs": [
    {
     "data": {
      "text/plain": [
       "[0.66549116,\n",
       " 0.57178843,\n",
       " 0.6478589,\n",
       " 0.6856423,\n",
       " 0.6534005,\n",
       " 0.6690176,\n",
       " 0.6765743,\n",
       " 0.67556673,\n",
       " 0.65894204,\n",
       " 0.65692693,\n",
       " 0.6433249,\n",
       " 0.66347605,\n",
       " 0.66095716,\n",
       " 0.6806045,\n",
       " 0.6831234]"
      ]
     },
     "execution_count": 163,
     "metadata": {},
     "output_type": "execute_result"
    }
   ],
   "source": [
    "history3_4.history['val_accuracy']"
   ]
  },
  {
   "cell_type": "code",
   "execution_count": 164,
   "metadata": {},
   "outputs": [
    {
     "data": {
      "text/plain": [
       "[0.9931956,\n",
       " 0.9889113,\n",
       " 0.98878527,\n",
       " 0.9929435,\n",
       " 0.9921875,\n",
       " 0.98853326,\n",
       " 0.99004537,\n",
       " 0.9940776,\n",
       " 0.98928934,\n",
       " 0.98853326,\n",
       " 0.99458164,\n",
       " 0.99432963,\n",
       " 0.9916835,\n",
       " 0.98865926,\n",
       " 0.98878527,\n",
       " 0.9924395,\n",
       " 0.9935736,\n",
       " 0.99495965,\n",
       " 0.99004537,\n",
       " 0.9924395]"
      ]
     },
     "execution_count": 164,
     "metadata": {},
     "output_type": "execute_result"
    }
   ],
   "source": [
    "history3_5.history['accuracy']"
   ]
  },
  {
   "cell_type": "code",
   "execution_count": 165,
   "metadata": {},
   "outputs": [
    {
     "data": {
      "text/plain": [
       "[0.6740554,\n",
       " 0.6664987,\n",
       " 0.66851383,\n",
       " 0.6670025,\n",
       " 0.62569267,\n",
       " 0.6574307,\n",
       " 0.65843827,\n",
       " 0.6166247,\n",
       " 0.66095716,\n",
       " 0.66599494,\n",
       " 0.67304784,\n",
       " 0.6574307,\n",
       " 0.6624685,\n",
       " 0.6100756,\n",
       " 0.66549116,\n",
       " 0.66146094,\n",
       " 0.6574307,\n",
       " 0.6644836,\n",
       " 0.64483625,\n",
       " 0.6629723]"
      ]
     },
     "execution_count": 165,
     "metadata": {},
     "output_type": "execute_result"
    }
   ],
   "source": [
    "history3_5.history['val_accuracy']"
   ]
  },
  {
   "cell_type": "code",
   "execution_count": null,
   "metadata": {},
   "outputs": [],
   "source": []
  },
  {
   "cell_type": "code",
   "execution_count": null,
   "metadata": {},
   "outputs": [],
   "source": []
  },
  {
   "cell_type": "markdown",
   "metadata": {},
   "source": [
    "#################################Final ensemble####################"
   ]
  },
  {
   "cell_type": "code",
   "execution_count": 166,
   "metadata": {},
   "outputs": [],
   "source": [
    "import numpy as np\n",
    "def accuracy_from_test(pred, target_test):\n",
    "    m=0\n",
    "    for i in range(1000):\n",
    "        if np.argmax(pred[i], axis=-1)==int(target_test[i]):\n",
    "            m+=1\n",
    "    print(m/1000)"
   ]
  },
  {
   "cell_type": "code",
   "execution_count": 167,
   "metadata": {},
   "outputs": [
    {
     "name": "stdout",
     "output_type": "stream",
     "text": [
      "0.622\n"
     ]
    }
   ],
   "source": [
    "accuracy_from_test(pred3_3, target_test)"
   ]
  },
  {
   "cell_type": "code",
   "execution_count": 168,
   "metadata": {},
   "outputs": [
    {
     "name": "stdout",
     "output_type": "stream",
     "text": [
      "0.699\n"
     ]
    }
   ],
   "source": [
    "accuracy_from_test(pred2_3, target_test)"
   ]
  },
  {
   "cell_type": "code",
   "execution_count": 169,
   "metadata": {},
   "outputs": [],
   "source": [
    "d=ghhh"
   ]
  },
  {
   "cell_type": "code",
   "execution_count": 170,
   "metadata": {},
   "outputs": [],
   "source": [
    "#choose the model before this final step ensemble\n",
    "for i in range(test_size):\n",
    "    n=np.argmax(b[i])\n",
    "    m=np.argmax(c[i])\n",
    "    \n",
    "    d[i][n]+=pred1_3[i][n]\n",
    "    d[i][m]+=pred3_3[i][m]\n",
    "    "
   ]
  },
  {
   "cell_type": "code",
   "execution_count": 171,
   "metadata": {},
   "outputs": [
    {
     "name": "stdout",
     "output_type": "stream",
     "text": [
      "0.736\n"
     ]
    }
   ],
   "source": [
    "accuracy_from_test(ghhh, target_test) ##################final result"
   ]
  },
  {
   "cell_type": "code",
   "execution_count": null,
   "metadata": {},
   "outputs": [],
   "source": []
  },
  {
   "cell_type": "code",
   "execution_count": null,
   "metadata": {},
   "outputs": [],
   "source": []
  },
  {
   "cell_type": "code",
   "execution_count": null,
   "metadata": {},
   "outputs": [],
   "source": []
  },
  {
   "cell_type": "code",
   "execution_count": null,
   "metadata": {},
   "outputs": [],
   "source": []
  },
  {
   "cell_type": "code",
   "execution_count": null,
   "metadata": {},
   "outputs": [],
   "source": []
  }
 ],
 "metadata": {
  "kernelspec": {
   "display_name": "Python 3 (ipykernel)",
   "language": "python",
   "name": "python3"
  },
  "language_info": {
   "codemirror_mode": {
    "name": "ipython",
    "version": 3
   },
   "file_extension": ".py",
   "mimetype": "text/x-python",
   "name": "python",
   "nbconvert_exporter": "python",
   "pygments_lexer": "ipython3",
   "version": "3.10.4"
  }
 },
 "nbformat": 4,
 "nbformat_minor": 4
}
